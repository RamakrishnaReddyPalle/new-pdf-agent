{
 "cells": [
  {
   "cell_type": "code",
   "execution_count": 1,
   "id": "48adb2c8",
   "metadata": {},
   "outputs": [
    {
     "name": "stdout",
     "output_type": "stream",
     "text": [
      "Project root: d:\\IIT BBS\\Job Resources\\Business Optima\\new-pdf-agent\n"
     ]
    }
   ],
   "source": [
    "# 0) bootstrap\n",
    "import os, sys\n",
    "from pathlib import Path\n",
    "ROOT = Path.cwd()\n",
    "while not (ROOT / \"pyproject.toml\").exists() and ROOT != ROOT.parent:\n",
    "    ROOT = ROOT.parent\n",
    "os.chdir(ROOT)\n",
    "if str(ROOT) not in sys.path:\n",
    "    sys.path.insert(0, str(ROOT))\n",
    "print(\"Project root:\", ROOT)"
   ]
  },
  {
   "cell_type": "code",
   "execution_count": 2,
   "id": "242bf9e8",
   "metadata": {},
   "outputs": [],
   "source": [
    "# 1) load cfg + ids\n",
    "from packages.core_config.config import load_yaml\n",
    "cfg = load_yaml(\"configs/providers.yaml\", \"configs/pipelines/generic_legal.yaml\")\n",
    "doc_id = \"NFS_2019\"\n",
    "artifacts_root = Path(\"data/artifacts\") / doc_id"
   ]
  },
  {
   "cell_type": "code",
   "execution_count": 3,
   "id": "08aeade7",
   "metadata": {},
   "outputs": [
    {
     "name": "stderr",
     "output_type": "stream",
     "text": [
      "d:\\Anaconda\\envs\\pdf-agent-2\\Lib\\site-packages\\sentence_transformers\\cross_encoder\\CrossEncoder.py:11: TqdmExperimentalWarning: Using `tqdm.autonotebook.tqdm` in notebook mode. Use `tqdm.tqdm` instead to force console mode (e.g. in jupyter console)\n",
      "  from tqdm.autonotebook import tqdm, trange\n"
     ]
    }
   ],
   "source": [
    "# 2) build config object\n",
    "from packages.retriever.reranker import (\n",
    "    RerankerConfig, RerankerMiningConfig, RerankerTrainConfig,\n",
    "    train_reranker, eval_mrr_at_10\n",
    ")\n",
    "\n",
    "rr = cfg.get(\"reranker\", {})\n",
    "rcfg = RerankerConfig(\n",
    "    enable=bool(rr.get(\"enable\", True)),\n",
    "    base_model_id=str(rr.get(\"base_model_id\", \"cross-encoder/ms-marco-MiniLM-L-6-v2\")),\n",
    "    base_model_local_dir=str(rr.get(\"base_model_local_dir\", \"\")),\n",
    "    output_root=str(rr.get(\"output_root\", \"data/reranker\")),\n",
    "    mining=RerankerMiningConfig(\n",
    "        topk_candidates=int(rr.get(\"mining\",{}).get(\"topk_candidates\", 30)),\n",
    "        negatives_per_pos=int(rr.get(\"mining\",{}).get(\"negatives_per_pos\", 4)),\n",
    "        min_question_len=int(rr.get(\"mining\",{}).get(\"min_question_len\", 8)),\n",
    "        max_pairs=int(rr.get(\"mining\",{}).get(\"max_pairs\", 2000)),\n",
    "        seed=int(rr.get(\"mining\",{}).get(\"seed\", 123)),\n",
    "    ),\n",
    "    train=RerankerTrainConfig(\n",
    "        epochs=int(rr.get(\"train\",{}).get(\"epochs\", 1)),\n",
    "        batch_size=int(rr.get(\"train\",{}).get(\"batch_size\", 16)),\n",
    "        lr=float(rr.get(\"train\",{}).get(\"lr\", 2.0e-5)),\n",
    "        warmup_steps=int(rr.get(\"train\",{}).get(\"warmup_steps\", 50)),\n",
    "        eval_ratio=float(rr.get(\"train\",{}).get(\"eval_ratio\", 0.1)),\n",
    "        seed=int(rr.get(\"train\",{}).get(\"seed\", 42)),\n",
    "    ),\n",
    ")"
   ]
  },
  {
   "cell_type": "code",
   "execution_count": 4,
   "id": "0d66224e",
   "metadata": {},
   "outputs": [
    {
     "data": {
      "application/vnd.jupyter.widget-view+json": {
       "model_id": "1018743cfeaf4a6f844aa54fd636fa0f",
       "version_major": 2,
       "version_minor": 0
      },
      "text/plain": [
       "Epoch:   0%|          | 0/1 [00:00<?, ?it/s]"
      ]
     },
     "metadata": {},
     "output_type": "display_data"
    },
    {
     "data": {
      "application/vnd.jupyter.widget-view+json": {
       "model_id": "3aabb3bbc2e44db4bc0a8a3ab504cef6",
       "version_major": 2,
       "version_minor": 0
      },
      "text/plain": [
       "Iteration:   0%|          | 0/20 [00:00<?, ?it/s]"
      ]
     },
     "metadata": {},
     "output_type": "display_data"
    },
    {
     "data": {
      "text/plain": [
       "{'id': 'd6810a4c',\n",
       " 'doc_id': 'NFS_2019',\n",
       " 'created_at': 1758292502,\n",
       " 'status': 'COMPLETED',\n",
       " 'run_dir': 'data\\\\reranker\\\\NFS_2019\\\\d22b1ac3',\n",
       " 'model_path': 'data\\\\reranker\\\\NFS_2019\\\\d22b1ac3\\\\model',\n",
       " 'base_model': 'cross-encoder/ms-marco-MiniLM-L-6-v2',\n",
       " 'train_stats': {'train_pairs': 63, 'eval_pairs': 7}}"
      ]
     },
     "execution_count": 4,
     "metadata": {},
     "output_type": "execute_result"
    }
   ],
   "source": [
    "# 3) train\n",
    "job = train_reranker(doc_id=doc_id, artifacts_root=artifacts_root, cfg=rcfg)\n",
    "job"
   ]
  },
  {
   "cell_type": "code",
   "execution_count": 5,
   "id": "d644f6be",
   "metadata": {},
   "outputs": [
    {
     "data": {
      "text/plain": [
       "{'mrr@10': 1.0, 'n': 7}"
      ]
     },
     "execution_count": 5,
     "metadata": {},
     "output_type": "execute_result"
    }
   ],
   "source": [
    "# 4) quick eval\n",
    "from pathlib import Path\n",
    "metrics = eval_mrr_at_10(doc_id, artifacts_root, Path(job[\"model_path\"]))\n",
    "metrics"
   ]
  }
 ],
 "metadata": {
  "kernelspec": {
   "display_name": "pdf-agent-2",
   "language": "python",
   "name": "python3"
  },
  "language_info": {
   "codemirror_mode": {
    "name": "ipython",
    "version": 3
   },
   "file_extension": ".py",
   "mimetype": "text/x-python",
   "name": "python",
   "nbconvert_exporter": "python",
   "pygments_lexer": "ipython3",
   "version": "3.11.13"
  }
 },
 "nbformat": 4,
 "nbformat_minor": 5
}

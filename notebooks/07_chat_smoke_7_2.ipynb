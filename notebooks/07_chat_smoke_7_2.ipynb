{
 "cells": [
  {
   "cell_type": "code",
   "execution_count": 1,
   "id": "4c0a2149",
   "metadata": {},
   "outputs": [
    {
     "name": "stdout",
     "output_type": "stream",
     "text": [
      "Project root: d:\\IIT BBS\\Job Resources\\Business Optima\\new-pdf-agent\n"
     ]
    }
   ],
   "source": [
    "# --- 0) bootstrap (same as 7.1) ---\n",
    "import os, sys\n",
    "from pathlib import Path\n",
    "ROOT = Path.cwd()\n",
    "while not (ROOT / \"pyproject.toml\").exists() and ROOT != ROOT.parent:\n",
    "    ROOT = ROOT.parent\n",
    "os.chdir(ROOT)\n",
    "if str(ROOT) not in sys.path:\n",
    "    sys.path.insert(0, str(ROOT))\n",
    "print(\"Project root:\", ROOT)\n",
    "\n",
    "DOC_ID = \"NFS_2019\"\n",
    "ARTIFACTS_ROOT = Path(\"data/artifacts\")"
   ]
  },
  {
   "cell_type": "code",
   "execution_count": 2,
   "id": "fabe6628",
   "metadata": {},
   "outputs": [
    {
     "name": "stderr",
     "output_type": "stream",
     "text": [
      "d:\\IIT BBS\\Job Resources\\Business Optima\\new-pdf-agent\\packages\\chat\\models.py:164: LangChainDeprecationWarning: The class `ChatOllama` was deprecated in LangChain 0.3.1 and will be removed in 1.0.0. An updated version of the class exists in the :class:`~langchain-ollama package and should be used instead. To use it run `pip install -U :class:`~langchain-ollama` and import as `from :class:`~langchain_ollama import ChatOllama``.\n",
      "  return ChatOllama(\n",
      "The 8-bit optimizer is not available on your device, only available on CUDA for now.\n"
     ]
    },
    {
     "name": "stdout",
     "output_type": "stream",
     "text": [
      "Mounted: NFS_2019 collection: NFS_2019\n"
     ]
    }
   ],
   "source": [
    "# --- 1) mount chat (re-uses your 7.1 code) ---\n",
    "from packages.chat.router import mount_chat\n",
    "mount = mount_chat(DOC_ID)\n",
    "print(\"Mounted:\", mount.profile.doc_id, \"collection:\", mount.profile.collection)"
   ]
  },
  {
   "cell_type": "code",
   "execution_count": 3,
   "id": "15ed51e2",
   "metadata": {},
   "outputs": [
    {
     "name": "stdout",
     "output_type": "stream",
     "text": [
      "sections:\n",
      " - FEE SCHEDULE > COPYRIGHT\n",
      "- FEE SCHEDULE > FILING NOTICE\n",
      "- FEE SCHEDULE > AMERICAN MEDICAL ASSOCIATION NOTICE \n",
      "\n",
      "abbreviations:\n",
      " - (no glossary section found)\n"
     ]
    }
   ],
   "source": [
    "# --- 2) Build light 'sections' and 'abbreviations' strings for intro guard ---\n",
    "# Heuristic fallback: gather distinct heading_path values from a quick search.\n",
    "hits = mount.retriever.search(\"table of contents OR introduction OR overview OR definitions\")\n",
    "seen = set()\n",
    "sections_list = []\n",
    "for h in hits:\n",
    "    hp = (h.get(\"metadata\", {}) or {}).get(\"heading_path\")\n",
    "    if hp and hp not in seen:\n",
    "        sections_list.append(f\"- {hp}\")\n",
    "        seen.add(hp)\n",
    "    if len(sections_list) >= 8:\n",
    "        break\n",
    "\n",
    "sections_text = \"\\n\".join(sections_list) or \"- (no headings found in quick probe)\"\n",
    "\n",
    "# Abbreviations: if you have a stored glossary, load it here; else simple fallback.\n",
    "abbrev_guess = mount.retriever.search(\"abbreviations OR glossary OR definitions\")\n",
    "abbr_seen, abbr_list = set(), []\n",
    "for h in abbrev_guess:\n",
    "    hp = (h.get(\"metadata\", {}) or {}).get(\"heading_path\")\n",
    "    if hp and (\"GLOSSARY\" in hp.upper() or \"ABBREVIATION\" in hp.upper()):\n",
    "        if hp not in abbr_seen:\n",
    "            abbr_list.append(f\"- {hp}\")\n",
    "            abbr_seen.add(hp)\n",
    "    if len(abbr_list) >= 6:\n",
    "        break\n",
    "\n",
    "abbreviations_text = \"\\n\".join(abbr_list) or \"- (no glossary section found)\"\n",
    "print(\"sections:\\n\", sections_text, \"\\n\\nabbreviations:\\n\", abbreviations_text)"
   ]
  },
  {
   "cell_type": "code",
   "execution_count": 4,
   "id": "8421ad3b",
   "metadata": {},
   "outputs": [
    {
     "name": "stdout",
     "output_type": "stream",
     "text": [
      "\n",
      "Q: What are the Section 3 fees?\n",
      "→ prefilter: {'ok': True, 'reason': 'ok'}\n",
      "→ decision: {'in_scope': True, 'intent': 'table', 'reason': 'Section 3 fees are listed in the FEE SCHEDULE section of the document.', 'rewritten': 'What are the Section 3 fees?'}\n",
      "\n",
      "Q: Compute the reimbursement using the table in section N 25 8 28 3 for code 12345.\n",
      "→ prefilter: {'ok': True, 'reason': 'ok'}\n",
      "→ decision: {'in_scope': True, 'intent': 'table', 'reason': 'Section N 25 8 28 3 contains the reimbursement rates for code 12345.', 'rewritten': 'Compute the reimbursement using the table in section N 25 8 28 3 for code 12345.'}\n",
      "\n",
      "Q: Who won the Premier League in 2021?\n",
      "→ prefilter: {'ok': True, 'reason': 'ok'}\n",
      "→ decision: {'in_scope': False, 'intent': 'other', 'reason': 'This document does not contain information about sports or specific events.', 'rewritten': 'Who won the Premier League in 2021?'}\n",
      "\n",
      "Q: Define 'conversion factor' used in this document.\n",
      "→ prefilter: {'ok': True, 'reason': 'ok'}\n",
      "→ decision: {'in_scope': True, 'intent': 'glossary', 'reason': '', 'rewritten': \"Define 'conversion factor' used in this document.\"}\n",
      "\n",
      "Q: What's the PDF version and publication year?\n",
      "→ prefilter: {'ok': True, 'reason': 'ok'}\n",
      "→ decision: {'in_scope': True, 'intent': 'meta', 'reason': '', 'rewritten': \"What's the PDF version and publication year?\"}\n"
     ]
    }
   ],
   "source": [
    "# --- 3) Guardrail call (structured) ---\n",
    "from packages.chat.guardrails import route_scope\n",
    "\n",
    "def try_guard(q: str):\n",
    "    result = route_scope(\n",
    "        mount.llm_intro,\n",
    "        doc_id=mount.profile.doc_id,\n",
    "        sections_text=sections_text,\n",
    "        abbreviations_text=abbreviations_text,\n",
    "        user_query=q,\n",
    "    )\n",
    "    return result\n",
    "\n",
    "tests = [\n",
    "    \"What are the Section 3 fees?\",\n",
    "    \"Compute the reimbursement using the table in section N 25 8 28 3 for code 12345.\",\n",
    "    \"Who won the Premier League in 2021?\",  # out-of-scope\n",
    "    \"Define 'conversion factor' used in this document.\",\n",
    "    \"What's the PDF version and publication year?\",\n",
    "]\n",
    "\n",
    "for q in tests:\n",
    "    r = try_guard(q)\n",
    "    print(f\"\\nQ: {q}\\n→ prefilter: {r['prefilter']}\\n→ decision: {r['decision']}\")"
   ]
  },
  {
   "cell_type": "code",
   "execution_count": 6,
   "id": "e227c858",
   "metadata": {},
   "outputs": [
    {
     "ename": "AssertionError",
     "evalue": "Sports Q should be out-of-scope",
     "output_type": "error",
     "traceback": [
      "\u001b[31m---------------------------------------------------------------------------\u001b[39m",
      "\u001b[31mAssertionError\u001b[39m                            Traceback (most recent call last)",
      "\u001b[36mCell\u001b[39m\u001b[36m \u001b[39m\u001b[32mIn[6]\u001b[39m\u001b[32m, line 5\u001b[39m\n\u001b[32m      1\u001b[39m \u001b[38;5;66;03m# --- 4) Assertions for CI-ish sanity ---\u001b[39;00m\n\u001b[32m      2\u001b[39m outcomes = [try_guard(\u001b[33m\"\u001b[39m\u001b[33mWho won the Premier League in 2021?\u001b[39m\u001b[33m\"\u001b[39m),\n\u001b[32m      3\u001b[39m             try_guard(\u001b[33m\"\u001b[39m\u001b[33mWhat are the Section 3 fees?\u001b[39m\u001b[33m\"\u001b[39m)]\n\u001b[32m----> \u001b[39m\u001b[32m5\u001b[39m \u001b[38;5;28;01massert\u001b[39;00m outcomes[\u001b[32m0\u001b[39m][\u001b[33m\"\u001b[39m\u001b[33mdecision\u001b[39m\u001b[33m\"\u001b[39m][\u001b[33m\"\u001b[39m\u001b[33min_scope\u001b[39m\u001b[33m\"\u001b[39m] \u001b[38;5;129;01mis\u001b[39;00m \u001b[38;5;28;01mFalse\u001b[39;00m, \u001b[33m\"\u001b[39m\u001b[33mSports Q should be out-of-scope\u001b[39m\u001b[33m\"\u001b[39m\n\u001b[32m      6\u001b[39m \u001b[38;5;28;01massert\u001b[39;00m outcomes[\u001b[32m1\u001b[39m][\u001b[33m\"\u001b[39m\u001b[33mdecision\u001b[39m\u001b[33m\"\u001b[39m][\u001b[33m\"\u001b[39m\u001b[33min_scope\u001b[39m\u001b[33m\"\u001b[39m] \u001b[38;5;129;01mis\u001b[39;00m \u001b[38;5;28;01mTrue\u001b[39;00m, \u001b[33m\"\u001b[39m\u001b[33mSection 3 fees should be in-scope\u001b[39m\u001b[33m\"\u001b[39m\n\u001b[32m      7\u001b[39m \u001b[38;5;28mprint\u001b[39m(\u001b[33m\"\u001b[39m\u001b[33mBasic guardrail assertions passed.\u001b[39m\u001b[33m\"\u001b[39m)\n",
      "\u001b[31mAssertionError\u001b[39m: Sports Q should be out-of-scope"
     ]
    }
   ],
   "source": [
    "# --- 4) Assertions for CI-ish sanity ---\n",
    "outcomes = [try_guard(\"Who won the Premier League in 2021?\"),\n",
    "            try_guard(\"What are the Section 3 fees?\")]\n",
    "\n",
    "assert outcomes[0][\"decision\"][\"in_scope\"] is False, \"Sports Q should be out-of-scope\"\n",
    "assert outcomes[1][\"decision\"][\"in_scope\"] is True, \"Section 3 fees should be in-scope\"\n",
    "print(\"Basic guardrail assertions passed.\")"
   ]
  },
  {
   "cell_type": "code",
   "execution_count": null,
   "id": "7ead2ed9",
   "metadata": {},
   "outputs": [],
   "source": []
  }
 ],
 "metadata": {
  "kernelspec": {
   "display_name": "pdf-agent-2",
   "language": "python",
   "name": "python3"
  },
  "language_info": {
   "codemirror_mode": {
    "name": "ipython",
    "version": 3
   },
   "file_extension": ".py",
   "mimetype": "text/x-python",
   "name": "python",
   "nbconvert_exporter": "python",
   "pygments_lexer": "ipython3",
   "version": "3.11.13"
  }
 },
 "nbformat": 4,
 "nbformat_minor": 5
}

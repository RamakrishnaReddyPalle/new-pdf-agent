{
 "cells": [
  {
   "cell_type": "code",
   "execution_count": 1,
   "id": "f489dcb3",
   "metadata": {},
   "outputs": [
    {
     "name": "stdout",
     "output_type": "stream",
     "text": [
      "Project root: d:\\IIT BBS\\Job Resources\\Business Optima\\new-pdf-agent\n"
     ]
    }
   ],
   "source": [
    "# --- 0) bootstrap monorepo root & sys.path ---\n",
    "import os, sys\n",
    "from pathlib import Path\n",
    "\n",
    "ROOT = Path.cwd()\n",
    "while not (ROOT / \"pyproject.toml\").exists() and ROOT != ROOT.parent:\n",
    "    ROOT = ROOT.parent\n",
    "os.chdir(ROOT)\n",
    "if str(ROOT) not in sys.path:\n",
    "    sys.path.insert(0, str(ROOT))\n",
    "\n",
    "print(\"Project root:\", ROOT)"
   ]
  },
  {
   "cell_type": "code",
   "execution_count": 2,
   "id": "2a592e06",
   "metadata": {},
   "outputs": [],
   "source": [
    "# --- 1) imports & small helpers ---\n",
    "# pyyaml is needed by the prompt pack registry; install if missing\n",
    "try:\n",
    "    import yaml  # type: ignore\n",
    "except Exception:\n",
    "    import subprocess, sys as _sys\n",
    "    subprocess.check_call([_sys.executable, \"-m\", \"pip\", \"install\", \"pyyaml\"])\n",
    "    import yaml  # type: ignore\n",
    "\n",
    "import json\n",
    "from pathlib import Path\n",
    "\n",
    "from packages.core_config.config import load_yaml\n",
    "from packages.sft.generate_pairs import SFTGenConfig, generate_pairs\n",
    "\n",
    "def peek_jsonl(path: Path, n: int = 3):\n",
    "    print(f\"\\n# peek -> {path}\")\n",
    "    try:\n",
    "        with path.open(\"r\", encoding=\"utf-8\") as f:\n",
    "            for i, line in enumerate(f, 1):\n",
    "                if i > n: break\n",
    "                print(line.rstrip()[:300])\n",
    "    except FileNotFoundError:\n",
    "        print(\"  (not found)\")"
   ]
  },
  {
   "cell_type": "code",
   "execution_count": 3,
   "id": "0ab455df",
   "metadata": {},
   "outputs": [
    {
     "name": "stdout",
     "output_type": "stream",
     "text": [
      "doc_id: NFS_2019\n",
      "artifacts_root exists: True\n"
     ]
    }
   ],
   "source": [
    "# --- 2) choose document (same one you used in Phase 1) ---\n",
    "from pathlib import Path\n",
    "\n",
    "pdf_path = Path(\"data/raw/NFS_2019.pdf\")\n",
    "if not pdf_path.exists():\n",
    "    # fallback: first PDF in data/raw\n",
    "    cand = sorted(Path(\"data/raw\").glob(\"*.pdf\"))\n",
    "    assert cand, \"No PDFs in data/raw/\"\n",
    "    pdf_path = cand[0]\n",
    "\n",
    "doc_id = pdf_path.stem\n",
    "artifacts_root = Path(f\"data/artifacts/{doc_id}\")\n",
    "\n",
    "print(\"doc_id:\", doc_id)\n",
    "print(\"artifacts_root exists:\", artifacts_root.exists())"
   ]
  },
  {
   "cell_type": "code",
   "execution_count": 4,
   "id": "41daa3c4",
   "metadata": {},
   "outputs": [
    {
     "name": "stdout",
     "output_type": "stream",
     "text": [
      "prompts_yaml: D:\\IIT BBS\\Job Resources\\Business Optima\\new-pdf-agent\\configs\\pipelines\\prompts\\default.yaml\n"
     ]
    }
   ],
   "source": [
    "# --- 3) load pipeline & provider YAMLs ---\n",
    "cfg = load_yaml(\"configs/providers.yaml\", \"configs/pipelines/generic_legal.yaml\")\n",
    "\n",
    "# where the prompt pack lives (with profiles + detection rules)\n",
    "prompts_yaml_path = Path(\n",
    "    cfg.get(\"sft.generation.prompts_yaml\", \"configs/pipelines/prompts/default.yaml\")\n",
    ").resolve()\n",
    "print(\"prompts_yaml:\", prompts_yaml_path)\n",
    "assert prompts_yaml_path.exists(), \"Prompt pack YAML missing.\"\n",
    "\n",
    "# pull 'detection' block from the prompt pack for auto profile selection\n",
    "with prompts_yaml_path.open(\"r\", encoding=\"utf-8\") as f:\n",
    "    prompts_yaml = yaml.safe_load(f) or {}\n",
    "detection_rules = prompts_yaml.get(\"detection\", {}) or {}"
   ]
  },
  {
   "cell_type": "code",
   "execution_count": 5,
   "id": "a706de5d",
   "metadata": {},
   "outputs": [
    {
     "data": {
      "text/plain": [
       "SFTGenConfig(max_qa=40, max_summary=8, seed=13, min_chunk_chars=300, max_chunk_chars=1600, dedup_regex='\\\\s+', use_llm=True, llm_provider='ollama', llm_model='llama3.2:latest', llm_url='http://localhost:11434', llm_temperature=0.4, llm_max_new_tokens=256, llm_connect_timeout=30, llm_timeout_sec=600, llm_retries=1, llm_healthcheck=True, llm_warmup=True, summary_source='nodes', summary_target_len=1200, prompts_yaml=WindowsPath('D:/IIT BBS/Job Resources/Business Optima/new-pdf-agent/configs/pipelines/prompts/default.yaml'), profile_rules_from_prompts_yaml=True, profile_rules={'default': 'generic', 'profiles': {'fee_schedule': {'include_any': ['CPT', 'Relative Value', 'Modifier', 'Medical Fee Schedule']}, 'tax_code': {'include_any': ['Section', 'Schedule', 'sub-section', 'Rule', 'Act']}}}, datasets_root=WindowsPath('data/datasets'))"
      ]
     },
     "execution_count": 5,
     "metadata": {},
     "output_type": "execute_result"
    }
   ],
   "source": [
    "# --- 4) build SFTGenConfig from YAML (no LLM by default for quick test) ---\n",
    "gen_cfg = SFTGenConfig(\n",
    "    max_qa=int(cfg.get(\"sft.generation.max_qa\", 40)),\n",
    "    max_summary=int(cfg.get(\"sft.generation.max_summary\", 8)),\n",
    "    seed=int(cfg.get(\"sft.generation.seed\", 13)),\n",
    "    min_chunk_chars=int(cfg.get(\"sft.generation.min_chunk_chars\", 300)),\n",
    "    max_chunk_chars=int(cfg.get(\"sft.generation.max_chunk_chars\", 1600)),\n",
    "    dedup_regex=r\"\\s+\",\n",
    "\n",
    "    # LLM off for sampling; turn on later if you want Ollama/company API\n",
    "    use_llm=bool(cfg.get(\"sft.generation.use_llm\", True)),\n",
    "    llm_provider=str(cfg.get(\"sft.generation.llm_provider\", \"ollama\")),\n",
    "    llm_model=str(cfg.get(\"sft.generation.llm_model\", \"llama3.2:latest\")),\n",
    "    llm_url=str(cfg.get(\"sft.generation.llm_url\", \"http://localhost:11434\")),\n",
    "    llm_temperature=float(cfg.get(\"sft.generation.llm_temperature\", 0.2)),\n",
    "    llm_max_new_tokens=int(cfg.get(\"sft.generation.llm_max_new_tokens\", 256)),\n",
    "\n",
    "    summary_source=str(cfg.get(\"sft.generation.summary_source\", \"nodes\")),\n",
    "    summary_target_len=int(cfg.get(\"sft.generation.summary_target_len\", 1200)),\n",
    "\n",
    "    prompts_yaml=prompts_yaml_path,\n",
    "    profile_rules=detection_rules,\n",
    "\n",
    "    datasets_root=Path(cfg.get(\"sft.generation.datasets_root\", \"data/datasets\")),\n",
    ")\n",
    "\n",
    "gen_cfg"
   ]
  },
  {
   "cell_type": "code",
   "execution_count": 6,
   "id": "c3609bc9",
   "metadata": {},
   "outputs": [
    {
     "name": "stdout",
     "output_type": "stream",
     "text": [
      "\n",
      "=== SFT outputs ===\n",
      "qa         -> data\\datasets\\NFS_2019\\sft\\qa.jsonl\n",
      "summaries  -> data\\datasets\\NFS_2019\\sft\\summaries.jsonl\n",
      "combined   -> data\\datasets\\NFS_2019\\sft\\combined.jsonl\n",
      "\n",
      "# peek -> data\\datasets\\NFS_2019\\sft\\qa.jsonl\n",
      "{\"id\": \"NFS_2019-qa-0001-1\", \"doc_id\": \"NFS_2019\", \"source_chunk_id\": \"NFS_2019-1618\", \"page\": null, \"question\": \"What types of procedures fall under 'diagnostic procedures'?\", \"answer\": \"Endoscopy, arthroscopy, injection procedures, and biopsies\", \"source_text\": \"Follow-up Care for Diagnostic Proce\n",
      "{\"id\": \"NFS_2019-qa-0001-2\", \"doc_id\": \"NFS_2019\", \"source_chunk_id\": \"NFS_2019-1618\", \"page\": null, \"question\": \"What is included in 'follow-up care for diagnostic procedures'?\", \"answer\": \"Care directly related to recovery from the diagnostic procedure itself\", \"source_text\": \"Follow-up Care for D\n",
      "{\"id\": \"NFS_2019-qa-0001-3\", \"doc_id\": \"NFS_2019\", \"source_chunk_id\": \"NFS_2019-1618\", \"page\": null, \"question\": \"Are nonsurgical treatments of conditions identified by diagnostic procedures included in follow-up care?\", \"answer\": \"No, they are not included and may be listed separately\", \"source_tex\n",
      "{\"id\": \"NFS_2019-qa-0001-4\", \"doc_id\": \"NFS_2019\", \"source_chunk_id\": \"NFS_2019-1618\", \"page\": null, \"question\": \"What is excluded from 'follow-up care for diagnostic procedures'?\", \"answer\": \"Nonsurgical care of the condition identified by the diagnostic procedure or treatment of other concomitant \n",
      "{\"id\": \"NFS_2019-qa-0002-1\", \"doc_id\": \"NFS_2019\", \"source_chunk_id\": \"NFS_2019-1289\", \"page\": null, \"question\": \"What is the primary code for initial psychiatric collaborative care management?\", \"answer\": \"99241\", \"source_text\": \"Initial psychiatric collaborative care management, first 70 minutes i\n",
      "\n",
      "# peek -> data\\datasets\\NFS_2019\\sft\\summaries.jsonl\n",
      "{\"id\": \"NFS_2019-sum-0001\", \"doc_id\": \"NFS_2019\", \"source_id\": \"SEC-00032\", \"summary\": \"This is a New York State Workers' Compensation Podiatry Fee Schedule, specifically the Surgery section. It outlines the fees for various surgical procedures performed by podiatrists. Here's a summary of the key p\n",
      "{\"id\": \"NFS_2019-sum-0002\", \"doc_id\": \"NFS_2019\", \"source_id\": \"SEC-00013\", \"summary\": \"Here is the extracted information: **Radiology** * The radiology conversion factor is used to determine fee amounts. * Conversion factors are located in the Introduction and General Guidelines section. * Each rel\n",
      "{\"id\": \"NFS_2019-sum-0003\", \"doc_id\": \"NFS_2019\", \"source_id\": \"SEC-00027\", \"summary\": \"Here is a summary of the fee schedule section with an emphasis on structure: **Codes, Descriptions, Value Columns:** * Codes are listed in the Behavioral Health Fee Schedule, which includes services such as biofe\n",
      "\n",
      "# peek -> data\\datasets\\NFS_2019\\sft\\combined.jsonl\n",
      "{\"kind\": \"qa\", \"instruction\": \"What types of procedures fall under 'diagnostic procedures'?\", \"input\": \"\", \"output\": \"Endoscopy, arthroscopy, injection procedures, and biopsies\", \"meta\": {\"doc_id\": \"NFS_2019\", \"source_chunk_id\": \"NFS_2019-1618\", \"page\": null, \"profile\": \"fee_schedule\"}}\n",
      "{\"kind\": \"qa\", \"instruction\": \"What is included in 'follow-up care for diagnostic procedures'?\", \"input\": \"\", \"output\": \"Care directly related to recovery from the diagnostic procedure itself\", \"meta\": {\"doc_id\": \"NFS_2019\", \"source_chunk_id\": \"NFS_2019-1618\", \"page\": null, \"profile\": \"fee_schedule\"\n",
      "{\"kind\": \"qa\", \"instruction\": \"Are nonsurgical treatments of conditions identified by diagnostic procedures included in follow-up care?\", \"input\": \"\", \"output\": \"No, they are not included and may be listed separately\", \"meta\": {\"doc_id\": \"NFS_2019\", \"source_chunk_id\": \"NFS_2019-1618\", \"page\": null, \n",
      "{\"kind\": \"qa\", \"instruction\": \"What is excluded from 'follow-up care for diagnostic procedures'?\", \"input\": \"\", \"output\": \"Nonsurgical care of the condition identified by the diagnostic procedure or treatment of other concomitant conditions\", \"meta\": {\"doc_id\": \"NFS_2019\", \"source_chunk_id\": \"NFS_20\n",
      "{\"kind\": \"qa\", \"instruction\": \"What is the primary code for initial psychiatric collaborative care management?\", \"input\": \"\", \"output\": \"99241\", \"meta\": {\"doc_id\": \"NFS_2019\", \"source_chunk_id\": \"NFS_2019-1289\", \"page\": null, \"profile\": \"fee_schedule\"}}\n"
     ]
    }
   ],
   "source": [
    "# --- 5) run pair generation ---\n",
    "outputs = generate_pairs(\n",
    "    doc_id=doc_id,\n",
    "    artifacts_root=artifacts_root,\n",
    "    cfg=gen_cfg,\n",
    ")\n",
    "\n",
    "print(\"\\n=== SFT outputs ===\")\n",
    "for k, v in outputs.items():\n",
    "    print(f\"{k:10s} -> {v}\")\n",
    "\n",
    "# quick peeks\n",
    "peek_jsonl(outputs[\"qa\"], 5)\n",
    "peek_jsonl(outputs[\"summaries\"], 3)\n",
    "peek_jsonl(outputs[\"combined\"], 5)"
   ]
  },
  {
   "cell_type": "code",
   "execution_count": 7,
   "id": "78a69ad0",
   "metadata": {},
   "outputs": [
    {
     "name": "stdout",
     "output_type": "stream",
     "text": [
      "counts  -> qa: 70 | summaries: 8 | combined: 78\n",
      "schema   -> OK\n"
     ]
    }
   ],
   "source": [
    "# --- 6) (optional) tiny sanity checks: schema & counts ---\n",
    "from collections import Counter\n",
    "\n",
    "def load_jsonl(path: Path):\n",
    "    rows = []\n",
    "    with path.open(\"r\", encoding=\"utf-8\") as f:\n",
    "        for line in f:\n",
    "            try:\n",
    "                rows.append(json.loads(line))\n",
    "            except Exception:\n",
    "                pass\n",
    "    return rows\n",
    "\n",
    "qa = load_jsonl(outputs[\"qa\"])\n",
    "sm = load_jsonl(outputs[\"summaries\"])\n",
    "cb = load_jsonl(outputs[\"combined\"])\n",
    "\n",
    "print(\"counts  -> qa:\", len(qa), \"| summaries:\", len(sm), \"| combined:\", len(cb))\n",
    "\n",
    "# basic schema checks\n",
    "assert all(\"question\" in r and \"answer\" in r for r in qa), \"QA schema mismatch\"\n",
    "assert all(\"summary\" in r and \"source_text\" in r for r in sm), \"Summary schema mismatch\"\n",
    "assert all(k in r for r in cb for k in (\"kind\", \"instruction\", \"output\")), \"Combined schema mismatch\"\n",
    "\n",
    "print(\"schema   -> OK\")"
   ]
  }
 ],
 "metadata": {
  "kernelspec": {
   "display_name": "pdf-agent-2",
   "language": "python",
   "name": "python3"
  },
  "language_info": {
   "codemirror_mode": {
    "name": "ipython",
    "version": 3
   },
   "file_extension": ".py",
   "mimetype": "text/x-python",
   "name": "python",
   "nbconvert_exporter": "python",
   "pygments_lexer": "ipython3",
   "version": "3.11.13"
  }
 },
 "nbformat": 4,
 "nbformat_minor": 5
}

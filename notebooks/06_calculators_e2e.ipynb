{
 "cells": [
  {
   "cell_type": "code",
   "execution_count": null,
   "id": "314d7f84",
   "metadata": {},
   "outputs": [],
   "source": [
    "# 0) bootstrap\n",
    "import os, sys\n",
    "from pathlib import Path\n",
    "ROOT = Path.cwd()\n",
    "while not (ROOT / \"pyproject.toml\").exists() and ROOT != ROOT.parent:\n",
    "    ROOT = ROOT.parent\n",
    "os.chdir(ROOT)\n",
    "if str(ROOT) not in sys.path:\n",
    "    sys.path.insert(0, str(ROOT))\n",
    "print(\"Project root:\", ROOT)"
   ]
  },
  {
   "cell_type": "code",
   "execution_count": null,
   "id": "65d94daa",
   "metadata": {},
   "outputs": [],
   "source": [
    "# 1) choose doc\n",
    "doc_id = \"NFS_2019\"\n",
    "mined_dir = Path(\"data/mined\") / doc_id"
   ]
  },
  {
   "cell_type": "code",
   "execution_count": null,
   "id": "a53441d2",
   "metadata": {},
   "outputs": [],
   "source": [
    "# 2) build specs from mined outputs\n",
    "from packages.calculators.parser import build_specs_from_mined\n",
    "specs = build_specs_from_mined(doc_id, mined_dir=mined_dir, prefer_latex=True, max_specs=10)\n",
    "len(specs), specs[:2]"
   ]
  },
  {
   "cell_type": "code",
   "execution_count": null,
   "id": "03c84181",
   "metadata": {},
   "outputs": [],
   "source": [
    "# 3) register all specs\n",
    "from packages.calculators.registry import register, list_tools\n",
    "for s in specs:\n",
    "    register(s)\n",
    "\n",
    "tools = list_tools(doc_id)\n",
    "len(tools)"
   ]
  },
  {
   "cell_type": "code",
   "execution_count": null,
   "id": "b4ba9038",
   "metadata": {},
   "outputs": [],
   "source": [
    "# 4) pick one tool to execute\n",
    "from packages.calculators.executor import evaluate\n",
    "import json\n",
    "\n",
    "if tools:\n",
    "    demo = tools[0]\n",
    "    print(\"Picked tool:\", demo[\"name\"], demo[\"expression\"])\n",
    "    # Create a dummy input dict; tweak keys to match demo[\"inputs\"]\n",
    "    inputs = {}\n",
    "    for v in demo.get(\"inputs\", []):\n",
    "        # naive defaults: '1' or a unit-aware string if unit present\n",
    "        inputs[v[\"name\"]] = f\"1 {v['unit']}\" if v.get(\"unit\") else 1\n",
    "    out = evaluate(\n",
    "        # rebuild ToolSpec (tiny bridge)\n",
    "        __import__(\"packages.calculators.parser\", fromlist=[\"ToolSpec\"]).ToolSpec(\n",
    "            id=demo[\"id\"],\n",
    "            name=demo[\"name\"],\n",
    "            doc_id=demo[\"doc_id\"],\n",
    "            version=demo.get(\"version\",1),\n",
    "            expression=demo[\"expression\"],\n",
    "            target=demo.get(\"target\"),\n",
    "            inputs=[__import__(\"packages.calculators.parser\", fromlist=[\"ToolVar\"]).ToolVar(**iv) for iv in demo.get(\"inputs\",[])],\n",
    "            notes=demo.get(\"notes\",\"\"),\n",
    "            provenance=demo.get(\"provenance\",{}),\n",
    "        ),\n",
    "        inputs=inputs\n",
    "    )\n",
    "    print(\"Result:\", json.dumps(out, indent=2))\n",
    "else:\n",
    "    print(\"No tools built. Check mined JSONLs or run the miner on pages with formulas.\")"
   ]
  }
 ],
 "metadata": {
  "language_info": {
   "name": "python"
  }
 },
 "nbformat": 4,
 "nbformat_minor": 5
}

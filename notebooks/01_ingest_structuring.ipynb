{
 "cells": [
  {
   "cell_type": "code",
   "execution_count": 9,
   "id": "92c9193f",
   "metadata": {},
   "outputs": [
    {
     "name": "stdout",
     "output_type": "stream",
     "text": [
      "Project root: d:\\IIT BBS\\Job Resources\\Business Optima\\new-pdf-agent\n"
     ]
    }
   ],
   "source": [
    "# Bootstrap & imports\n",
    "import os, sys\n",
    "from pathlib import Path\n",
    "\n",
    "ROOT = Path.cwd()\n",
    "while not (ROOT / \"pyproject.toml\").exists() and ROOT != ROOT.parent:\n",
    "    ROOT = ROOT.parent\n",
    "os.chdir(ROOT)\n",
    "if str(ROOT) not in sys.path:\n",
    "    sys.path.insert(0, str(ROOT))\n",
    "print(\"Project root:\", ROOT)"
   ]
  },
  {
   "cell_type": "code",
   "execution_count": 10,
   "id": "c1e78c7f",
   "metadata": {},
   "outputs": [],
   "source": [
    "from packages.core_config.config import load_yaml\n",
    "from packages.ingest.profiler import profile_document\n",
    "from packages.ingest.pdf2md_pipeline import PDF2MDConfig, run_pdf_to_markdown\n",
    "from packages.ingest.tables_pipeline import TablesConfig, extract_tables_from_pdf\n",
    "from packages.ingest.math_pipeline import MathConfig, extract_formulas_from_pages_jsonl\n",
    "from packages.ingest.chunks import ChunkingConfig, md_to_chunks\n",
    "from packages.ingest.hierarchy import HierarchyConfig, build_hierarchy\n",
    "from packages.retriever.indexer import Indexer"
   ]
  },
  {
   "cell_type": "code",
   "execution_count": 3,
   "id": "f84db7fd",
   "metadata": {},
   "outputs": [],
   "source": [
    "# Cell 2 — Configs & paths\n",
    "cfg = load_yaml(\"configs/providers.yaml\", \"configs/pipelines/generic_legal.yaml\")\n",
    "\n",
    "pdf_path = Path(\"data/raw/NFS_2019.pdf\")\n",
    "assert pdf_path.exists(), f\"Missing PDF: {pdf_path}\"\n",
    "doc_id = pdf_path.stem\n",
    "\n",
    "art_root   = Path(f\"data/artifacts/{doc_id}\")\n",
    "md_dir     = art_root / \"md\"\n",
    "chunks_dir = art_root / \"chunks\"\n",
    "graph_dir  = art_root\n",
    "for d in (md_dir, chunks_dir, graph_dir): d.mkdir(parents=True, exist_ok=True)\n",
    "\n",
    "# optional: dry-run on a subset before the full run\n",
    "DRY_RUN_PAGES: int | None = None   # e.g., 10 to test quickly; set None for full doc"
   ]
  },
  {
   "cell_type": "code",
   "execution_count": 4,
   "id": "1d27cb42",
   "metadata": {},
   "outputs": [
    {
     "name": "stdout",
     "output_type": "stream",
     "text": [
      "Profile: scanned (texty pages ~ 0%)\n",
      "MD: data\\artifacts\\NFS_2019\\md\\NFS_2019.md\n",
      "TOC: data\\artifacts\\NFS_2019\\md\\NFS_2019.toc.json\n",
      "Pages: data\\artifacts\\NFS_2019\\md\\NFS_2019.pages.jsonl\n"
     ]
    }
   ],
   "source": [
    "# Cell 3 — Profile & PDF→MD (pre-TATR path, OCR fallback)\n",
    "prof = profile_document(pdf_path)\n",
    "print(f\"Profile: {prof.mode} (texty pages ~ {prof.pct_texty_pages:.0%})\")\n",
    "\n",
    "# If fully scanned, force OCR-only MD; else let Marker/Docling try first\n",
    "force_ocr = (prof.mode == \"scanned\")\n",
    "\n",
    "pdf_cfg = PDF2MDConfig(\n",
    "    ocr_enable=bool(cfg.get(\"ingest.ocr.enable\", True)),\n",
    "    ocr_dpi=int(cfg.get(\"ingest.ocr.dpi\", 300)),\n",
    "    ocr_lang=str(cfg.get(\"ingest.ocr.lang\", \"eng\")),\n",
    "    min_chars_no_ocr=int(cfg.get(\"ingest.ocr.min_chars_no_ocr\", 60)),\n",
    "    preserve_footnotes=bool(cfg.get(\"ingest.pdf2md.preserve_footnotes\", True)),\n",
    "    keep_figure_captions=bool(cfg.get(\"ingest.pdf2md.keep_figure_captions\", True)),\n",
    "    force_ocr_only=force_ocr,\n",
    "    sample_n_pages=DRY_RUN_PAGES,\n",
    "    sample_random_seed=123,\n",
    "    sample_ocr_dpi=int(cfg.get(\"ingest.ocr.dpi\", 300)) if DRY_RUN_PAGES else None,\n",
    ")\n",
    "\n",
    "outs = run_pdf_to_markdown(\n",
    "    doc_id=doc_id, pdf_path=pdf_path, out_dir=md_dir, cfg=pdf_cfg\n",
    ")\n",
    "print(\"MD:\", outs.markdown_path)\n",
    "print(\"TOC:\", outs.toc_json_path)\n",
    "print(\"Pages:\", outs.pages_jsonl_path)\n"
   ]
  },
  {
   "cell_type": "code",
   "execution_count": 5,
   "id": "1ffa7e05",
   "metadata": {},
   "outputs": [
    {
     "name": "stderr",
     "output_type": "stream",
     "text": [
      "d:\\Anaconda\\envs\\pdf-agent-2\\Lib\\site-packages\\transformers\\models\\detr\\feature_extraction_detr.py:40: FutureWarning: The class DetrFeatureExtractor is deprecated and will be removed in version 5 of Transformers. Please use DetrImageProcessor instead.\n",
      "  warnings.warn(\n",
      "The `max_size` parameter is deprecated and will be removed in v4.26. Please specify in `size['longest_edge'] instead`.\n",
      "You are using a model of type table-transformer to instantiate a model of type detr. This is not supported for all configurations of models and can yield errors.\n",
      "d:\\Anaconda\\envs\\pdf-agent-2\\Lib\\site-packages\\torch\\nn\\modules\\module.py:2441: UserWarning: for conv1.weight: copying from a non-meta parameter in the checkpoint to a meta parameter in the current model, which is a no-op. (Did you mean to pass `assign=True` to assign items in the state dictionary to their corresponding key in the module instead of copying them in place?)\n",
      "  warnings.warn(\n",
      "d:\\Anaconda\\envs\\pdf-agent-2\\Lib\\site-packages\\torch\\nn\\modules\\module.py:2441: UserWarning: for bn1.weight: copying from a non-meta parameter in the checkpoint to a meta parameter in the current model, which is a no-op. (Did you mean to pass `assign=True` to assign items in the state dictionary to their corresponding key in the module instead of copying them in place?)\n",
      "  warnings.warn(\n",
      "d:\\Anaconda\\envs\\pdf-agent-2\\Lib\\site-packages\\torch\\nn\\modules\\module.py:2441: UserWarning: for bn1.bias: copying from a non-meta parameter in the checkpoint to a meta parameter in the current model, which is a no-op. (Did you mean to pass `assign=True` to assign items in the state dictionary to their corresponding key in the module instead of copying them in place?)\n",
      "  warnings.warn(\n",
      "d:\\Anaconda\\envs\\pdf-agent-2\\Lib\\site-packages\\torch\\nn\\modules\\module.py:2441: UserWarning: for layer1.0.conv1.weight: copying from a non-meta parameter in the checkpoint to a meta parameter in the current model, which is a no-op. (Did you mean to pass `assign=True` to assign items in the state dictionary to their corresponding key in the module instead of copying them in place?)\n",
      "  warnings.warn(\n",
      "d:\\Anaconda\\envs\\pdf-agent-2\\Lib\\site-packages\\torch\\nn\\modules\\module.py:2441: UserWarning: for layer1.0.bn1.weight: copying from a non-meta parameter in the checkpoint to a meta parameter in the current model, which is a no-op. (Did you mean to pass `assign=True` to assign items in the state dictionary to their corresponding key in the module instead of copying them in place?)\n",
      "  warnings.warn(\n",
      "d:\\Anaconda\\envs\\pdf-agent-2\\Lib\\site-packages\\torch\\nn\\modules\\module.py:2441: UserWarning: for layer1.0.bn1.bias: copying from a non-meta parameter in the checkpoint to a meta parameter in the current model, which is a no-op. (Did you mean to pass `assign=True` to assign items in the state dictionary to their corresponding key in the module instead of copying them in place?)\n",
      "  warnings.warn(\n",
      "d:\\Anaconda\\envs\\pdf-agent-2\\Lib\\site-packages\\torch\\nn\\modules\\module.py:2441: UserWarning: for layer1.0.conv2.weight: copying from a non-meta parameter in the checkpoint to a meta parameter in the current model, which is a no-op. (Did you mean to pass `assign=True` to assign items in the state dictionary to their corresponding key in the module instead of copying them in place?)\n",
      "  warnings.warn(\n",
      "d:\\Anaconda\\envs\\pdf-agent-2\\Lib\\site-packages\\torch\\nn\\modules\\module.py:2441: UserWarning: for layer1.0.bn2.weight: copying from a non-meta parameter in the checkpoint to a meta parameter in the current model, which is a no-op. (Did you mean to pass `assign=True` to assign items in the state dictionary to their corresponding key in the module instead of copying them in place?)\n",
      "  warnings.warn(\n",
      "d:\\Anaconda\\envs\\pdf-agent-2\\Lib\\site-packages\\torch\\nn\\modules\\module.py:2441: UserWarning: for layer1.0.bn2.bias: copying from a non-meta parameter in the checkpoint to a meta parameter in the current model, which is a no-op. (Did you mean to pass `assign=True` to assign items in the state dictionary to their corresponding key in the module instead of copying them in place?)\n",
      "  warnings.warn(\n",
      "d:\\Anaconda\\envs\\pdf-agent-2\\Lib\\site-packages\\torch\\nn\\modules\\module.py:2441: UserWarning: for layer1.1.conv1.weight: copying from a non-meta parameter in the checkpoint to a meta parameter in the current model, which is a no-op. (Did you mean to pass `assign=True` to assign items in the state dictionary to their corresponding key in the module instead of copying them in place?)\n",
      "  warnings.warn(\n",
      "d:\\Anaconda\\envs\\pdf-agent-2\\Lib\\site-packages\\torch\\nn\\modules\\module.py:2441: UserWarning: for layer1.1.bn1.weight: copying from a non-meta parameter in the checkpoint to a meta parameter in the current model, which is a no-op. (Did you mean to pass `assign=True` to assign items in the state dictionary to their corresponding key in the module instead of copying them in place?)\n",
      "  warnings.warn(\n",
      "d:\\Anaconda\\envs\\pdf-agent-2\\Lib\\site-packages\\torch\\nn\\modules\\module.py:2441: UserWarning: for layer1.1.bn1.bias: copying from a non-meta parameter in the checkpoint to a meta parameter in the current model, which is a no-op. (Did you mean to pass `assign=True` to assign items in the state dictionary to their corresponding key in the module instead of copying them in place?)\n",
      "  warnings.warn(\n",
      "d:\\Anaconda\\envs\\pdf-agent-2\\Lib\\site-packages\\torch\\nn\\modules\\module.py:2441: UserWarning: for layer1.1.conv2.weight: copying from a non-meta parameter in the checkpoint to a meta parameter in the current model, which is a no-op. (Did you mean to pass `assign=True` to assign items in the state dictionary to their corresponding key in the module instead of copying them in place?)\n",
      "  warnings.warn(\n",
      "d:\\Anaconda\\envs\\pdf-agent-2\\Lib\\site-packages\\torch\\nn\\modules\\module.py:2441: UserWarning: for layer1.1.bn2.weight: copying from a non-meta parameter in the checkpoint to a meta parameter in the current model, which is a no-op. (Did you mean to pass `assign=True` to assign items in the state dictionary to their corresponding key in the module instead of copying them in place?)\n",
      "  warnings.warn(\n",
      "d:\\Anaconda\\envs\\pdf-agent-2\\Lib\\site-packages\\torch\\nn\\modules\\module.py:2441: UserWarning: for layer1.1.bn2.bias: copying from a non-meta parameter in the checkpoint to a meta parameter in the current model, which is a no-op. (Did you mean to pass `assign=True` to assign items in the state dictionary to their corresponding key in the module instead of copying them in place?)\n",
      "  warnings.warn(\n",
      "d:\\Anaconda\\envs\\pdf-agent-2\\Lib\\site-packages\\torch\\nn\\modules\\module.py:2441: UserWarning: for layer2.0.conv1.weight: copying from a non-meta parameter in the checkpoint to a meta parameter in the current model, which is a no-op. (Did you mean to pass `assign=True` to assign items in the state dictionary to their corresponding key in the module instead of copying them in place?)\n",
      "  warnings.warn(\n",
      "d:\\Anaconda\\envs\\pdf-agent-2\\Lib\\site-packages\\torch\\nn\\modules\\module.py:2441: UserWarning: for layer2.0.bn1.weight: copying from a non-meta parameter in the checkpoint to a meta parameter in the current model, which is a no-op. (Did you mean to pass `assign=True` to assign items in the state dictionary to their corresponding key in the module instead of copying them in place?)\n",
      "  warnings.warn(\n",
      "d:\\Anaconda\\envs\\pdf-agent-2\\Lib\\site-packages\\torch\\nn\\modules\\module.py:2441: UserWarning: for layer2.0.bn1.bias: copying from a non-meta parameter in the checkpoint to a meta parameter in the current model, which is a no-op. (Did you mean to pass `assign=True` to assign items in the state dictionary to their corresponding key in the module instead of copying them in place?)\n",
      "  warnings.warn(\n",
      "d:\\Anaconda\\envs\\pdf-agent-2\\Lib\\site-packages\\torch\\nn\\modules\\module.py:2441: UserWarning: for layer2.0.conv2.weight: copying from a non-meta parameter in the checkpoint to a meta parameter in the current model, which is a no-op. (Did you mean to pass `assign=True` to assign items in the state dictionary to their corresponding key in the module instead of copying them in place?)\n",
      "  warnings.warn(\n",
      "d:\\Anaconda\\envs\\pdf-agent-2\\Lib\\site-packages\\torch\\nn\\modules\\module.py:2441: UserWarning: for layer2.0.bn2.weight: copying from a non-meta parameter in the checkpoint to a meta parameter in the current model, which is a no-op. (Did you mean to pass `assign=True` to assign items in the state dictionary to their corresponding key in the module instead of copying them in place?)\n",
      "  warnings.warn(\n",
      "d:\\Anaconda\\envs\\pdf-agent-2\\Lib\\site-packages\\torch\\nn\\modules\\module.py:2441: UserWarning: for layer2.0.bn2.bias: copying from a non-meta parameter in the checkpoint to a meta parameter in the current model, which is a no-op. (Did you mean to pass `assign=True` to assign items in the state dictionary to their corresponding key in the module instead of copying them in place?)\n",
      "  warnings.warn(\n",
      "d:\\Anaconda\\envs\\pdf-agent-2\\Lib\\site-packages\\torch\\nn\\modules\\module.py:2441: UserWarning: for layer2.0.downsample.0.weight: copying from a non-meta parameter in the checkpoint to a meta parameter in the current model, which is a no-op. (Did you mean to pass `assign=True` to assign items in the state dictionary to their corresponding key in the module instead of copying them in place?)\n",
      "  warnings.warn(\n",
      "d:\\Anaconda\\envs\\pdf-agent-2\\Lib\\site-packages\\torch\\nn\\modules\\module.py:2441: UserWarning: for layer2.0.downsample.1.weight: copying from a non-meta parameter in the checkpoint to a meta parameter in the current model, which is a no-op. (Did you mean to pass `assign=True` to assign items in the state dictionary to their corresponding key in the module instead of copying them in place?)\n",
      "  warnings.warn(\n",
      "d:\\Anaconda\\envs\\pdf-agent-2\\Lib\\site-packages\\torch\\nn\\modules\\module.py:2441: UserWarning: for layer2.0.downsample.1.bias: copying from a non-meta parameter in the checkpoint to a meta parameter in the current model, which is a no-op. (Did you mean to pass `assign=True` to assign items in the state dictionary to their corresponding key in the module instead of copying them in place?)\n",
      "  warnings.warn(\n",
      "d:\\Anaconda\\envs\\pdf-agent-2\\Lib\\site-packages\\torch\\nn\\modules\\module.py:2441: UserWarning: for layer2.1.conv1.weight: copying from a non-meta parameter in the checkpoint to a meta parameter in the current model, which is a no-op. (Did you mean to pass `assign=True` to assign items in the state dictionary to their corresponding key in the module instead of copying them in place?)\n",
      "  warnings.warn(\n",
      "d:\\Anaconda\\envs\\pdf-agent-2\\Lib\\site-packages\\torch\\nn\\modules\\module.py:2441: UserWarning: for layer2.1.bn1.weight: copying from a non-meta parameter in the checkpoint to a meta parameter in the current model, which is a no-op. (Did you mean to pass `assign=True` to assign items in the state dictionary to their corresponding key in the module instead of copying them in place?)\n",
      "  warnings.warn(\n",
      "d:\\Anaconda\\envs\\pdf-agent-2\\Lib\\site-packages\\torch\\nn\\modules\\module.py:2441: UserWarning: for layer2.1.bn1.bias: copying from a non-meta parameter in the checkpoint to a meta parameter in the current model, which is a no-op. (Did you mean to pass `assign=True` to assign items in the state dictionary to their corresponding key in the module instead of copying them in place?)\n",
      "  warnings.warn(\n",
      "d:\\Anaconda\\envs\\pdf-agent-2\\Lib\\site-packages\\torch\\nn\\modules\\module.py:2441: UserWarning: for layer2.1.conv2.weight: copying from a non-meta parameter in the checkpoint to a meta parameter in the current model, which is a no-op. (Did you mean to pass `assign=True` to assign items in the state dictionary to their corresponding key in the module instead of copying them in place?)\n",
      "  warnings.warn(\n",
      "d:\\Anaconda\\envs\\pdf-agent-2\\Lib\\site-packages\\torch\\nn\\modules\\module.py:2441: UserWarning: for layer2.1.bn2.weight: copying from a non-meta parameter in the checkpoint to a meta parameter in the current model, which is a no-op. (Did you mean to pass `assign=True` to assign items in the state dictionary to their corresponding key in the module instead of copying them in place?)\n",
      "  warnings.warn(\n",
      "d:\\Anaconda\\envs\\pdf-agent-2\\Lib\\site-packages\\torch\\nn\\modules\\module.py:2441: UserWarning: for layer2.1.bn2.bias: copying from a non-meta parameter in the checkpoint to a meta parameter in the current model, which is a no-op. (Did you mean to pass `assign=True` to assign items in the state dictionary to their corresponding key in the module instead of copying them in place?)\n",
      "  warnings.warn(\n",
      "d:\\Anaconda\\envs\\pdf-agent-2\\Lib\\site-packages\\torch\\nn\\modules\\module.py:2441: UserWarning: for layer3.0.conv1.weight: copying from a non-meta parameter in the checkpoint to a meta parameter in the current model, which is a no-op. (Did you mean to pass `assign=True` to assign items in the state dictionary to their corresponding key in the module instead of copying them in place?)\n",
      "  warnings.warn(\n",
      "d:\\Anaconda\\envs\\pdf-agent-2\\Lib\\site-packages\\torch\\nn\\modules\\module.py:2441: UserWarning: for layer3.0.bn1.weight: copying from a non-meta parameter in the checkpoint to a meta parameter in the current model, which is a no-op. (Did you mean to pass `assign=True` to assign items in the state dictionary to their corresponding key in the module instead of copying them in place?)\n",
      "  warnings.warn(\n",
      "d:\\Anaconda\\envs\\pdf-agent-2\\Lib\\site-packages\\torch\\nn\\modules\\module.py:2441: UserWarning: for layer3.0.bn1.bias: copying from a non-meta parameter in the checkpoint to a meta parameter in the current model, which is a no-op. (Did you mean to pass `assign=True` to assign items in the state dictionary to their corresponding key in the module instead of copying them in place?)\n",
      "  warnings.warn(\n",
      "d:\\Anaconda\\envs\\pdf-agent-2\\Lib\\site-packages\\torch\\nn\\modules\\module.py:2441: UserWarning: for layer3.0.conv2.weight: copying from a non-meta parameter in the checkpoint to a meta parameter in the current model, which is a no-op. (Did you mean to pass `assign=True` to assign items in the state dictionary to their corresponding key in the module instead of copying them in place?)\n",
      "  warnings.warn(\n",
      "d:\\Anaconda\\envs\\pdf-agent-2\\Lib\\site-packages\\torch\\nn\\modules\\module.py:2441: UserWarning: for layer3.0.bn2.weight: copying from a non-meta parameter in the checkpoint to a meta parameter in the current model, which is a no-op. (Did you mean to pass `assign=True` to assign items in the state dictionary to their corresponding key in the module instead of copying them in place?)\n",
      "  warnings.warn(\n",
      "d:\\Anaconda\\envs\\pdf-agent-2\\Lib\\site-packages\\torch\\nn\\modules\\module.py:2441: UserWarning: for layer3.0.bn2.bias: copying from a non-meta parameter in the checkpoint to a meta parameter in the current model, which is a no-op. (Did you mean to pass `assign=True` to assign items in the state dictionary to their corresponding key in the module instead of copying them in place?)\n",
      "  warnings.warn(\n",
      "d:\\Anaconda\\envs\\pdf-agent-2\\Lib\\site-packages\\torch\\nn\\modules\\module.py:2441: UserWarning: for layer3.0.downsample.0.weight: copying from a non-meta parameter in the checkpoint to a meta parameter in the current model, which is a no-op. (Did you mean to pass `assign=True` to assign items in the state dictionary to their corresponding key in the module instead of copying them in place?)\n",
      "  warnings.warn(\n",
      "d:\\Anaconda\\envs\\pdf-agent-2\\Lib\\site-packages\\torch\\nn\\modules\\module.py:2441: UserWarning: for layer3.0.downsample.1.weight: copying from a non-meta parameter in the checkpoint to a meta parameter in the current model, which is a no-op. (Did you mean to pass `assign=True` to assign items in the state dictionary to their corresponding key in the module instead of copying them in place?)\n",
      "  warnings.warn(\n",
      "d:\\Anaconda\\envs\\pdf-agent-2\\Lib\\site-packages\\torch\\nn\\modules\\module.py:2441: UserWarning: for layer3.0.downsample.1.bias: copying from a non-meta parameter in the checkpoint to a meta parameter in the current model, which is a no-op. (Did you mean to pass `assign=True` to assign items in the state dictionary to their corresponding key in the module instead of copying them in place?)\n",
      "  warnings.warn(\n",
      "d:\\Anaconda\\envs\\pdf-agent-2\\Lib\\site-packages\\torch\\nn\\modules\\module.py:2441: UserWarning: for layer3.1.conv1.weight: copying from a non-meta parameter in the checkpoint to a meta parameter in the current model, which is a no-op. (Did you mean to pass `assign=True` to assign items in the state dictionary to their corresponding key in the module instead of copying them in place?)\n",
      "  warnings.warn(\n",
      "d:\\Anaconda\\envs\\pdf-agent-2\\Lib\\site-packages\\torch\\nn\\modules\\module.py:2441: UserWarning: for layer3.1.bn1.weight: copying from a non-meta parameter in the checkpoint to a meta parameter in the current model, which is a no-op. (Did you mean to pass `assign=True` to assign items in the state dictionary to their corresponding key in the module instead of copying them in place?)\n",
      "  warnings.warn(\n",
      "d:\\Anaconda\\envs\\pdf-agent-2\\Lib\\site-packages\\torch\\nn\\modules\\module.py:2441: UserWarning: for layer3.1.bn1.bias: copying from a non-meta parameter in the checkpoint to a meta parameter in the current model, which is a no-op. (Did you mean to pass `assign=True` to assign items in the state dictionary to their corresponding key in the module instead of copying them in place?)\n",
      "  warnings.warn(\n",
      "d:\\Anaconda\\envs\\pdf-agent-2\\Lib\\site-packages\\torch\\nn\\modules\\module.py:2441: UserWarning: for layer3.1.conv2.weight: copying from a non-meta parameter in the checkpoint to a meta parameter in the current model, which is a no-op. (Did you mean to pass `assign=True` to assign items in the state dictionary to their corresponding key in the module instead of copying them in place?)\n",
      "  warnings.warn(\n",
      "d:\\Anaconda\\envs\\pdf-agent-2\\Lib\\site-packages\\torch\\nn\\modules\\module.py:2441: UserWarning: for layer3.1.bn2.weight: copying from a non-meta parameter in the checkpoint to a meta parameter in the current model, which is a no-op. (Did you mean to pass `assign=True` to assign items in the state dictionary to their corresponding key in the module instead of copying them in place?)\n",
      "  warnings.warn(\n",
      "d:\\Anaconda\\envs\\pdf-agent-2\\Lib\\site-packages\\torch\\nn\\modules\\module.py:2441: UserWarning: for layer3.1.bn2.bias: copying from a non-meta parameter in the checkpoint to a meta parameter in the current model, which is a no-op. (Did you mean to pass `assign=True` to assign items in the state dictionary to their corresponding key in the module instead of copying them in place?)\n",
      "  warnings.warn(\n",
      "d:\\Anaconda\\envs\\pdf-agent-2\\Lib\\site-packages\\torch\\nn\\modules\\module.py:2441: UserWarning: for layer4.0.conv1.weight: copying from a non-meta parameter in the checkpoint to a meta parameter in the current model, which is a no-op. (Did you mean to pass `assign=True` to assign items in the state dictionary to their corresponding key in the module instead of copying them in place?)\n",
      "  warnings.warn(\n",
      "d:\\Anaconda\\envs\\pdf-agent-2\\Lib\\site-packages\\torch\\nn\\modules\\module.py:2441: UserWarning: for layer4.0.bn1.weight: copying from a non-meta parameter in the checkpoint to a meta parameter in the current model, which is a no-op. (Did you mean to pass `assign=True` to assign items in the state dictionary to their corresponding key in the module instead of copying them in place?)\n",
      "  warnings.warn(\n",
      "d:\\Anaconda\\envs\\pdf-agent-2\\Lib\\site-packages\\torch\\nn\\modules\\module.py:2441: UserWarning: for layer4.0.bn1.bias: copying from a non-meta parameter in the checkpoint to a meta parameter in the current model, which is a no-op. (Did you mean to pass `assign=True` to assign items in the state dictionary to their corresponding key in the module instead of copying them in place?)\n",
      "  warnings.warn(\n",
      "d:\\Anaconda\\envs\\pdf-agent-2\\Lib\\site-packages\\torch\\nn\\modules\\module.py:2441: UserWarning: for layer4.0.conv2.weight: copying from a non-meta parameter in the checkpoint to a meta parameter in the current model, which is a no-op. (Did you mean to pass `assign=True` to assign items in the state dictionary to their corresponding key in the module instead of copying them in place?)\n",
      "  warnings.warn(\n",
      "d:\\Anaconda\\envs\\pdf-agent-2\\Lib\\site-packages\\torch\\nn\\modules\\module.py:2441: UserWarning: for layer4.0.bn2.weight: copying from a non-meta parameter in the checkpoint to a meta parameter in the current model, which is a no-op. (Did you mean to pass `assign=True` to assign items in the state dictionary to their corresponding key in the module instead of copying them in place?)\n",
      "  warnings.warn(\n",
      "d:\\Anaconda\\envs\\pdf-agent-2\\Lib\\site-packages\\torch\\nn\\modules\\module.py:2441: UserWarning: for layer4.0.bn2.bias: copying from a non-meta parameter in the checkpoint to a meta parameter in the current model, which is a no-op. (Did you mean to pass `assign=True` to assign items in the state dictionary to their corresponding key in the module instead of copying them in place?)\n",
      "  warnings.warn(\n",
      "d:\\Anaconda\\envs\\pdf-agent-2\\Lib\\site-packages\\torch\\nn\\modules\\module.py:2441: UserWarning: for layer4.0.downsample.0.weight: copying from a non-meta parameter in the checkpoint to a meta parameter in the current model, which is a no-op. (Did you mean to pass `assign=True` to assign items in the state dictionary to their corresponding key in the module instead of copying them in place?)\n",
      "  warnings.warn(\n",
      "d:\\Anaconda\\envs\\pdf-agent-2\\Lib\\site-packages\\torch\\nn\\modules\\module.py:2441: UserWarning: for layer4.0.downsample.1.weight: copying from a non-meta parameter in the checkpoint to a meta parameter in the current model, which is a no-op. (Did you mean to pass `assign=True` to assign items in the state dictionary to their corresponding key in the module instead of copying them in place?)\n",
      "  warnings.warn(\n",
      "d:\\Anaconda\\envs\\pdf-agent-2\\Lib\\site-packages\\torch\\nn\\modules\\module.py:2441: UserWarning: for layer4.0.downsample.1.bias: copying from a non-meta parameter in the checkpoint to a meta parameter in the current model, which is a no-op. (Did you mean to pass `assign=True` to assign items in the state dictionary to their corresponding key in the module instead of copying them in place?)\n",
      "  warnings.warn(\n",
      "d:\\Anaconda\\envs\\pdf-agent-2\\Lib\\site-packages\\torch\\nn\\modules\\module.py:2441: UserWarning: for layer4.1.conv1.weight: copying from a non-meta parameter in the checkpoint to a meta parameter in the current model, which is a no-op. (Did you mean to pass `assign=True` to assign items in the state dictionary to their corresponding key in the module instead of copying them in place?)\n",
      "  warnings.warn(\n",
      "d:\\Anaconda\\envs\\pdf-agent-2\\Lib\\site-packages\\torch\\nn\\modules\\module.py:2441: UserWarning: for layer4.1.bn1.weight: copying from a non-meta parameter in the checkpoint to a meta parameter in the current model, which is a no-op. (Did you mean to pass `assign=True` to assign items in the state dictionary to their corresponding key in the module instead of copying them in place?)\n",
      "  warnings.warn(\n",
      "d:\\Anaconda\\envs\\pdf-agent-2\\Lib\\site-packages\\torch\\nn\\modules\\module.py:2441: UserWarning: for layer4.1.bn1.bias: copying from a non-meta parameter in the checkpoint to a meta parameter in the current model, which is a no-op. (Did you mean to pass `assign=True` to assign items in the state dictionary to their corresponding key in the module instead of copying them in place?)\n",
      "  warnings.warn(\n",
      "d:\\Anaconda\\envs\\pdf-agent-2\\Lib\\site-packages\\torch\\nn\\modules\\module.py:2441: UserWarning: for layer4.1.conv2.weight: copying from a non-meta parameter in the checkpoint to a meta parameter in the current model, which is a no-op. (Did you mean to pass `assign=True` to assign items in the state dictionary to their corresponding key in the module instead of copying them in place?)\n",
      "  warnings.warn(\n",
      "d:\\Anaconda\\envs\\pdf-agent-2\\Lib\\site-packages\\torch\\nn\\modules\\module.py:2441: UserWarning: for layer4.1.bn2.weight: copying from a non-meta parameter in the checkpoint to a meta parameter in the current model, which is a no-op. (Did you mean to pass `assign=True` to assign items in the state dictionary to their corresponding key in the module instead of copying them in place?)\n",
      "  warnings.warn(\n",
      "d:\\Anaconda\\envs\\pdf-agent-2\\Lib\\site-packages\\torch\\nn\\modules\\module.py:2441: UserWarning: for layer4.1.bn2.bias: copying from a non-meta parameter in the checkpoint to a meta parameter in the current model, which is a no-op. (Did you mean to pass `assign=True` to assign items in the state dictionary to their corresponding key in the module instead of copying them in place?)\n",
      "  warnings.warn(\n"
     ]
    },
    {
     "data": {
      "application/vnd.jupyter.widget-view+json": {
       "model_id": "3ca116bfadae4ef7b98345071319b88a",
       "version_major": 2,
       "version_minor": 0
      },
      "text/plain": [
       "preprocessor_config.json:   0%|          | 0.00/274 [00:00<?, ?B/s]"
      ]
     },
     "metadata": {},
     "output_type": "display_data"
    },
    {
     "data": {
      "application/vnd.jupyter.widget-view+json": {
       "model_id": "6b508a719aab4625b9280ca58413e24f",
       "version_major": 2,
       "version_minor": 0
      },
      "text/plain": [
       "config.json: 0.00B [00:00, ?B/s]"
      ]
     },
     "metadata": {},
     "output_type": "display_data"
    },
    {
     "name": "stderr",
     "output_type": "stream",
     "text": [
      "You are using a model of type table-transformer to instantiate a model of type detr. This is not supported for all configurations of models and can yield errors.\n"
     ]
    },
    {
     "data": {
      "application/vnd.jupyter.widget-view+json": {
       "model_id": "77ee83a0b8554aa9873b20f20b734078",
       "version_major": 2,
       "version_minor": 0
      },
      "text/plain": [
       "model.safetensors:   0%|          | 0.00/115M [00:00<?, ?B/s]"
      ]
     },
     "metadata": {},
     "output_type": "display_data"
    },
    {
     "name": "stdout",
     "output_type": "stream",
     "text": [
      "Tables saved: 0 → data\\artifacts\\NFS_2019\\tables\n"
     ]
    }
   ],
   "source": [
    "# Cell 4 — Tables (words/Paddle only; TATR disabled)\n",
    "# Use words-grid fallback by default (robust, no extra models).\n",
    "# If you have PaddleOCR installed and want to try it, set use_paddle=True below.\n",
    "tcfg = TablesConfig(\n",
    "    ocr_dpi=int(cfg.get(\"ingest.ocr.dpi\", 300)),\n",
    "    export_markdown=bool(cfg.get(\"ingest.tables.export_markdown\", True)),\n",
    "    max_cols=int(cfg.get(\"ingest.tables.words.max_cols\", 6)),\n",
    "    merge_wrap_lines=bool(cfg.get(\"ingest.tables.words.merge_wrap_lines\", True)),\n",
    "    min_row_height=float(cfg.get(\"ingest.tables.words.min_row_height\", 6.0)),\n",
    "    use_paddle=bool(cfg.get(\"ingest.tables.paddle.enable\", False)),  # keep False if Paddle not installed\n",
    ")\n",
    "saved = extract_tables_from_pdf(\n",
    "    doc_id=doc_id, pdf_path=pdf_path, out_dir=art_root, cfg=tcfg,\n",
    "    page_subset=outs.processed_pages  # respect dry-run pages if set\n",
    ")\n",
    "print(\"Tables saved:\", saved, \"→\", art_root / \"tables\")"
   ]
  },
  {
   "cell_type": "code",
   "execution_count": 6,
   "id": "8207274d",
   "metadata": {},
   "outputs": [
    {
     "name": "stdout",
     "output_type": "stream",
     "text": [
      "Formulas detected: 6336 → data\\artifacts\\NFS_2019\\math\n"
     ]
    }
   ],
   "source": [
    "# Cell 5 — Math (formula-ish text lines)\n",
    "mcfg = MathConfig(\n",
    "    min_digits=int(cfg.get(\"ingest.math.min_digits\", 2)),\n",
    "    require_operator=bool(cfg.get(\"ingest.math.require_operator\", True)),\n",
    ")\n",
    "n_formulas = extract_formulas_from_pages_jsonl(\n",
    "    doc_id=doc_id, pages_jsonl=outs.pages_jsonl_path, out_dir=art_root, cfg=mcfg\n",
    ")\n",
    "print(\"Formulas detected:\", n_formulas, \"→\", art_root / \"math\")\n"
   ]
  },
  {
   "cell_type": "code",
   "execution_count": 7,
   "id": "176cd972",
   "metadata": {},
   "outputs": [
    {
     "name": "stdout",
     "output_type": "stream",
     "text": [
      "Chunks written: 13848 → data\\artifacts\\NFS_2019\\chunks\\NFS_2019.chunks.jsonl\n",
      "Hierarchy written to: data\\artifacts\\NFS_2019\\graph\n"
     ]
    }
   ],
   "source": [
    "# Cell 6 — Chunking & Hierarchy\n",
    "chunk_cfg = ChunkingConfig(\n",
    "    max_chars=int(cfg.get(\"chunking.max_chars\", 1200)),\n",
    "    overlap=int(cfg.get(\"chunking.overlap\", 200)),\n",
    "    drop_gibberish=bool(cfg.get(\"chunking.drop_gibberish\", True)),\n",
    "    drop_toc=bool(cfg.get(\"chunking.drop_toc\", True)),\n",
    "    min_align_score=int(cfg.get(\"chunking.min_align_score\", 70)),\n",
    ")\n",
    "chunks_out = chunks_dir / f\"{doc_id}.chunks.jsonl\"\n",
    "n_chunks = md_to_chunks(\n",
    "    doc_id=doc_id,\n",
    "    md_path=outs.markdown_path,\n",
    "    out_path=chunks_out,\n",
    "    cfg=chunk_cfg,\n",
    "    pages_jsonl=outs.pages_jsonl_path,\n",
    ")\n",
    "print(f\"Chunks written: {n_chunks} → {chunks_out}\")\n",
    "\n",
    "hcfg = HierarchyConfig(\n",
    "    min_node_chars=int(cfg.get(\"hierarchy.min_node_chars\", 400)),\n",
    "    use_section_regex=bool(cfg.get(\"hierarchy.use_section_regex\", True)),\n",
    "    fold_tiny_into_misc=bool(cfg.get(\"hierarchy.fold_tiny_into_misc\", True)),\n",
    ")\n",
    "build_hierarchy(chunks_dir=chunks_dir, out_dir=graph_dir, cfg=hcfg)\n",
    "print(\"Hierarchy written to:\", (graph_dir / \"graph\"))\n"
   ]
  },
  {
   "cell_type": "code",
   "execution_count": 13,
   "id": "f24418bb",
   "metadata": {},
   "outputs": [
    {
     "name": "stdout",
     "output_type": "stream",
     "text": [
      "Collection: NFS_2019\n"
     ]
    }
   ],
   "source": [
    "# --- Notebook hotfix: chunk Chroma .add() without touching files ---\n",
    "from packages.providers.vector import chromadb as _c\n",
    "\n",
    "def _chunked_add(self, collection_name, ids, docs, metas, embs):\n",
    "    coll = self.get_or_create(collection_name)\n",
    "    batch = int(getattr(self, \"max_add_batch\", 2000))\n",
    "    n = len(ids)\n",
    "    for i in range(0, n, batch):\n",
    "        j = min(i + batch, n)\n",
    "        coll.add(\n",
    "            ids=ids[i:j],\n",
    "            documents=docs[i:j],\n",
    "            metadatas=metas[i:j],\n",
    "            embeddings=embs[i:j],\n",
    "        )\n",
    "\n",
    "# apply monkey patch\n",
    "_c.ChromaVectorStore.add = _chunked_add\n",
    "\n",
    "# set the batch size on the instance after constructing Indexer()\n",
    "vs_max = int(cfg.get(\"index.vector.max_add_batch\", 2000))\n",
    "indexer = Indexer(\n",
    "    vector_provider=vp,\n",
    "    persist_path=persist,\n",
    "    embed_model_or_path=embed_m,\n",
    "    bge_use_prompt=bge_prompt,\n",
    ")\n",
    "setattr(indexer.vs, \"max_add_batch\", vs_max)\n",
    "\n",
    "# proceed to build\n",
    "collection = indexer.build(\n",
    "    chunks_path=chunks_out,\n",
    "    collection_name=None,\n",
    "    reset=True,\n",
    ")\n",
    "print(\"Collection:\", collection)\n"
   ]
  },
  {
   "cell_type": "code",
   "execution_count": 14,
   "id": "877454cc",
   "metadata": {},
   "outputs": [
    {
     "name": "stdout",
     "output_type": "stream",
     "text": [
      "\n",
      "=== Artifact heartbeat ===\n",
      "MD exists: True\n",
      "TOC: True\n",
      "Pages: True lines: 514\n",
      "Tables dir: True files: 0\n",
      "Math dir: True files: 1\n",
      "Chunks: True lines: 13848\n",
      "Graph: True\n"
     ]
    }
   ],
   "source": [
    "# Cell 8 — Quick artifact heartbeat\n",
    "from glob import glob, iglob\n",
    "\n",
    "def count_lines(p: Path) -> int:\n",
    "    try:\n",
    "        with p.open(\"r\", encoding=\"utf-8\") as f:\n",
    "            return sum(1 for _ in f)\n",
    "    except Exception:\n",
    "        return 0\n",
    "\n",
    "print(\"\\n=== Artifact heartbeat ===\")\n",
    "print(\"MD exists:\", outs.markdown_path.exists())\n",
    "print(\"TOC:\", outs.toc_json_path.exists())\n",
    "print(\"Pages:\", outs.pages_jsonl_path.exists(), \"lines:\", count_lines(outs.pages_jsonl_path))\n",
    "print(\"Tables dir:\", (art_root / \"tables\").exists(), \"files:\", len(list(iglob(str(art_root / 'tables' / '*.*')))))\n",
    "print(\"Math dir:\", (art_root / \"math\").exists(), \"files:\", len(list(iglob(str(art_root / 'math' / '*.*')))))\n",
    "print(\"Chunks:\", chunks_out.exists(), \"lines:\", count_lines(chunks_out))\n",
    "print(\"Graph:\", (graph_dir / \"graph\" / \"hierarchy.json\").exists())\n"
   ]
  }
 ],
 "metadata": {
  "kernelspec": {
   "display_name": "pdf-agent-2",
   "language": "python",
   "name": "python3"
  },
  "language_info": {
   "codemirror_mode": {
    "name": "ipython",
    "version": 3
   },
   "file_extension": ".py",
   "mimetype": "text/x-python",
   "name": "python",
   "nbconvert_exporter": "python",
   "pygments_lexer": "ipython3",
   "version": "3.11.13"
  }
 },
 "nbformat": 4,
 "nbformat_minor": 5
}

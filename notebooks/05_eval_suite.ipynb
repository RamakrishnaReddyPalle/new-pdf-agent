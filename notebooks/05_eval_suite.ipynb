{
 "cells": [
  {
   "cell_type": "code",
   "execution_count": 1,
   "id": "abe16ebc",
   "metadata": {},
   "outputs": [
    {
     "name": "stdout",
     "output_type": "stream",
     "text": [
      "Project root: d:\\IIT BBS\\Job Resources\\Business Optima\\new-pdf-agent\n"
     ]
    }
   ],
   "source": [
    "# bootstrap\n",
    "import os, sys\n",
    "from pathlib import Path\n",
    "\n",
    "ROOT = Path.cwd()\n",
    "while not (ROOT / \"pyproject.toml\").exists() and ROOT != ROOT.parent:\n",
    "    ROOT = ROOT.parent\n",
    "os.chdir(ROOT)\n",
    "if str(ROOT) not in sys.path:\n",
    "    sys.path.insert(0, str(ROOT))\n",
    "print(\"Project root:\", ROOT)"
   ]
  },
  {
   "cell_type": "code",
   "execution_count": 2,
   "id": "c843a04c",
   "metadata": {},
   "outputs": [],
   "source": [
    "# config + doc\n",
    "from packages.core_config.config import load_yaml\n",
    "\n",
    "cfg = load_yaml(\"configs/providers.yaml\", \"configs/pipelines/generic_legal.yaml\")\n",
    "doc_id = \"NFS_2019\"\n",
    "\n",
    "cb = cfg.get(\"eval\", {}).get(\"closed_book\", {})\n",
    "rag = cfg.get(\"eval\", {}).get(\"rag\", {})\n",
    "oll = cfg.get(\"eval_ollama\", {})"
   ]
  },
  {
   "cell_type": "code",
   "execution_count": 3,
   "id": "d879707e",
   "metadata": {},
   "outputs": [
    {
     "data": {
      "text/plain": [
       "{'n': 50, 'f1': 0.0860385562728328, 'rougeL': 0.06953322003772429}"
      ]
     },
     "execution_count": 3,
     "metadata": {},
     "output_type": "execute_result"
    }
   ],
   "source": [
    "# Closed-book eval\n",
    "from packages.eval.closed_book import ClosedBookEvalConfig, run_closed_book\n",
    "\n",
    "cb_cfg = ClosedBookEvalConfig(\n",
    "    use_llm=bool(cb.get(\"use_llm\", True)),\n",
    "    max_questions=int(cb.get(\"max_questions\", 50)),\n",
    "    datasets_root=str(cfg.get(\"sft\", {}).get(\"generation\", {}).get(\"datasets_root\", \"data/datasets\")),\n",
    "    llm_base_url=str(oll.get(\"base_url\", \"http://localhost:11434\")),\n",
    "    llm_model=str(oll.get(\"model\", \"llama3.2:latest\")),\n",
    "    llm_temperature=float(oll.get(\"temperature\", 0.2)),\n",
    "    llm_max_new_tokens=int(oll.get(\"max_new_tokens\", 256)),\n",
    "    connect_timeout=int(oll.get(\"connect_timeout\", 30)),\n",
    "    read_timeout=int(oll.get(\"read_timeout\", 600)),\n",
    "    retries=int(oll.get(\"retries\", 1)),\n",
    ")\n",
    "metrics_cb = run_closed_book(doc_id, cb_cfg)\n",
    "metrics_cb"
   ]
  },
  {
   "cell_type": "code",
   "execution_count": 4,
   "id": "ff1ee5f6",
   "metadata": {},
   "outputs": [
    {
     "name": "stderr",
     "output_type": "stream",
     "text": [
      "d:\\Anaconda\\envs\\pdf-agent-2\\Lib\\site-packages\\sentence_transformers\\cross_encoder\\CrossEncoder.py:11: TqdmExperimentalWarning: Using `tqdm.autonotebook.tqdm` in notebook mode. Use `tqdm.tqdm` instead to force console mode (e.g. in jupyter console)\n",
      "  from tqdm.autonotebook import tqdm, trange\n"
     ]
    },
    {
     "data": {
      "text/plain": [
       "{'n': 50,\n",
       " 'f1': 0.14187929778946853,\n",
       " 'rougeL': 0.1314459178645347,\n",
       " 'retrieval_recall@6': 0.52}"
      ]
     },
     "execution_count": 4,
     "metadata": {},
     "output_type": "execute_result"
    }
   ],
   "source": [
    "# RAG eval\n",
    "from packages.eval.rag_eval import RAGEvalConfig, run_rag_eval\n",
    "\n",
    "idx_cfg = cfg.get(\"index\", {})  # for bge_use_prompt\n",
    "rag_cfg = RAGEvalConfig(\n",
    "    use_llm=bool(rag.get(\"use_llm\", True)),\n",
    "    max_questions=int(rag.get(\"max_questions\", 50)),\n",
    "    # retriever\n",
    "    persist_path=\"data/artifacts\",\n",
    "    embed_model_or_path=str(cfg.get(\"embedding\", {}).get(\"model\", \"BAAI/bge-base-en-v1.5\")),\n",
    "    device=str(cfg.get(\"embedding\", {}).get(\"device\", \"cpu\")),\n",
    "    bge_use_prompt=bool(idx_cfg.get(\"bge_use_prompt\", True)),\n",
    "    top_k=int(rag.get(\"top_k\", 12)),\n",
    "    rerank_top_k=int(rag.get(\"rerank_top_k\", 8)),\n",
    "    return_top_k=int(rag.get(\"return_top_k\", 6)),\n",
    "    # LLM\n",
    "    llm_base_url=str(oll.get(\"base_url\", \"http://localhost:11435\")),\n",
    "    llm_model=str(oll.get(\"model\", \"llama3.2:latest\")),\n",
    "    llm_temperature=float(oll.get(\"temperature\", 0.2)),\n",
    "    llm_max_new_tokens=int(oll.get(\"max_new_tokens\", 256)),\n",
    "    connect_timeout=int(oll.get(\"connect_timeout\", 30)),\n",
    "    read_timeout=int(oll.get(\"read_timeout\", 600)),\n",
    "    retries=int(oll.get(\"retries\", 1)),\n",
    ")\n",
    "\n",
    "metrics_rag = run_rag_eval(doc_id, rag_cfg)\n",
    "metrics_rag"
   ]
  },
  {
   "cell_type": "code",
   "execution_count": 5,
   "id": "a5baa678",
   "metadata": {},
   "outputs": [
    {
     "data": {
      "text/html": [
       "<div>\n",
       "<style scoped>\n",
       "    .dataframe tbody tr th:only-of-type {\n",
       "        vertical-align: middle;\n",
       "    }\n",
       "\n",
       "    .dataframe tbody tr th {\n",
       "        vertical-align: top;\n",
       "    }\n",
       "\n",
       "    .dataframe thead th {\n",
       "        text-align: right;\n",
       "    }\n",
       "</style>\n",
       "<table border=\"1\" class=\"dataframe\">\n",
       "  <thead>\n",
       "    <tr style=\"text-align: right;\">\n",
       "      <th></th>\n",
       "      <th>mode</th>\n",
       "      <th>n</th>\n",
       "      <th>f1</th>\n",
       "      <th>rougeL</th>\n",
       "      <th>retrieval_recall@6</th>\n",
       "    </tr>\n",
       "  </thead>\n",
       "  <tbody>\n",
       "    <tr>\n",
       "      <th>0</th>\n",
       "      <td>closed-book</td>\n",
       "      <td>50</td>\n",
       "      <td>0.086039</td>\n",
       "      <td>0.069533</td>\n",
       "      <td>NaN</td>\n",
       "    </tr>\n",
       "    <tr>\n",
       "      <th>1</th>\n",
       "      <td>RAG</td>\n",
       "      <td>50</td>\n",
       "      <td>0.141879</td>\n",
       "      <td>0.131446</td>\n",
       "      <td>0.52</td>\n",
       "    </tr>\n",
       "  </tbody>\n",
       "</table>\n",
       "</div>"
      ],
      "text/plain": [
       "          mode   n        f1    rougeL  retrieval_recall@6\n",
       "0  closed-book  50  0.086039  0.069533                 NaN\n",
       "1          RAG  50  0.141879  0.131446                0.52"
      ]
     },
     "execution_count": 5,
     "metadata": {},
     "output_type": "execute_result"
    }
   ],
   "source": [
    "import pandas as pd\n",
    "pd.DataFrame([{\"mode\":\"closed-book\", **metrics_cb}, {\"mode\":\"RAG\", **metrics_rag}])"
   ]
  }
 ],
 "metadata": {
  "kernelspec": {
   "display_name": "pdf-agent-2",
   "language": "python",
   "name": "python3"
  },
  "language_info": {
   "codemirror_mode": {
    "name": "ipython",
    "version": 3
   },
   "file_extension": ".py",
   "mimetype": "text/x-python",
   "name": "python",
   "nbconvert_exporter": "python",
   "pygments_lexer": "ipython3",
   "version": "3.11.13"
  }
 },
 "nbformat": 4,
 "nbformat_minor": 5
}

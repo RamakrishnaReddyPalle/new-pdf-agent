{
 "cells": [
  {
   "cell_type": "markdown",
   "id": "061d0d9f",
   "metadata": {},
   "source": [
    "# ***Full Pipeline***"
   ]
  },
  {
   "cell_type": "markdown",
   "id": "41e9bf84",
   "metadata": {},
   "source": [
    "### **1) Bootstrap**"
   ]
  },
  {
   "cell_type": "code",
   "execution_count": 1,
   "id": "e65876a1",
   "metadata": {},
   "outputs": [
    {
     "name": "stdout",
     "output_type": "stream",
     "text": [
      "Project root: d:\\IIT BBS\\Job Resources\\Business Optima\\new-pdf-agent\n"
     ]
    }
   ],
   "source": [
    "import os, sys\n",
    "from pathlib import Path\n",
    "\n",
    "ROOT = Path.cwd()\n",
    "while not (ROOT / \"pyproject.toml\").exists() and ROOT != ROOT.parent:\n",
    "    ROOT = ROOT.parent\n",
    "os.chdir(ROOT)\n",
    "if str(ROOT) not in sys.path:\n",
    "    sys.path.insert(0, str(ROOT))\n",
    "print(\"Project root:\", ROOT)"
   ]
  },
  {
   "cell_type": "markdown",
   "id": "9ef4de8d",
   "metadata": {},
   "source": [
    "### **2) Models download**"
   ]
  },
  {
   "cell_type": "code",
   "execution_count": 4,
   "id": "7ea52a58",
   "metadata": {},
   "outputs": [
    {
     "name": "stderr",
     "output_type": "stream",
     "text": [
      "d:\\Anaconda\\envs\\pdf-agent-2\\Lib\\site-packages\\huggingface_hub\\file_download.py:945: FutureWarning: `resume_download` is deprecated and will be removed in version 1.0.0. Downloads always resume when possible. If you want to force a new download, use `force_download=True`.\n",
      "  warnings.warn(\n"
     ]
    },
    {
     "data": {
      "application/vnd.jupyter.widget-view+json": {
       "model_id": "41191aa785e3422499799ea3dc46077f",
       "version_major": 2,
       "version_minor": 0
      },
      "text/plain": [
       "Fetching 12 files:   0%|          | 0/12 [00:00<?, ?it/s]"
      ]
     },
     "metadata": {},
     "output_type": "display_data"
    },
    {
     "data": {
      "application/vnd.jupyter.widget-view+json": {
       "model_id": "8e6795e72bd44ea786c20f57b59d5d92",
       "version_major": 2,
       "version_minor": 0
      },
      "text/plain": [
       "model-00002-of-00002.safetensors:   0%|          | 0.00/2.20G [00:00<?, ?B/s]"
      ]
     },
     "metadata": {},
     "output_type": "display_data"
    },
    {
     "data": {
      "application/vnd.jupyter.widget-view+json": {
       "model_id": "320638e2098749dc9f072a44f150f1bf",
       "version_major": 2,
       "version_minor": 0
      },
      "text/plain": [
       "model-00001-of-00002.safetensors:   0%|          | 0.00/3.97G [00:00<?, ?B/s]"
      ]
     },
     "metadata": {},
     "output_type": "display_data"
    },
    {
     "data": {
      "application/vnd.jupyter.widget-view+json": {
       "model_id": "65af86353f84411f9c359e871f6dec14",
       "version_major": 2,
       "version_minor": 0
      },
      "text/plain": [
       "README.md: 0.00B [00:00, ?B/s]"
      ]
     },
     "metadata": {},
     "output_type": "display_data"
    },
    {
     "data": {
      "application/vnd.jupyter.widget-view+json": {
       "model_id": "dbad1acc4ad242b0a7b2d36283aeac4d",
       "version_major": 2,
       "version_minor": 0
      },
      "text/plain": [
       "merges.txt: 0.00B [00:00, ?B/s]"
      ]
     },
     "metadata": {},
     "output_type": "display_data"
    },
    {
     "data": {
      "application/vnd.jupyter.widget-view+json": {
       "model_id": "2c03914ff5e64eb0b9b4ed0b1ecf8fae",
       "version_major": 2,
       "version_minor": 0
      },
      "text/plain": [
       "generation_config.json:   0%|          | 0.00/138 [00:00<?, ?B/s]"
      ]
     },
     "metadata": {},
     "output_type": "display_data"
    },
    {
     "data": {
      "application/vnd.jupyter.widget-view+json": {
       "model_id": "5b3a3975d3be438cb840a8278bb7612d",
       "version_major": 2,
       "version_minor": 0
      },
      "text/plain": [
       ".gitattributes: 0.00B [00:00, ?B/s]"
      ]
     },
     "metadata": {},
     "output_type": "display_data"
    },
    {
     "data": {
      "application/vnd.jupyter.widget-view+json": {
       "model_id": "0dbc9bc3a33b4634ad84d54e67f8fdd8",
       "version_major": 2,
       "version_minor": 0
      },
      "text/plain": [
       "config.json:   0%|          | 0.00/683 [00:00<?, ?B/s]"
      ]
     },
     "metadata": {},
     "output_type": "display_data"
    },
    {
     "data": {
      "application/vnd.jupyter.widget-view+json": {
       "model_id": "be8a450ea9ab4f3b8617e01bebcad61b",
       "version_major": 2,
       "version_minor": 0
      },
      "text/plain": [
       "LICENSE: 0.00B [00:00, ?B/s]"
      ]
     },
     "metadata": {},
     "output_type": "display_data"
    },
    {
     "data": {
      "application/vnd.jupyter.widget-view+json": {
       "model_id": "b3c02570e4734fd2b6653b18fe5f9fb8",
       "version_major": 2,
       "version_minor": 0
      },
      "text/plain": [
       "model.safetensors.index.json: 0.00B [00:00, ?B/s]"
      ]
     },
     "metadata": {},
     "output_type": "display_data"
    },
    {
     "data": {
      "application/vnd.jupyter.widget-view+json": {
       "model_id": "6adb5325e1e54cd6b298a323ebf01066",
       "version_major": 2,
       "version_minor": 0
      },
      "text/plain": [
       "tokenizer.json: 0.00B [00:00, ?B/s]"
      ]
     },
     "metadata": {},
     "output_type": "display_data"
    },
    {
     "data": {
      "application/vnd.jupyter.widget-view+json": {
       "model_id": "d9e95f96df7c4ccabebbc0bf8cfe2c9b",
       "version_major": 2,
       "version_minor": 0
      },
      "text/plain": [
       "tokenizer_config.json: 0.00B [00:00, ?B/s]"
      ]
     },
     "metadata": {},
     "output_type": "display_data"
    },
    {
     "data": {
      "application/vnd.jupyter.widget-view+json": {
       "model_id": "a844ee7f9c77483290b531aee34b7611",
       "version_major": 2,
       "version_minor": 0
      },
      "text/plain": [
       "vocab.json: 0.00B [00:00, ?B/s]"
      ]
     },
     "metadata": {},
     "output_type": "display_data"
    },
    {
     "name": "stdout",
     "output_type": "stream",
     "text": [
      "Model downloaded to d:\\IIT BBS\\Job Resources\\Business Optima\\new-pdf-agent\\models\\llm\\qwen2.5-3b\n"
     ]
    }
   ],
   "source": [
    "# import subprocess, sys\n",
    "# subprocess.check_call([sys.executable, \"-m\", \"scripts.download_model\", \"--role\", \"core\"])\n",
    "\n",
    "import os\n",
    "from huggingface_hub import snapshot_download\n",
    "\n",
    "target_dir = \"models/llm/qwen2.5-3b\"\n",
    "\n",
    "snapshot_download(\n",
    "    repo_id=\"Qwen/Qwen2.5-3B\",\n",
    "    local_dir=target_dir,\n",
    "    local_dir_use_symlinks=False,\n",
    "    resume_download=True\n",
    ")\n",
    "\n",
    "print(f\"Model downloaded to {os.path.abspath(target_dir)}\")"
   ]
  },
  {
   "cell_type": "code",
   "execution_count": 3,
   "id": "87da6ccc",
   "metadata": {},
   "outputs": [
    {
     "data": {
      "application/vnd.jupyter.widget-view+json": {
       "model_id": "e09bc41fd5bb440db37c4c88c8dfc928",
       "version_major": 2,
       "version_minor": 0
      },
      "text/plain": [
       "Fetching 14 files:   0%|          | 0/14 [00:00<?, ?it/s]"
      ]
     },
     "metadata": {},
     "output_type": "display_data"
    },
    {
     "name": "stderr",
     "output_type": "stream",
     "text": [
      "d:\\Anaconda\\envs\\pdf-agent-2\\Lib\\site-packages\\huggingface_hub\\file_download.py:982: UserWarning: `local_dir_use_symlinks` parameter is deprecated and will be ignored. The process to download files to a local folder has been updated and do not rely on symlinks anymore. You only need to pass a destination folder as`local_dir`.\n",
      "For more details, check out https://huggingface.co/docs/huggingface_hub/main/en/guides/download#download-files-to-local-folder.\n",
      "  warnings.warn(\n"
     ]
    },
    {
     "data": {
      "application/vnd.jupyter.widget-view+json": {
       "model_id": "388196dce3bc4f5b879c216dc7ced322",
       "version_major": 2,
       "version_minor": 0
      },
      "text/plain": [
       "model.safetensors:   0%|          | 0.00/1.34G [00:00<?, ?B/s]"
      ]
     },
     "metadata": {},
     "output_type": "display_data"
    },
    {
     "data": {
      "application/vnd.jupyter.widget-view+json": {
       "model_id": "50fdcab4b611430d8f0be8cff83d3bfc",
       "version_major": 2,
       "version_minor": 0
      },
      "text/plain": [
       "onnx/model.onnx:   0%|          | 0.00/1.34G [00:00<?, ?B/s]"
      ]
     },
     "metadata": {},
     "output_type": "display_data"
    },
    {
     "data": {
      "application/vnd.jupyter.widget-view+json": {
       "model_id": "95d1ef0623aa40509f9f820d216ef439",
       "version_major": 2,
       "version_minor": 0
      },
      "text/plain": [
       "config.json:   0%|          | 0.00/191 [00:00<?, ?B/s]"
      ]
     },
     "metadata": {},
     "output_type": "display_data"
    },
    {
     "data": {
      "application/vnd.jupyter.widget-view+json": {
       "model_id": "0813a722dc62479e9d86165afacd3b50",
       "version_major": 2,
       "version_minor": 0
      },
      "text/plain": [
       "README.md: 0.00B [00:00, ?B/s]"
      ]
     },
     "metadata": {},
     "output_type": "display_data"
    },
    {
     "data": {
      "application/vnd.jupyter.widget-view+json": {
       "model_id": "ba3627380e684be98544ffe553f693ec",
       "version_major": 2,
       "version_minor": 0
      },
      "text/plain": [
       "config.json:   0%|          | 0.00/779 [00:00<?, ?B/s]"
      ]
     },
     "metadata": {},
     "output_type": "display_data"
    },
    {
     "data": {
      "application/vnd.jupyter.widget-view+json": {
       "model_id": "72569fa39db34460826b8dcf4c8dbd4d",
       "version_major": 2,
       "version_minor": 0
      },
      "text/plain": [
       "modules.json:   0%|          | 0.00/349 [00:00<?, ?B/s]"
      ]
     },
     "metadata": {},
     "output_type": "display_data"
    },
    {
     "data": {
      "application/vnd.jupyter.widget-view+json": {
       "model_id": "344dc06d2831495ea58b9cfde6c711a0",
       "version_major": 2,
       "version_minor": 0
      },
      "text/plain": [
       ".gitattributes: 0.00B [00:00, ?B/s]"
      ]
     },
     "metadata": {},
     "output_type": "display_data"
    },
    {
     "data": {
      "application/vnd.jupyter.widget-view+json": {
       "model_id": "43ec76ebad4f451a89593795ff725129",
       "version_major": 2,
       "version_minor": 0
      },
      "text/plain": [
       "pytorch_model.bin:   0%|          | 0.00/1.34G [00:00<?, ?B/s]"
      ]
     },
     "metadata": {},
     "output_type": "display_data"
    },
    {
     "data": {
      "application/vnd.jupyter.widget-view+json": {
       "model_id": "dc72e14a59a149baa484375476fdfa29",
       "version_major": 2,
       "version_minor": 0
      },
      "text/plain": [
       "config_sentence_transformers.json:   0%|          | 0.00/124 [00:00<?, ?B/s]"
      ]
     },
     "metadata": {},
     "output_type": "display_data"
    },
    {
     "data": {
      "application/vnd.jupyter.widget-view+json": {
       "model_id": "8003c461c7c74a9f838a31807d66838e",
       "version_major": 2,
       "version_minor": 0
      },
      "text/plain": [
       "sentence_bert_config.json:   0%|          | 0.00/52.0 [00:00<?, ?B/s]"
      ]
     },
     "metadata": {},
     "output_type": "display_data"
    },
    {
     "data": {
      "application/vnd.jupyter.widget-view+json": {
       "model_id": "b1171d586d994b0890f5d210a160f7e3",
       "version_major": 2,
       "version_minor": 0
      },
      "text/plain": [
       "special_tokens_map.json:   0%|          | 0.00/125 [00:00<?, ?B/s]"
      ]
     },
     "metadata": {},
     "output_type": "display_data"
    },
    {
     "data": {
      "application/vnd.jupyter.widget-view+json": {
       "model_id": "c052755a4d60414096870815740c5bab",
       "version_major": 2,
       "version_minor": 0
      },
      "text/plain": [
       "tokenizer.json: 0.00B [00:00, ?B/s]"
      ]
     },
     "metadata": {},
     "output_type": "display_data"
    },
    {
     "data": {
      "application/vnd.jupyter.widget-view+json": {
       "model_id": "c47884fd925743efbaba8412feb102ce",
       "version_major": 2,
       "version_minor": 0
      },
      "text/plain": [
       "tokenizer_config.json:   0%|          | 0.00/366 [00:00<?, ?B/s]"
      ]
     },
     "metadata": {},
     "output_type": "display_data"
    },
    {
     "data": {
      "application/vnd.jupyter.widget-view+json": {
       "model_id": "56316d5efcad482abd5306eb67358815",
       "version_major": 2,
       "version_minor": 0
      },
      "text/plain": [
       "vocab.txt: 0.00B [00:00, ?B/s]"
      ]
     },
     "metadata": {},
     "output_type": "display_data"
    },
    {
     "data": {
      "application/vnd.jupyter.widget-view+json": {
       "model_id": "77945f52e2014bdfbf9b71eeab0004e7",
       "version_major": 2,
       "version_minor": 0
      },
      "text/plain": [
       "Fetching 11 files:   0%|          | 0/11 [00:00<?, ?it/s]"
      ]
     },
     "metadata": {},
     "output_type": "display_data"
    },
    {
     "data": {
      "application/vnd.jupyter.widget-view+json": {
       "model_id": "f0e90fc8bad144629a9edf6337054fef",
       "version_major": 2,
       "version_minor": 0
      },
      "text/plain": [
       "onnx/model.onnx_data:   0%|          | 0.00/2.24G [00:00<?, ?B/s]"
      ]
     },
     "metadata": {},
     "output_type": "display_data"
    },
    {
     "data": {
      "application/vnd.jupyter.widget-view+json": {
       "model_id": "2de8cbaedf4a4e4c98faf10a5222c5b2",
       "version_major": 2,
       "version_minor": 0
      },
      "text/plain": [
       "onnx/model.onnx:   0%|          | 0.00/618k [00:00<?, ?B/s]"
      ]
     },
     "metadata": {},
     "output_type": "display_data"
    },
    {
     "data": {
      "application/vnd.jupyter.widget-view+json": {
       "model_id": "2f22ba63db0146f6ab2c89fca6815864",
       "version_major": 2,
       "version_minor": 0
      },
      "text/plain": [
       "model.safetensors:   0%|          | 0.00/2.24G [00:00<?, ?B/s]"
      ]
     },
     "metadata": {},
     "output_type": "display_data"
    },
    {
     "data": {
      "application/vnd.jupyter.widget-view+json": {
       "model_id": "0152cff502764a88bfadb50594db3b13",
       "version_major": 2,
       "version_minor": 0
      },
      "text/plain": [
       "pytorch_model.bin:   0%|          | 0.00/2.24G [00:00<?, ?B/s]"
      ]
     },
     "metadata": {},
     "output_type": "display_data"
    },
    {
     "data": {
      "application/vnd.jupyter.widget-view+json": {
       "model_id": "95e5561d2d96402a9194bae680b7f03e",
       "version_major": 2,
       "version_minor": 0
      },
      "text/plain": [
       "sentencepiece.bpe.model:   0%|          | 0.00/5.07M [00:00<?, ?B/s]"
      ]
     },
     "metadata": {},
     "output_type": "display_data"
    },
    {
     "data": {
      "application/vnd.jupyter.widget-view+json": {
       "model_id": "d85da408113f4ac79e808a9513fe48e2",
       "version_major": 2,
       "version_minor": 0
      },
      "text/plain": [
       "README.md: 0.00B [00:00, ?B/s]"
      ]
     },
     "metadata": {},
     "output_type": "display_data"
    },
    {
     "data": {
      "application/vnd.jupyter.widget-view+json": {
       "model_id": "1826dfdfe3eb4c5a833a124c5d58f424",
       "version_major": 2,
       "version_minor": 0
      },
      "text/plain": [
       "config.json:   0%|          | 0.00/801 [00:00<?, ?B/s]"
      ]
     },
     "metadata": {},
     "output_type": "display_data"
    },
    {
     "data": {
      "application/vnd.jupyter.widget-view+json": {
       "model_id": "a2d3f3db4b47469a81c5591b0107f925",
       "version_major": 2,
       "version_minor": 0
      },
      "text/plain": [
       ".gitattributes: 0.00B [00:00, ?B/s]"
      ]
     },
     "metadata": {},
     "output_type": "display_data"
    },
    {
     "data": {
      "application/vnd.jupyter.widget-view+json": {
       "model_id": "7fb7bef604e349cf8c9f14d00d609463",
       "version_major": 2,
       "version_minor": 0
      },
      "text/plain": [
       "tokenizer.json:   0%|          | 0.00/17.1M [00:00<?, ?B/s]"
      ]
     },
     "metadata": {},
     "output_type": "display_data"
    },
    {
     "data": {
      "application/vnd.jupyter.widget-view+json": {
       "model_id": "b7dffe77ab364b6f8f1e31405cb527bc",
       "version_major": 2,
       "version_minor": 0
      },
      "text/plain": [
       "special_tokens_map.json:   0%|          | 0.00/279 [00:00<?, ?B/s]"
      ]
     },
     "metadata": {},
     "output_type": "display_data"
    },
    {
     "data": {
      "application/vnd.jupyter.widget-view+json": {
       "model_id": "529e78099b234681adb30adfc0f27ab6",
       "version_major": 2,
       "version_minor": 0
      },
      "text/plain": [
       "tokenizer_config.json:   0%|          | 0.00/443 [00:00<?, ?B/s]"
      ]
     },
     "metadata": {},
     "output_type": "display_data"
    },
    {
     "name": "stdout",
     "output_type": "stream",
     "text": [
      "Embedding at: D:\\IIT BBS\\Job Resources\\Business Optima\\new-pdf-agent\\models\\embedding\\BAAI-bge-large-en-v1.5\n",
      "Reranker at: D:\\IIT BBS\\Job Resources\\Business Optima\\new-pdf-agent\\models\\reranker\\BAAI-bge-reranker-large\n"
     ]
    }
   ],
   "source": [
    "from huggingface_hub import snapshot_download\n",
    "from pathlib import Path\n",
    "\n",
    "emb_dir = Path(\"models/embedding/BAAI-bge-large-en-v1.5\")\n",
    "rer_dir = Path(\"models/reranker/BAAI-bge-reranker-large\")\n",
    "\n",
    "emb_dir.parent.mkdir(parents=True, exist_ok=True)\n",
    "rer_dir.parent.mkdir(parents=True, exist_ok=True)\n",
    "\n",
    "snapshot_download(\"BAAI/bge-large-en-v1.5\",\n",
    "                  local_dir=str(emb_dir),\n",
    "                  local_dir_use_symlinks=False)\n",
    "snapshot_download(\"BAAI/bge-reranker-large\",\n",
    "                  local_dir=str(rer_dir),\n",
    "                  local_dir_use_symlinks=False)\n",
    "\n",
    "print(\"Embedding at:\", emb_dir.resolve())\n",
    "print(\"Reranker at:\", rer_dir.resolve())"
   ]
  },
  {
   "cell_type": "markdown",
   "id": "be2926e8",
   "metadata": {},
   "source": [
    "### **3) Chunks Runner**"
   ]
  },
  {
   "cell_type": "code",
   "execution_count": 5,
   "id": "3358572a",
   "metadata": {},
   "outputs": [
    {
     "name": "stderr",
     "output_type": "stream",
     "text": [
      "d:\\Anaconda\\envs\\pdf-agent-2\\Lib\\site-packages\\torch\\utils\\data\\dataloader.py:666: UserWarning: 'pin_memory' argument is set as true but no accelerator is found, then device pinned memory won't be used.\n",
      "  warnings.warn(warn_msg)\n"
     ]
    },
    {
     "data": {
      "text/plain": [
       "{'doc_id': 'NYS_WCMFS_2018',\n",
       " 'artifacts_root': 'data\\\\artifacts\\\\NYS_WCMFS_2018',\n",
       " 'markdown_path': 'data\\\\artifacts\\\\NYS_WCMFS_2018\\\\md\\\\NYS_WCMFS_2018.md',\n",
       " 'pages_jsonl_path': 'data\\\\artifacts\\\\NYS_WCMFS_2018\\\\md\\\\NYS_WCMFS_2018.pages.jsonl',\n",
       " 'chunks_path': 'data\\\\artifacts\\\\NYS_WCMFS_2018\\\\chunks\\\\NYS_WCMFS_2018.chunks.jsonl',\n",
       " 'n_chunks': 4380,\n",
       " 'profile_mode': 'text',\n",
       " 'pct_texty_pages': 0.95}"
      ]
     },
     "execution_count": 5,
     "metadata": {},
     "output_type": "execute_result"
    }
   ],
   "source": [
    "from pathlib import Path\n",
    "from scripts.runners.chunks_runner import run\n",
    "\n",
    "pdf_path = Path(r\"data\\raw\\NYS_WCMFS_2018.pdf\")\n",
    "res = run(pdf_path)\n",
    "res"
   ]
  },
  {
   "cell_type": "code",
   "execution_count": 8,
   "id": "5311e94a",
   "metadata": {},
   "outputs": [
    {
     "name": "stdout",
     "output_type": "stream",
     "text": [
      "NYS_WCMFS_2018-1 | \n",
      "<!-- image -->\n",
      "\n",
      "NYS_WCMFS_2018-2 | \n",
      "WCNY18\n",
      "\n",
      "NYS_WCMFS_2018-3 | \n",
      "NEW YORK\n",
      "\n",
      "NYS_WCMFS_2018-4 | \n",
      "OPPORTUNITY .\n",
      "\n",
      "NYS_WCMFS_2018-5 | \n",
      "STATE OF\n",
      "\n",
      "NYS_WCMFS_2018-6 | \n",
      "Workers' Compensation Board\n",
      "\n",
      "NYS_WCMFS_2018-7 | COPYRIGHT\n",
      "COPYRIGHT — © 2018 State of New York\n",
      "\n",
      "NYS_WCMFS_2018-8 | COPYRIGHT\n",
      "Fee data © 2018 Oputm360, LLC.\n",
      "\n",
      "NYS_WCMFS_2018-9 | COPYRIGHT\n",
      "CPT codes, descriptions, and two-digit numeric modifiers only , © 2017 American Medical Association\n",
      "\n",
      "NYS_WCMFS_2018-10 | COPYRIGHT\n",
      "Anesthesia base units only , © 2017 American Society of Anesthesiologists\n",
      "\n",
      "NYS_WCMFS_2018-11 | COPYRIGHT\n",
      "All rights reserved. Printed in the United States of America. No part of this publication may be reproduced or transmitted in any form or by any means, electronic or mechanical, including photocopy, recording, or storage in a database retrieval system, without the prior written permission of the publisher.\n",
      "\n",
      "NYS_WCMFS_2018-12 | COPYRIGHT\n",
      "Made in the USA\n",
      "\n",
      "NYS_WCMFS_2018-13 | COPYRIGHT\n",
      "<!-- image -->\n",
      "\n",
      "NYS_WCMFS_2018-14 | COPYRIGHT\n",
      "1.800.464.3649\n",
      "\n",
      "NYS_WCMFS_2018-15 | COPYRIGHT > OPTUM360 NOTICE\n",
      "COPYRIGHT ▸ OPTUM360 NOTICE — The Official New York State Workers' Compensation Medical Fee Schedule is designed to be an accurate and authoritative source of information about medical coding and reimbursement. Every reasonable effort has been made to verify its accuracy , and all information is believed reliable at the time of publication. Absolut…\n",
      "\n",
      "NYS_WCMFS_2018-16 | COPYRIGHT > OPTUM360 NOTICE\n",
      "Optum360 worked closely with the New York Workers' Compensation Board in the development, formatting, and production of this fee schedule. However, all decisions resulting in the final content of this schedule were made solely by the New York State Workers' Compensation Board.\n",
      "\n",
      "NYS_WCMFS_2018-17 | COPYRIGHT > OPTUM360 NOTICE\n",
      "This publication is made available with the understanding that the publisher is not engaged in rendering legal and other services that require a professional license.\n",
      "\n",
      "NYS_WCMFS_2018-18 | COPYRIGHT > OPTUM360 NOTICE\n",
      "For additional copies of this publication or other fee schedules, please call 1.800.464.3649.\n",
      "\n",
      "NYS_WCMFS_2018-19 | COPYRIGHT > AMERICAN MEDICAL ASSOCIATION NOTICE\n",
      "COPYRIGHT ▸ AMERICAN MEDICAL ASSOCIATION NOTICE — CPT © 2017 American Medical Association. All rights reserved.\n",
      "\n",
      "NYS_WCMFS_2018-20 | COPYRIGHT > AMERICAN MEDICAL ASSOCIATION NOTICE\n",
      "Fee schedules, relative value units, conversion factors and/or related components are not assigned by the AMA, are not part of CPT, and the AMA is not recommending their use. The AMA does not directly or indirectly practice medicine or dispense medical services. The AMA assumes no liability for data contained or not contained herein.\n",
      "\n",
      "NYS_WCMFS_2018-21 | COPYRIGHT > AMERICAN MEDICAL ASSOCIATION NOTICE\n",
      "CPT is a registered trademark of the American Medical Association.\n",
      "\n",
      "NYS_WCMFS_2018-22 | COPYRIGHT > AMERICAN SOCIETY OF ANESTHESIOLOGISTS' NOTICE\n",
      "COPYRIGHT ▸ AMERICAN SOCIETY OF ANESTHESIOLOGISTS' NOTICE — Relative Value Guide © 2017 American Society of Anesthesiologists. All Rights Reserved.\n",
      "\n",
      "NYS_WCMFS_2018-23 | COPYRIGHT > AMERICAN SOCIETY OF ANESTHESIOLOGISTS' NOTICE\n",
      "Relative Value Guide ® is a relative value study and not a fee schedule. It is intended only as a guide. ASA does not directly or indirectly practice medicine or dispense medical services. ASA assumes no liability for data contained or not contained herein.\n",
      "\n",
      "NYS_WCMFS_2018-24 | COPYRIGHT > AMERICAN SOCIETY OF ANESTHESIOLOGISTS' NOTICE\n",
      "Relative Value Guide ® is a registered trademark of the American Society of Anesthesiologists.\n",
      "\n",
      "NYS_WCMFS_2018-25 | COPYRIGHT > NEW YORK WORKERS' COMPENSATION BOARD FILING NOTICE\n",
      "COPYRIGHT ▸ NEW YORK WORKERS' COMPENSATION BOARD FILING NOTICE — The Medical Fee Schedule was duly filed in the Office of the Department of State, and constitutes Sections 329.1 and 329.3, and Appendix C-3 of Title 12 of the Official Compilation of Codes, Rules, and Regulations of the State of New York.\n",
      "\n",
      "NYS_WCMFS_2018-26 | COPYRIGHT > OUR COMMITMENT TO ACCURACY\n",
      "COPYRIGHT ▸ OUR COMMITMENT TO ACCURACY — Optum360 is committed to producing accurate and reliable materials. To report corrections, please visit www.optum360coding.com/accuracy or email accuracy@optum.com. You can also reach customer service by calling 1.800.464.3649, option 1.\n",
      "\n",
      "NYS_WCMFS_2018-27 | COPYRIGHT > REVISED PRINTING\n",
      "COPYRIGHT ▸ REVISED PRINTING — This revised printing includes changes to pages 60 and 371372 that were shipped as corrected pages with the original printing.\n",
      "\n",
      "NYS_WCMFS_2018-28 | COPYRIGHT > FOREWORD\n",
      "COPYRIGHT ▸ FOREWORD — The Workers' Compensation Board is pleased to present the updated version of the Official New York State Workers' Compensation Medical Fee Schedule.\n",
      "\n",
      "NYS_WCMFS_2018-29 | COPYRIGHT > FOREWORD\n",
      "The revised fee schedule is an essential tool for health care providers and those paying the cost of health care services under the New York State Workers' Compensation system. This schedule provides comprehensive billing guides, which will allow health care providers to appropriately describe their services and minimize disputes over reimbursement…\n",
      "\n",
      "NYS_WCMFS_2018-30 | COPYRIGHT > FOREWORD\n",
      "This fee schedule could not have been produced without the assistance of many individuals. The spirit of cooperation between the provider and payer communities is very much appreciated. The excellence of this schedule is due, in large part, to the commitment of many people in the workers' compensation community. We are grateful for their efforts.\n",
      "\n"
     ]
    }
   ],
   "source": [
    "import json, itertools\n",
    "p = Path(res[\"chunks_path\"])\n",
    "with p.open(\"r\", encoding=\"utf-8\") as f:\n",
    "    for rec in itertools.islice((json.loads(x) for x in f), 30):\n",
    "        print(rec[\"id\"], \"|\", \" > \".join(rec[\"metadata\"].get(\"heading_path\") or []))\n",
    "        print(rec[\"text\"][:350] + (\"…\" if len(rec[\"text\"])>350 else \"\"))\n",
    "        print()"
   ]
  },
  {
   "cell_type": "markdown",
   "id": "4808f1bd",
   "metadata": {},
   "source": [
    "### **4) Build index (filtered) + append table rows**"
   ]
  },
  {
   "cell_type": "code",
   "execution_count": 9,
   "id": "818e52d9",
   "metadata": {},
   "outputs": [
    {
     "data": {
      "text/plain": [
       "{'doc_id': 'NYS_WCMFS_2018',\n",
       " 'artifacts_root': 'data\\\\artifacts\\\\NYS_WCMFS_2018',\n",
       " 'chunks_in': 4380,\n",
       " 'filtered_out': 3657,\n",
       " 'indexed_chunks': 723,\n",
       " 'collection': 'NYS_WCMFS_2018',\n",
       " 'tables_rows_added': 0,\n",
       " 'filtered_chunks_path': 'data\\\\artifacts\\\\NYS_WCMFS_2018\\\\chunks\\\\NYS_WCMFS_2018.chunks.filtered.jsonl'}"
      ]
     },
     "execution_count": 9,
     "metadata": {},
     "output_type": "execute_result"
    }
   ],
   "source": [
    "from pathlib import Path\n",
    "from scripts.runners.index_runner import run as run_index\n",
    "\n",
    "doc_id = res[\"doc_id\"]                         # from your previous chunk cell's result\n",
    "chunks_path = Path(res[\"chunks_path\"])\n",
    "\n",
    "idx_res = run_index(doc_id=doc_id, chunks_path=chunks_path, append_tables=True)\n",
    "idx_res"
   ]
  },
  {
   "cell_type": "markdown",
   "id": "b6806faa",
   "metadata": {},
   "source": [
    "### **5) Build hierarchy graph**"
   ]
  },
  {
   "cell_type": "code",
   "execution_count": 10,
   "id": "20b5c65a",
   "metadata": {},
   "outputs": [
    {
     "data": {
      "text/plain": [
       "{'doc_id': 'NYS_WCMFS_2018',\n",
       " 'graph_path': 'data\\\\artifacts\\\\NYS_WCMFS_2018\\\\graph\\\\hierarchy.json',\n",
       " 'exists': True}"
      ]
     },
     "execution_count": 10,
     "metadata": {},
     "output_type": "execute_result"
    }
   ],
   "source": [
    "from scripts.runners.hierarchy_runner import run as run_hier\n",
    "\n",
    "hier_res = run_hier(doc_id)\n",
    "hier_res"
   ]
  },
  {
   "cell_type": "markdown",
   "id": "bb659c59",
   "metadata": {},
   "source": [
    "### **6) Quick retrieval smoke test (to verify tiny chunks didn’t dominate)**"
   ]
  },
  {
   "cell_type": "code",
   "execution_count": 11,
   "id": "22dcf64c",
   "metadata": {},
   "outputs": [
    {
     "name": "stdout",
     "output_type": "stream",
     "text": [
      " 1. id=NYS_WCMFS_2018-2288 score=0.638 len=532 page=None\n",
      "    When this section of the schedule is used in connection with a 'conversion factor' to establish fees, it must be emphasized that the conversion factor should be applied to the tota…\n",
      " 2. id=NYS_WCMFS_2018-3813 score=0.631 len=782 page=None\n",
      "    COPYRIGHT ▸ 5 Physical Medicine — The relative values in this section were determined uniquely for physical medicine services. Use the physical medicine conversion factor when dete…\n",
      " 3. id=NYS_WCMFS_2018-4249 score=0.628 len=532 page=None\n",
      "    When this section of the schedule is used in connection with a conversion factor to establish fees, it must be emphasized that the conversion factor should be applied to the total …\n",
      " 4. id=NYS_WCMFS_2018-3790 score=0.626 len=818 page=None\n",
      "    COPYRIGHT ▸ 4 Medicine — The relative values listed in this section have been determined on an entirely different basis than those in other sections. A conversion factor applicable…\n",
      " 5. id=NYS_WCMFS_2018-3750 score=0.623 len=581 page=None\n",
      "    The relative value units listed in this section reflect the relativity of charges for procedures within this section only . The fee for a particular procedure or service in this se…\n",
      " 6. id=NYS_WCMFS_2018-2985 score=0.617 len=298 page=None\n",
      "    The fee for a procedure or service in this section is determined by multiplying the relative value units by the medicine conversion factor, subject to the ground rules, instruction…\n",
      " 7. id=NYS_WCMFS_2018-532 score=0.613 len=296 page=None\n",
      "    The fee for a procedure or service in this section is determined by multiplying the relative value unit by the surgery conversion factor, subject to the ground rules, instructions,…\n",
      " 8. id=NYS_WCMFS_2018-3263 score=0.612 len=306 page=None\n",
      "    The fee for a procedure or service in this section is determined by multiplying the relative value unit by the physical medicine conversion factor, subject to the ground rules, ins…\n",
      " 9. id=NYS_WCMFS_2018-2269 score=0.611 len=298 page=None\n",
      "    The fee for a procedure or service in this section is determined by multiplying the relative value unit by the radiology conversion factor, subject to the ground rules, instruction…\n",
      "10. id=NYS_WCMFS_2018-4370 score=0.608 len=251 page=None\n",
      "    COPYRIGHT ▸ 7 Appliances and Prostheses — The relative value units in this section have been determined on an entirely different basis than those in other sections. A conversion fa…\n",
      "11. id=NYS_WCMFS_2018-198 score=0.604 len=319 page=None\n",
      "    COPYRIGHT ▸ 1B. Consultations — The fee for a procedure or service in this section is determined by multiplying the relative value by the E/M conversion factor, subject to the grou…\n",
      "12. id=NYS_WCMFS_2018-3721 score=0.603 len=264 page=None\n",
      "    COPYRIGHT ▸ 2 Evaluation and Management (E/M) — The relative value units listed in this section have been determined on an entirely different basis than those in other sections. A …\n",
      "13. id=NYS_WCMFS_2018-3519 score=0.603 len=308 page=None\n",
      "    Physicians can bill codes from other sections of the Official New York State Workers' Compensation Medical Fee Schedule as appropriate (such as E/M, Medicine, etc.) and should dete…\n",
      "14. id=NYS_WCMFS_2018-41 score=0.602 len=348 page=None\n",
      "    The sections are organized according to the type of service and variations of overhead expense ratios for providing the services. Therefore, each section uses a single conversion f…\n",
      "15. id=NYS_WCMFS_2018-66 score=0.602 len=341 page=None\n",
      "    COPYRIGHT ▸ CALCULATING FEES USING RELATIVE VALUES AND CONVERSION FACTORS — Except as otherwise provided in this schedule, the maximum fee amount is calculated by multiplying the r…\n",
      "16. id=NYS_WCMFS_2018-3669 score=0.602 len=341 page=None\n",
      "    COPYRIGHT ▸ CALCULATING FEES USING RELATIVE VALUES AND CONVERSION FACTORS — Except as otherwise provided in this schedule, the maximum fee amount is calculated by multiplying the r…\n",
      "17. id=NYS_WCMFS_2018-4344 score=0.601 len=265 page=None\n",
      "    The fee for a particular procedure or service in this section is determined by multiplying the listed relative value unit by the current dollar conversion factor applicable to this…\n",
      "18. id=NYS_WCMFS_2018-3666 score=0.600 len=866 page=None\n",
      "    COPYRIGHT ▸ PC/TC Split — The Relative Value column lists the relative value units used to calculate the fee amount for a service. Except, as otherwise provided in this fee schedul…\n"
     ]
    }
   ],
   "source": [
    "from packages.core_config.config import load_yaml\n",
    "from packages.chat.tools import Retriever, RetrieverConfig\n",
    "\n",
    "cfg = load_yaml(\"configs/providers.yaml\", \"configs/pipelines/generic_legal.yaml\")\n",
    "\n",
    "retr = Retriever(\n",
    "    doc_id=doc_id,\n",
    "    cfg=RetrieverConfig(\n",
    "        persist_path=str(cfg.get(\"vector.persist_path\", \"data/artifacts\")),\n",
    "        collection=doc_id,\n",
    "        embed_model_or_path=str(cfg.get(\"embedding.model\", \"BAAI/bge-large-en-v1.5\")),\n",
    "        device=str(cfg.get(\"embedding.device\", \"cpu\")),\n",
    "        bge_use_prompt=bool(cfg.get(\"index.bge_use_prompt\", True)),\n",
    "        top_k=int(cfg.get(\"eval.rag.top_k\", 24) or 24),          # ask for larger pools\n",
    "        rerank_top_k=int(cfg.get(\"chat.rerank_top_k\", 12) or 12),\n",
    "        return_top_k=int(cfg.get(\"chat.return_top_k\", 12) or 12)\n",
    "        # reranker_model_path can be added later when your bigger CE is downloaded\n",
    "    )\n",
    ")\n",
    "\n",
    "q = \"Define 'conversion factor' as used in this document.\"\n",
    "hits = retr.search(q)\n",
    "for i, h in enumerate(hits, 1):\n",
    "    txt = h[\"text\"]\n",
    "    print(f\"{i:>2}. id={h['id']} score={h['score']:.3f} len={len(txt)} page={h['metadata'].get('page')}\")\n",
    "    print(\"   \", (txt[:180] + \"…\") if len(txt) > 180 else txt)"
   ]
  },
  {
   "cell_type": "code",
   "execution_count": 12,
   "id": "64f6c1bf",
   "metadata": {},
   "outputs": [
    {
     "name": "stdout",
     "output_type": "stream",
     "text": [
      "\n",
      "=== ID: NYS_WCMFS_2018-2288 len: 532 ===\n",
      "\n",
      "When this section of the schedule is used in connection with a 'conversion factor' to establish fees, it must be emphasized that the conversion factor should be applied to the total relative value units. The professional component and the technical component are percentages of this total. Providers who determine their fees by application of conversion factors to the relative value units in this section must use the percentage of the total relative value units for the professional and technical values as listed in the schedule.\n",
      "\n",
      "=== ID: NYS_WCMFS_2018-3813 len: 782 ===\n",
      "\n",
      "COPYRIGHT ▸ 5 Physical Medicine — The relative values in this section were determined uniquely for physical medicine services. Use the physical medicine conversion factor when determining fee amounts. The physical medicine conversion factor is not applicable to any other section. The fee for a procedure or service in this section is determined by multiplying the relative value by the physical medicine conversion factor, subject to the ground rules, instructions, and definitions of the schedule. Conversion factors are located in the Introduction and General Guidelines section. To ensure uniformity of billing when multiple services are rendered, each relative value unit is to be multiplied by the conversion factor separately . After which, charges for products may be added.\n",
      "\n",
      "=== ID: NYS_WCMFS_2018-4249 len: 532 ===\n",
      "\n",
      "When this section of the schedule is used in connection with a conversion factor to establish fees, it must be emphasized that the conversion factor should be applied to the total relative value units. The professional component and the technical component are percentages of this total. Podiatrists who determine their fees by application of conversion factors to the relative value units in this section must use the percentage of the total relative value units for the professional and technical values as listed in the schedule.\n"
     ]
    }
   ],
   "source": [
    "# Inspect full chunk text by id (no 180-char truncation)\n",
    "import json\n",
    "from pathlib import Path\n",
    "\n",
    "filtered_path = Path(idx_res[\"filtered_chunks_path\"])  # from index runner output\n",
    "\n",
    "def get_record_by_id(rec_id: str, jsonl_path: Path) -> dict | None:\n",
    "    with jsonl_path.open(\"r\", encoding=\"utf-8\") as f:\n",
    "        for line in f:\n",
    "            rec = json.loads(line)\n",
    "            if rec.get(\"id\") == rec_id:\n",
    "                return rec\n",
    "    return None\n",
    "\n",
    "# Example: print the full text of top-3 hits\n",
    "for h in hits[:3]:\n",
    "    rec = get_record_by_id(h[\"id\"], filtered_path)\n",
    "    print(\"\\n=== ID:\", h[\"id\"], \"len:\", len(rec[\"text\"]) if rec else None, \"===\\n\")\n",
    "    print(rec[\"text\"] if rec else \"[not found]\")"
   ]
  },
  {
   "cell_type": "markdown",
   "id": "0eaecaca",
   "metadata": {},
   "source": [
    "### **7) Retriever smoke with reranker**"
   ]
  },
  {
   "cell_type": "code",
   "execution_count": 13,
   "id": "6841d316",
   "metadata": {},
   "outputs": [],
   "source": [
    "from packages.chat.tools import RetrieverConfig, Retriever\n",
    "\n",
    "retr = Retriever(\n",
    "    doc_id=doc_id,\n",
    "    cfg=RetrieverConfig(\n",
    "        persist_path=str(cfg.get(\"vector.persist_path\", \"data/artifacts\")),\n",
    "        collection=doc_id,\n",
    "        embed_model_or_path=str(cfg.get(\"embedding.model\")),\n",
    "        device=str(cfg.get(\"embedding.device\", \"cpu\")),\n",
    "        bge_use_prompt=bool(cfg.get(\"index.bge_use_prompt\", True)),\n",
    "        top_k=int(cfg.get(\"eval.rag.top_k\", 36)),\n",
    "        rerank_top_k=int(cfg.get(\"chat.rerank_top_k\", 24)),\n",
    "        return_top_k=int(cfg.get(\"chat.return_top_k\", 18)),\n",
    "        reranker_model_path=\"models/reranker/BAAI-bge-reranker-large\",   # <—\n",
    "    )\n",
    ")\n",
    "\n",
    "hits = retr.search(q)"
   ]
  },
  {
   "cell_type": "code",
   "execution_count": 15,
   "id": "25b87bfe",
   "metadata": {},
   "outputs": [
    {
     "name": "stdout",
     "output_type": "stream",
     "text": [
      "\n",
      "=== ID: NYS_WCMFS_2018-3813 len: 782 ===\n",
      "\n",
      "COPYRIGHT ▸ 5 Physical Medicine — The relative values in this section were determined uniquely for physical medicine services. Use the physical medicine conversion factor when determining fee amounts. The physical medicine conversion factor is not applicable to any other section. The fee for a procedure or service in this section is determined by multiplying the relative value by the physical medicine conversion factor, subject to the ground rules, instructions, and definitions of the schedule. Conversion factors are located in the Introduction and General Guidelines section. To ensure uniformity of billing when multiple services are rendered, each relative value unit is to be multiplied by the conversion factor separately . After which, charges for products may be added.\n",
      "\n",
      "=== ID: NYS_WCMFS_2018-198 len: 319 ===\n",
      "\n",
      "COPYRIGHT ▸ 1B. Consultations — The fee for a procedure or service in this section is determined by multiplying the relative value by the E/M conversion factor, subject to the ground rules, instructions, and definitions of the schedule. Conversion factors are located in the Introduction and General Guidelines section.\n",
      "\n",
      "=== ID: NYS_WCMFS_2018-2985 len: 298 ===\n",
      "\n",
      "The fee for a procedure or service in this section is determined by multiplying the relative value units by the medicine conversion factor, subject to the ground rules, instructions, and definitions of the schedule. Conversion factors are located in the Introduction and General Guidelines section.\n",
      "\n",
      "=== ID: NYS_WCMFS_2018-2269 len: 298 ===\n",
      "\n",
      "The fee for a procedure or service in this section is determined by multiplying the relative value unit by the radiology conversion factor, subject to the ground rules, instructions, and definitions of the schedule. Conversion factors are located in the Introduction and General Guidelines section.\n",
      "\n",
      "=== ID: NYS_WCMFS_2018-532 len: 296 ===\n",
      "\n",
      "The fee for a procedure or service in this section is determined by multiplying the relative value unit by the surgery conversion factor, subject to the ground rules, instructions, and definitions of the schedule. Conversion factors are located in the Introduction and General Guidelines section.\n",
      "\n",
      "=== ID: NYS_WCMFS_2018-3263 len: 306 ===\n",
      "\n",
      "The fee for a procedure or service in this section is determined by multiplying the relative value unit by the physical medicine conversion factor, subject to the ground rules, instructions, and definitions of the schedule. Conversion factors are located in the Introduction and General Guidelines section.\n",
      "\n",
      "=== ID: NYS_WCMFS_2018-2288 len: 532 ===\n",
      "\n",
      "When this section of the schedule is used in connection with a 'conversion factor' to establish fees, it must be emphasized that the conversion factor should be applied to the total relative value units. The professional component and the technical component are percentages of this total. Providers who determine their fees by application of conversion factors to the relative value units in this section must use the percentage of the total relative value units for the professional and technical values as listed in the schedule.\n",
      "\n",
      "=== ID: NYS_WCMFS_2018-2984 len: 249 ===\n",
      "\n",
      "COPYRIGHT ▸ 7 Medicine — The relative value units in this section were determined uniquely for medicine services. Use the medicine conversion factor when determining fee amounts. The medicine conversion factor is not applicable to any other section.\n",
      "\n",
      "=== ID: NYS_WCMFS_2018-4022 len: 245 ===\n",
      "\n",
      "COPYRIGHT ▸ 3 Surgery — The relative value units in this section were determined uniquely for surgery services. Use the surgery conversion factor when determining fee amounts. The surgery conversion factor is not applicable to any other section.\n",
      "\n",
      "=== ID: NYS_WCMFS_2018-531 len: 245 ===\n",
      "\n",
      "COPYRIGHT ▸ 4 Surgery — The relative value units in this section were determined uniquely for surgery services. Use the surgery conversion factor when determining fee amounts. The surgery conversion factor is not applicable to any other section.\n"
     ]
    }
   ],
   "source": [
    "# Example: print the full text of top-3 hits\n",
    "for h in hits[:10]:\n",
    "    rec = get_record_by_id(h[\"id\"], filtered_path)\n",
    "    print(\"\\n=== ID:\", h[\"id\"], \"len:\", len(rec[\"text\"]) if rec else None, \"===\\n\")\n",
    "    print(rec[\"text\"] if rec else \"[not found]\")"
   ]
  },
  {
   "cell_type": "markdown",
   "id": "615712e6",
   "metadata": {},
   "source": [
    "### **8) SFT Gen Runner**"
   ]
  },
  {
   "cell_type": "code",
   "execution_count": 22,
   "id": "377e4d96",
   "metadata": {},
   "outputs": [
    {
     "name": "stdout",
     "output_type": "stream",
     "text": [
      "SFT model: llama3.1:8b-instruct-q5_1\n",
      "Summary source: chunks\n"
     ]
    }
   ],
   "source": [
    "from importlib import reload\n",
    "from packages.core_config import config as _cfg\n",
    "reload(_cfg)\n",
    "cfg = _cfg.load_yaml(\"configs/providers.yaml\", \"configs/pipelines/generic_legal.yaml\")\n",
    "print(\"SFT model:\", cfg.get(\"sft.generation.llm_model\"))\n",
    "print(\"Summary source:\", cfg.get(\"sft.generation.summary_source\"))"
   ]
  },
  {
   "cell_type": "markdown",
   "id": "b885f10f",
   "metadata": {},
   "source": [
    "### **8a) Seed prompts for a new input pdf**"
   ]
  },
  {
   "cell_type": "code",
   "execution_count": 24,
   "id": "14339385",
   "metadata": {},
   "outputs": [
    {
     "name": "stdout",
     "output_type": "stream",
     "text": [
      "OK: ['llama3.1:8b-instruct-q5_1', 'llama3.2:latest']\n"
     ]
    }
   ],
   "source": [
    "import requests, json\n",
    "OLLAMA = \"http://127.0.0.1:11434\"\n",
    "try:\n",
    "    r = requests.get(f\"{OLLAMA}/api/tags\", timeout=(5, 15))\n",
    "    r.raise_for_status()\n",
    "    print(\"OK:\", [m[\"name\"] for m in r.json().get(\"models\", [])])\n",
    "except Exception as e:\n",
    "    print(\"Ollama not reachable:\", e)"
   ]
  },
  {
   "cell_type": "code",
   "execution_count": 25,
   "id": "66fa31c7",
   "metadata": {},
   "outputs": [
    {
     "name": "stdout",
     "output_type": "stream",
     "text": [
      "Warmup ok.\n"
     ]
    }
   ],
   "source": [
    "import requests\n",
    "OLLAMA = \"http://127.0.0.1:11434\"\n",
    "MODEL = \"llama3.1:8b-instruct-q5_1\"\n",
    "\n",
    "payload = {\n",
    "    \"model\": MODEL,\n",
    "    \"messages\": [{\"role\": \"user\", \"content\": \"warmup\"}],\n",
    "    \"stream\": True,\n",
    "    \"options\": {\"temperature\": 0.0, \"num_predict\": 1}\n",
    "}\n",
    "with requests.post(f\"{OLLAMA}/api/chat\", json=payload, timeout=(30, 600), stream=True) as r:\n",
    "    r.raise_for_status()\n",
    "    for _ in r.iter_lines(decode_unicode=True):\n",
    "        break\n",
    "print(\"Warmup ok.\")"
   ]
  },
  {
   "cell_type": "code",
   "execution_count": 26,
   "id": "bd89da7f",
   "metadata": {},
   "outputs": [
    {
     "data": {
      "text/plain": [
       "{'doc_id': 'NYS_WCMFS_2018',\n",
       " 'prompt_pack': 'configs\\\\pipelines\\\\prompts\\\\NYS_WCMFS_2018.yaml',\n",
       " 'debug_seed_raw': 'configs\\\\pipelines\\\\prompts\\\\seed.raw.txt',\n",
       " 'debug_seed_request': 'configs\\\\pipelines\\\\prompts\\\\seed.request.json'}"
      ]
     },
     "execution_count": 26,
     "metadata": {},
     "output_type": "execute_result"
    }
   ],
   "source": [
    "from pathlib import Path\n",
    "from importlib import reload\n",
    "from scripts.runners import prompt_seed_runner as _seed\n",
    "reload(_seed)\n",
    "\n",
    "doc_id = res[\"doc_id\"]\n",
    "art_root = Path(res[\"artifacts_root\"])\n",
    "\n",
    "seed_out = _seed.run(doc_id=doc_id, artifacts_root=art_root, providers_yaml=Path(\"configs/providers.yaml\"))\n",
    "seed_out"
   ]
  },
  {
   "cell_type": "code",
   "execution_count": 19,
   "id": "6684a7e5",
   "metadata": {},
   "outputs": [
    {
     "name": "stdout",
     "output_type": "stream",
     "text": [
      "detection:\n",
      "  default: generic\n",
      "  profiles:\n",
      "    fee_schedule:\n",
      "      include_any:\n",
      "      - conversion factor\n",
      "      - relative value\n",
      "      - CPT\n",
      "      - modifier\n",
      "      - fee schedule\n",
      "    math_heavy:\n",
      "      include_any:\n",
      "      - multiply\n",
      "      - percentage\n",
      "      - per unit\n",
      "      - fee is determined by\n",
      "      - RVU\n",
      "    tables:\n",
      "      include_any:\n",
      "      - table\n",
      "      - column\n",
      "      - code\n",
      "      - description\n",
      "      - value\n",
      "prompts:\n",
      "  qa:\n",
      "    generic: Ask grounded questions and answer strictly from the provided text; include\n",
      "      units and definitions if present.\n",
      "    fee_schedule: Generate Q&A about conversion factors, RVUs, section-specific rules,\n",
      "      and modifiers. For answers, compute simple fees if explicitly possible from\n",
      "      text.\n",
      "    math_heavy: Generate Q&A that walks step-by-step through formulas in the text\n",
      "      (keep equations intact, no hallucination).\n",
      "    tables: 'Generate Q&A that read table rows: code→description, value lookups, column\n",
      "      meanings; cite column headers.'\n",
      "  summary:\n",
      "    generic: Summarize clearly with key points; keep any formulas verbatim.\n",
      "    fee_schedule: Summarize ground rules, conversion factor usage per section, and\n",
      "      exceptions.\n",
      "    math_heavy: S\n"
     ]
    }
   ],
   "source": [
    "# Prompt pack preview (first 1200 chars)\n",
    "from pathlib import Path\n",
    "print(Path(seed_out[\"prompt_pack\"]).read_text(encoding=\"utf-8\")[:1200])"
   ]
  },
  {
   "cell_type": "markdown",
   "id": "05b84ac0",
   "metadata": {},
   "source": [
    "### **8b) SFT generation via runner**"
   ]
  },
  {
   "cell_type": "code",
   "execution_count": null,
   "id": "6947fbd6",
   "metadata": {},
   "outputs": [],
   "source": [
    "# Preview\n",
    "from importlib import reload\n",
    "from scripts.runners import sft_gen_runner as _sft\n",
    "reload(_sft)\n",
    "\n",
    "doc_id = res[\"doc_id\"]\n",
    "art_root = Path(res[\"artifacts_root\"])\n",
    "doc_prompts = Path(f\"configs/pipelines/prompts/{doc_id}.yaml\")\n",
    "\n",
    "# Preview\n",
    "preview = _sft.run(\n",
    "    doc_id=doc_id,\n",
    "    artifacts_root=art_root,\n",
    "    providers_yaml=\"configs/providers.yaml\",\n",
    "    pipeline_yaml=\"configs/pipelines/generic_legal.yaml\",\n",
    "    prompts_yaml_override=doc_prompts if doc_prompts.exists() else None,\n",
    "    max_qa_override=32,\n",
    "    max_summary_override=8,\n",
    "    debug_dir=art_root / \"sft_debug\"\n",
    ")\n",
    "preview\n",
    "\n",
    "# If looks good, full run (honors YAML big counts)\n",
    "full = _sft.run(\n",
    "    doc_id=doc_id,\n",
    "    artifacts_root=art_root,\n",
    "    providers_yaml=\"configs/providers.yaml\",\n",
    "    pipeline_yaml=\"configs/pipelines/generic_legal.yaml\",\n",
    "    prompts_yaml_override=doc_prompts if doc_prompts.exists() else None,\n",
    "    max_qa_override=None,\n",
    "    max_summary_override=None,\n",
    "    debug_dir=art_root / \"sft_debug_full\"\n",
    ")\n",
    "full\n"
   ]
  },
  {
   "cell_type": "code",
   "execution_count": 20,
   "id": "e2235ad4",
   "metadata": {},
   "outputs": [
    {
     "data": {
      "text/plain": [
       "{'qa': WindowsPath('data/datasets/NYS_WCMFS_2018/sft/qa.jsonl'),\n",
       " 'summaries': WindowsPath('data/datasets/NYS_WCMFS_2018/sft/summaries.jsonl'),\n",
       " 'combined': WindowsPath('data/datasets/NYS_WCMFS_2018/sft/combined.jsonl')}"
      ]
     },
     "execution_count": 20,
     "metadata": {},
     "output_type": "execute_result"
    }
   ],
   "source": [
    "from pathlib import Path\n",
    "from scripts.runners.sft_gen_runner import run as run_sft\n",
    "\n",
    "doc_id = res[\"doc_id\"]\n",
    "art_root = Path(res[\"artifacts_root\"])\n",
    "\n",
    "sft_out = run_sft(doc_id=doc_id, artifacts_root=art_root)\n",
    "sft_out"
   ]
  },
  {
   "cell_type": "code",
   "execution_count": 21,
   "id": "386129b0",
   "metadata": {},
   "outputs": [
    {
     "name": "stdout",
     "output_type": "stream",
     "text": [
      "counts: 80 36 116\n",
      "-> data\\datasets\\NYS_WCMFS_2018\\sft\\qa.jsonl\n",
      "{\"id\": \"NYS_WCMFS_2018-qa-0001-1\", \"doc_id\": \"NYS_WCMFS_2018\", \"source_chunk_id\": \"NYS_WCMFS_2018-43\", \"page\": null, \"question\": \"Summarize the key point.\", \"answer\": \"COPYRIGHT ▸ Introductory Information — The introductory ground rules that precede the data in each section include definitions, refe\n",
      "{\"id\": \"NYS_WCMFS_2018-qa-0002-1\", \"doc_id\": \"NYS_WCMFS_2018\", \"source_chunk_id\": \"NYS_WCMFS_2018-3971\", \"page\": null, \"question\": \"Summarize the key point.\", \"answer\": \"COPYRIGHT ▸ 66 Surgical Team — Under some circumstances, highly complex procedures (requiring the concomitant services of several \n",
      "{\"id\": \"NYS_WCMFS_2018-qa-0005-1\", \"doc_id\": \"NYS_WCMFS_2018\", \"source_chunk_id\": \"NYS_WCMFS_2018-3969\", \"page\": null, \"question\": \"What is COPYRIGHT ▸ 63 Procedure Performed on Infants less than 4 kg — Procedures performed on neonates and infants up to a present body weight of 4 kg may involve sign\n",
      "{\"id\": \"NYS_WCMFS_2018-qa-0006-1\", \"doc_id\": \"NYS_WCMFS_2018\", \"source_chunk_id\": \"NYS_WCMFS_2018-262\", \"page\": null, \"question\": \"Summarize the key point.\", \"answer\": \"COPYRIGHT ▸ Critical Care Services (99291-99292) — CPT 2018 guidelines define critical care as 'the direct delivery by a physician(\n",
      "{\"id\": \"NYS_WCMFS_2018-qa-0007-1\", \"doc_id\": \"NYS_WCMFS_2018\", \"source_chunk_id\": \"NYS_WCMFS_2018-432\", \"page\": null, \"question\": \"What is COPYRIGHT ▸ 22 Increased Procedural Services — When the work required to provide a service is substantially greater than typically required, it may be identified\n",
      "{\"id\": \"NYS_WCMFS_2018-qa-0008-1\", \"doc_id\": \"NYS_WCMFS_2018\", \"source_chunk_id\": \"NYS_WCMFS_2018-611\", \"page\": null, \"question\": \"Summarize the key point.\", \"answer\": \"COPYRIGHT ▸ 66 Surgical Team — Under some circumstances, highly complex procedures (requiring the concomitant services of several p\n",
      "{\"id\": \"NYS_WCMFS_2018-qa-0009-1\", \"doc_id\": \"NYS_WCMFS_2018\", \"source_chunk_id\": \"NYS_WCMFS_2018-280\", \"page\": null, \"question\": \"Summarize the key point.\", \"answer\": \"'Only one individual may report services for a given period of time, to reflect the sole or predominant supervisory role with a par\n",
      "\n",
      "-> data\\datasets\\NYS_WCMFS_2018\\sft\\summaries.jsonl\n",
      "{\"id\": \"NYS_WCMFS_2018-sum-0001\", \"doc_id\": \"NYS_WCMFS_2018\", \"source_id\": \"SEC-00064\", \"summary\": \"I'd be happy to help, but I don't see any section or text provided. Could you please provide the section or text you would like me to summarize? I'll do my best to condense it into a concise summary f\n",
      "{\"id\": \"NYS_WCMFS_2018-sum-0002\", \"doc_id\": \"NYS_WCMFS_2018\", \"source_id\": \"SEC-00107\", \"summary\": \"I'd be happy to help, but it seems like you forgot to provide the section or text that needs summarizing. Could you please provide the content you'd like me to summarize? I'll do my best to condense i\n",
      "{\"id\": \"NYS_WCMFS_2018-sum-0003\", \"doc_id\": \"NYS_WCMFS_2018\", \"source_id\": \"SEC-00027\", \"summary\": \"I'd be happy to help, but it seems like you forgot to include the content for the section. Could you please provide the text or information that you would like me to summarize? I'll do my best to crea\n",
      "\n",
      "-> data\\datasets\\NYS_WCMFS_2018\\sft\\combined.jsonl\n",
      "{\"kind\": \"qa\", \"instruction\": \"Summarize the key point.\", \"input\": \"\", \"output\": \"COPYRIGHT ▸ Introductory Information — The introductory ground rules that precede the data in each section include definitions, references, prohibitions, and directions for proper use\", \"meta\": {\"doc_id\": \"NYS_WCMFS_20\n",
      "{\"kind\": \"qa\", \"instruction\": \"Summarize the key point.\", \"input\": \"\", \"output\": \"COPYRIGHT ▸ 66 Surgical Team — Under some circumstances, highly complex procedures (requiring the concomitant services of several physicians or other qualified health care professionals, often of different specialties,\n",
      "{\"kind\": \"qa\", \"instruction\": \"What is COPYRIGHT ▸ 63 Procedure Performed on Infants less than 4 kg — Procedures performed on neonates and infants up to a present body weight of 4 kg may involve significantly increased complexity and physician or other qualified health care professional work commonl\n",
      "{\"kind\": \"qa\", \"instruction\": \"Summarize the key point.\", \"input\": \"\", \"output\": \"COPYRIGHT ▸ Critical Care Services (99291-99292) — CPT 2018 guidelines define critical care as 'the direct delivery by a physician(s) or other qualified health care professional of medical care for a critically ill or \n",
      "{\"kind\": \"qa\", \"instruction\": \"What is COPYRIGHT ▸ 22 Increased Procedural Services — When the work required to provide a service is substantially greater than typically required, it may be identified by adding modifier 22 to the usual procedure code. Documentation must support the substantial addit\n",
      "{\"kind\": \"qa\", \"instruction\": \"Summarize the key point.\", \"input\": \"\", \"output\": \"COPYRIGHT ▸ 66 Surgical Team — Under some circumstances, highly complex procedures (requiring the concomitant services of several physicians or other qualified health care professionals, often of different specialties,\n",
      "{\"kind\": \"qa\", \"instruction\": \"Summarize the key point.\", \"input\": \"\", \"output\": \"'Only one individual may report services for a given period of time, to reflect the sole or predominant supervisory role with a particular patient\", \"meta\": {\"doc_id\": \"NYS_WCMFS_2018\", \"source_chunk_id\": \"NYS_WCMFS_20\n",
      "\n"
     ]
    }
   ],
   "source": [
    "import json\n",
    "from pathlib import Path\n",
    "\n",
    "def peek_jsonl(path: Path, n=5):\n",
    "    print(\"->\", path)\n",
    "    with path.open(\"r\", encoding=\"utf-8\") as f:\n",
    "        for i, line in enumerate(f, 1):\n",
    "            if i > n: break\n",
    "            print(line.rstrip()[:300])\n",
    "    print()\n",
    "\n",
    "qa_p = Path(sft_out[\"qa\"])\n",
    "sm_p = Path(sft_out[\"summaries\"])\n",
    "cb_p = Path(sft_out[\"combined\"])\n",
    "\n",
    "def load_jsonl(path: Path):\n",
    "    out = []\n",
    "    with path.open(\"r\", encoding=\"utf-8\") as f:\n",
    "        for line in f:\n",
    "            try: out.append(json.loads(line))\n",
    "            except: pass\n",
    "    return out\n",
    "\n",
    "qa = load_jsonl(qa_p)\n",
    "sm = load_jsonl(sm_p)\n",
    "cb = load_jsonl(cb_p)\n",
    "print(\"counts:\", len(qa), len(sm), len(cb))\n",
    "peek_jsonl(qa_p, 7)\n",
    "peek_jsonl(sm_p, 3)\n",
    "peek_jsonl(cb_p, 7)\n"
   ]
  },
  {
   "cell_type": "code",
   "execution_count": null,
   "id": "76b0011d",
   "metadata": {},
   "outputs": [],
   "source": []
  }
 ],
 "metadata": {
  "kernelspec": {
   "display_name": "pdf-agent-2",
   "language": "python",
   "name": "python3"
  },
  "language_info": {
   "codemirror_mode": {
    "name": "ipython",
    "version": 3
   },
   "file_extension": ".py",
   "mimetype": "text/x-python",
   "name": "python",
   "nbconvert_exporter": "python",
   "pygments_lexer": "ipython3",
   "version": "3.11.13"
  }
 },
 "nbformat": 4,
 "nbformat_minor": 5
}

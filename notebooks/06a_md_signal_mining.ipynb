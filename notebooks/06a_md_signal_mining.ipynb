{
 "cells": [
  {
   "cell_type": "code",
   "execution_count": 1,
   "id": "dbc09f23",
   "metadata": {},
   "outputs": [
    {
     "name": "stdout",
     "output_type": "stream",
     "text": [
      "Project root: d:\\IIT BBS\\Job Resources\\Business Optima\\new-pdf-agent\n"
     ]
    }
   ],
   "source": [
    "# 0) bootstrap\n",
    "import os, sys\n",
    "from pathlib import Path\n",
    "\n",
    "ROOT = Path.cwd()\n",
    "while not (ROOT / \"pyproject.toml\").exists() and ROOT != ROOT.parent:\n",
    "    ROOT = ROOT.parent\n",
    "os.chdir(ROOT)\n",
    "if str(ROOT) not in sys.path:\n",
    "    sys.path.insert(0, str(ROOT))\n",
    "print(\"Project root:\", ROOT)"
   ]
  },
  {
   "cell_type": "code",
   "execution_count": 2,
   "id": "97f9b5be",
   "metadata": {},
   "outputs": [
    {
     "name": "stdout",
     "output_type": "stream",
     "text": [
      "Sample rows: 20\n",
      "Top-level keys: Counter({'id': 20, 'text': 20, 'metadata': 20})\n",
      "Metadata keys: Counter({'doc_id': 20, 'block_type': 20, 'heading_path': 20, 'page_start': 20, 'page_end': 20})\n",
      "ID: NFS_2019-1\n",
      "metadata: {\n",
      "  \"doc_id\": \"NFS_2019\",\n",
      "  \"block_type\": \"para\",\n",
      "  \"heading_path\": [],\n",
      "  \"page_start\": 1,\n",
      "  \"page_end\": 1\n",
      "}\n",
      "---\n",
      "ID: NFS_2019-2\n",
      "metadata: {\n",
      "  \"doc_id\": \"NFS_2019\",\n",
      "  \"block_type\": \"para\",\n",
      "  \"heading_path\": [],\n",
      "  \"page_start\": 1,\n",
      "  \"page_end\": 1\n",
      "}\n",
      "---\n",
      "ID: NFS_2019-h-3\n",
      "metadata: {\n",
      "  \"doc_id\": \"NFS_2019\",\n",
      "  \"block_type\": \"heading\",\n",
      "  \"heading_path\": [\n",
      "    \"FEE SCHEDULE\"\n",
      "  ],\n",
      "  \"page_start\": 1,\n",
      "  \"page_end\": 1\n",
      "}\n",
      "---\n"
     ]
    }
   ],
   "source": [
    "from pathlib import Path\n",
    "import json, collections, itertools\n",
    "\n",
    "doc_id = \"NFS_2019\"\n",
    "chunks_path = Path(\"data/artifacts/NFS_2019/chunks\") / f\"{doc_id}.chunks.jsonl\"\n",
    "\n",
    "# peek a handful of rows to see the schema\n",
    "with chunks_path.open(\"r\", encoding=\"utf-8\") as f:\n",
    "    sample_lines = list(itertools.islice(f, 20))\n",
    "\n",
    "rows = [json.loads(x) for x in sample_lines]\n",
    "print(\"Sample rows:\", len(rows))\n",
    "\n",
    "# show top-level keys & metadata keys\n",
    "top_keys = collections.Counter()\n",
    "meta_keys = collections.Counter()\n",
    "for r in rows:\n",
    "    top_keys.update(r.keys())\n",
    "    md = r.get(\"metadata\") or r.get(\"meta\") or {}\n",
    "    if isinstance(md, dict):\n",
    "        meta_keys.update(md.keys())\n",
    "\n",
    "print(\"Top-level keys:\", top_keys)\n",
    "print(\"Metadata keys:\", meta_keys)\n",
    "\n",
    "# show a couple of metadata dicts to eyeball nesting\n",
    "for r in rows[:3]:\n",
    "    print(\"ID:\", r.get(\"id\"))\n",
    "    print(\"metadata:\", json.dumps((r.get(\"metadata\") or r.get(\"meta\") or {}), indent=2)[:800])\n",
    "    print(\"---\")"
   ]
  },
  {
   "cell_type": "code",
   "execution_count": 3,
   "id": "2c00e803",
   "metadata": {},
   "outputs": [],
   "source": [
    "from pathlib import Path\n",
    "from packages.calculators.miner import MinerConfig, MinerLLMConfig, MinerHeuristics, mine_from_chunks\n",
    "\n",
    "doc_id = \"NFS_2019\"\n",
    "cfg = MinerConfig(\n",
    "    use_llm=True,\n",
    "    llm=MinerLLMConfig(base_url=\"http://localhost:11434\", model=\"llama3.2:latest\", temperature=0.1, max_new_tokens=384, retries=1),\n",
    "    heur=MinerHeuristics(),\n",
    "    max_md_chars_per_page=6000,\n",
    "    output_root=\"data/mined\",\n",
    "    verbose=True\n",
    ")\n",
    "\n",
    "chunks_path = Path(\"data/artifacts/NFS_2019/chunks\") / f\"{doc_id}.chunks.jsonl\""
   ]
  },
  {
   "cell_type": "code",
   "execution_count": 4,
   "id": "38e4c7af",
   "metadata": {},
   "outputs": [
    {
     "name": "stdout",
     "output_type": "stream",
     "text": [
      "[miner] pages available: 498; selected: 30 -> [1, 2, 3, 4, 5, 7, 8, 9, 10, 11, 12, 13, 14, 15, 16, 17, 18, 19, 20, 21] ...\n"
     ]
    },
    {
     "data": {
      "text/plain": [
       "{'formulas': WindowsPath('data/mined/NFS_2019/formulas.jsonl'),\n",
       " 'notations': WindowsPath('data/mined/NFS_2019/notations.jsonl'),\n",
       " 'abbreviations': WindowsPath('data/mined/NFS_2019/abbreviations.jsonl'),\n",
       " 'tables': WindowsPath('data/mined/NFS_2019/tables.jsonl')}"
      ]
     },
     "execution_count": 4,
     "metadata": {},
     "output_type": "execute_result"
    }
   ],
   "source": [
    "paths = mine_from_chunks(\n",
    "    doc_id,\n",
    "    artifacts_root=Path(\"data/artifacts\"),\n",
    "    chunks_path=Path(\"data/artifacts/NFS_2019/chunks\") / f\"{doc_id}.chunks.jsonl\",\n",
    "    cfg=cfg,\n",
    "    limit_pages=30     # page_range=(10, 20); pages=[10, 11, 12, 13, 14]; page_range=(1, 50), stride=3, limit_pages=8;\n",
    ")\n",
    "\n",
    "paths"
   ]
  },
  {
   "cell_type": "code",
   "execution_count": 5,
   "id": "f71ff0c8",
   "metadata": {},
   "outputs": [
    {
     "name": "stdout",
     "output_type": "stream",
     "text": [
      "=== formulas data\\mined\\NFS_2019\\formulas.jsonl\n",
      "\n",
      "=== notations data\\mined\\NFS_2019\\notations.jsonl\n",
      "   {\"symbol\": \"and Appendix C\", \"meaning\": \"3 of Title 12 of the Official Compilation of\", \"unit\": null, \"provenance\": {\"doc_id\": \"NFS_2019\", \"page\": 3, \"heading_path\": [\"FEE SCHEDULE\", \"AMERICAN MEDICAL\n",
      "   {\"symbol\": \"Surgery Ground Rwles\", \"meaning\": \"ssi cic cgweoreey s 57\", \"unit\": null, \"provenance\": {\"doc_id\": \"NFS_2019\", \"page\": 5, \"heading_path\": [\"FEE SCHEDULE\", \"MEDICINE GROUND RULES\"]}, \"id\": \n",
      "   {\"symbol\": \"1 MSGICHHE\", \"meaning\": \". wiccosace wmicwsaes caus eww 7 329\", \"unit\": null, \"provenance\": {\"doc_id\": \"NFS_2019\", \"page\": 5, \"heading_path\": [\"FEE SCHEDULE\", \"MEDICINE GROUND RULES\"]}, \"i\n",
      "   {\"symbol\": \"S PRyplcel Medias\", \"meaning\": \"ccs. wiccassexs cea 371\", \"unit\": null, \"provenance\": {\"doc_id\": \"NFS_2019\", \"page\": 5, \"heading_path\": [\"FEE SCHEDULE\", \"MEDICINE GROUND RULES\"]}, \"id\": \"n\n",
      "   {\"symbol\": \"service\", \"meaning\": \"Additional modifier 51 exempt codes\", \"unit\": null, \"provenance\": {\"doc_id\": \"NFS_2019\", \"page\": 8, \"heading_path\": [\"FEE SCHEDULE\", \"AMERICAN MEDICAL ASSOCIATION NOT\n",
      "\n",
      "=== abbreviations data\\mined\\NFS_2019\\abbreviations.jsonl\n",
      "   {\"abbr\": \"PA\", \"expansion\": \"oard as to the fee\\namount using code 99075.\\nGround Rules for Physician Assistants\", \"provenance\": {\"doc_id\": \"NFS_2019\", \"page\": 19, \"heading_path\": [\"FEE SCHEDULE\", \"ME\n",
      "   {\"abbr\": \"NP\", \"expansion\": \"and\\nNurse Practitioners\", \"provenance\": {\"doc_id\": \"NFS_2019\", \"page\": 19, \"heading_path\": [\"FEE SCHEDULE\", \"MEDICINE GROUND RULES\"]}, \"id\": \"abb-19-ea6c28d9b4\"}\n",
      "   {\"abbr\": \"PA\", \"expansion\": \"tioner, and Licensed Clinical Social Worker's\\nServices\\nWhen a physician assistant\", \"provenance\": {\"doc_id\": \"NFS_2019\", \"page\": 20, \"heading_path\": [\"FEE SCHEDULE\", \"GE\n",
      "   {\"abbr\": \"NP\", \"expansion\": \"or nurse\\npractitioner\", \"provenance\": {\"doc_id\": \"NFS_2019\", \"page\": 20, \"heading_path\": [\"FEE SCHEDULE\", \"GENERAL GROUND RULES\"]}, \"id\": \"abb-20-3894cba75b\"}\n",
      "   {\"abbr\": \"AJ\", \"expansion\": \"or licensed clinical social\\nworker\", \"provenance\": {\"doc_id\": \"NFS_2019\", \"page\": 20, \"heading_path\": [\"FEE SCHEDULE\", \"GENERAL GROUND RULES\"]}, \"id\": \"abb-20-ebdc02e920\"\n",
      "\n",
      "=== tables data\\mined\\NFS_2019\\tables.jsonl\n",
      "\n"
     ]
    }
   ],
   "source": [
    "# 2) quick peek at each file\n",
    "import json\n",
    "for name, p in paths.items():\n",
    "    print(\"===\", name, p)\n",
    "    if p.exists():\n",
    "        lines = p.read_text(encoding=\"utf-8\").splitlines()[:5]\n",
    "        for ln in lines:\n",
    "            print(\"  \", ln[:200])\n",
    "    print()"
   ]
  },
  {
   "cell_type": "code",
   "execution_count": 6,
   "id": "a16f84e4",
   "metadata": {},
   "outputs": [
    {
     "name": "stdout",
     "output_type": "stream",
     "text": [
      "formulas 0\n"
     ]
    },
    {
     "data": {
      "text/html": [
       "<div>\n",
       "<style scoped>\n",
       "    .dataframe tbody tr th:only-of-type {\n",
       "        vertical-align: middle;\n",
       "    }\n",
       "\n",
       "    .dataframe tbody tr th {\n",
       "        vertical-align: top;\n",
       "    }\n",
       "\n",
       "    .dataframe thead th {\n",
       "        text-align: right;\n",
       "    }\n",
       "</style>\n",
       "<table border=\"1\" class=\"dataframe\">\n",
       "  <thead>\n",
       "    <tr style=\"text-align: right;\">\n",
       "      <th></th>\n",
       "    </tr>\n",
       "  </thead>\n",
       "  <tbody>\n",
       "  </tbody>\n",
       "</table>\n",
       "</div>"
      ],
      "text/plain": [
       "Empty DataFrame\n",
       "Columns: []\n",
       "Index: []"
      ]
     },
     "metadata": {},
     "output_type": "display_data"
    },
    {
     "name": "stdout",
     "output_type": "stream",
     "text": [
      "notations 88\n"
     ]
    },
    {
     "data": {
      "text/html": [
       "<div>\n",
       "<style scoped>\n",
       "    .dataframe tbody tr th:only-of-type {\n",
       "        vertical-align: middle;\n",
       "    }\n",
       "\n",
       "    .dataframe tbody tr th {\n",
       "        vertical-align: top;\n",
       "    }\n",
       "\n",
       "    .dataframe thead th {\n",
       "        text-align: right;\n",
       "    }\n",
       "</style>\n",
       "<table border=\"1\" class=\"dataframe\">\n",
       "  <thead>\n",
       "    <tr style=\"text-align: right;\">\n",
       "      <th></th>\n",
       "      <th>symbol</th>\n",
       "      <th>meaning</th>\n",
       "      <th>unit</th>\n",
       "      <th>provenance</th>\n",
       "      <th>id</th>\n",
       "    </tr>\n",
       "  </thead>\n",
       "  <tbody>\n",
       "    <tr>\n",
       "      <th>0</th>\n",
       "      <td>and Appendix C</td>\n",
       "      <td>3 of Title 12 of the Official Compilation of</td>\n",
       "      <td>None</td>\n",
       "      <td>{'doc_id': 'NFS_2019', 'page': 3, 'heading_pat...</td>\n",
       "      <td>not-3-40a0a922d3</td>\n",
       "    </tr>\n",
       "    <tr>\n",
       "      <th>1</th>\n",
       "      <td>Surgery Ground Rwles</td>\n",
       "      <td>ssi cic cgweoreey s 57</td>\n",
       "      <td>None</td>\n",
       "      <td>{'doc_id': 'NFS_2019', 'page': 5, 'heading_pat...</td>\n",
       "      <td>not-5-36b5e0529c</td>\n",
       "    </tr>\n",
       "    <tr>\n",
       "      <th>2</th>\n",
       "      <td>1 MSGICHHE</td>\n",
       "      <td>. wiccosace wmicwsaes caus eww 7 329</td>\n",
       "      <td>None</td>\n",
       "      <td>{'doc_id': 'NFS_2019', 'page': 5, 'heading_pat...</td>\n",
       "      <td>not-5-9c5e9506cd</td>\n",
       "    </tr>\n",
       "    <tr>\n",
       "      <th>3</th>\n",
       "      <td>S PRyplcel Medias</td>\n",
       "      <td>ccs. wiccassexs cea 371</td>\n",
       "      <td>None</td>\n",
       "      <td>{'doc_id': 'NFS_2019', 'page': 5, 'heading_pat...</td>\n",
       "      <td>not-5-c76abe0a9e</td>\n",
       "    </tr>\n",
       "    <tr>\n",
       "      <th>4</th>\n",
       "      <td>service</td>\n",
       "      <td>Additional modifier 51 exempt codes</td>\n",
       "      <td>None</td>\n",
       "      <td>{'doc_id': 'NFS_2019', 'page': 8, 'heading_pat...</td>\n",
       "      <td>not-8-07774c08e0</td>\n",
       "    </tr>\n",
       "  </tbody>\n",
       "</table>\n",
       "</div>"
      ],
      "text/plain": [
       "                 symbol                                       meaning  unit  \\\n",
       "0        and Appendix C  3 of Title 12 of the Official Compilation of  None   \n",
       "1  Surgery Ground Rwles                        ssi cic cgweoreey s 57  None   \n",
       "2            1 MSGICHHE          . wiccosace wmicwsaes caus eww 7 329  None   \n",
       "3     S PRyplcel Medias                       ccs. wiccassexs cea 371  None   \n",
       "4               service           Additional modifier 51 exempt codes  None   \n",
       "\n",
       "                                          provenance                id  \n",
       "0  {'doc_id': 'NFS_2019', 'page': 3, 'heading_pat...  not-3-40a0a922d3  \n",
       "1  {'doc_id': 'NFS_2019', 'page': 5, 'heading_pat...  not-5-36b5e0529c  \n",
       "2  {'doc_id': 'NFS_2019', 'page': 5, 'heading_pat...  not-5-9c5e9506cd  \n",
       "3  {'doc_id': 'NFS_2019', 'page': 5, 'heading_pat...  not-5-c76abe0a9e  \n",
       "4  {'doc_id': 'NFS_2019', 'page': 8, 'heading_pat...  not-8-07774c08e0  "
      ]
     },
     "metadata": {},
     "output_type": "display_data"
    },
    {
     "name": "stdout",
     "output_type": "stream",
     "text": [
      "abbreviations 20\n"
     ]
    },
    {
     "data": {
      "text/html": [
       "<div>\n",
       "<style scoped>\n",
       "    .dataframe tbody tr th:only-of-type {\n",
       "        vertical-align: middle;\n",
       "    }\n",
       "\n",
       "    .dataframe tbody tr th {\n",
       "        vertical-align: top;\n",
       "    }\n",
       "\n",
       "    .dataframe thead th {\n",
       "        text-align: right;\n",
       "    }\n",
       "</style>\n",
       "<table border=\"1\" class=\"dataframe\">\n",
       "  <thead>\n",
       "    <tr style=\"text-align: right;\">\n",
       "      <th></th>\n",
       "      <th>abbr</th>\n",
       "      <th>expansion</th>\n",
       "      <th>provenance</th>\n",
       "      <th>id</th>\n",
       "    </tr>\n",
       "  </thead>\n",
       "  <tbody>\n",
       "    <tr>\n",
       "      <th>0</th>\n",
       "      <td>PA</td>\n",
       "      <td>oard as to the fee\\namount using code 99075.\\n...</td>\n",
       "      <td>{'doc_id': 'NFS_2019', 'page': 19, 'heading_pa...</td>\n",
       "      <td>abb-19-2bf5373ed0</td>\n",
       "    </tr>\n",
       "    <tr>\n",
       "      <th>1</th>\n",
       "      <td>NP</td>\n",
       "      <td>and\\nNurse Practitioners</td>\n",
       "      <td>{'doc_id': 'NFS_2019', 'page': 19, 'heading_pa...</td>\n",
       "      <td>abb-19-ea6c28d9b4</td>\n",
       "    </tr>\n",
       "    <tr>\n",
       "      <th>2</th>\n",
       "      <td>PA</td>\n",
       "      <td>tioner, and Licensed Clinical Social Worker's\\...</td>\n",
       "      <td>{'doc_id': 'NFS_2019', 'page': 20, 'heading_pa...</td>\n",
       "      <td>abb-20-fee178031c</td>\n",
       "    </tr>\n",
       "    <tr>\n",
       "      <th>3</th>\n",
       "      <td>NP</td>\n",
       "      <td>or nurse\\npractitioner</td>\n",
       "      <td>{'doc_id': 'NFS_2019', 'page': 20, 'heading_pa...</td>\n",
       "      <td>abb-20-3894cba75b</td>\n",
       "    </tr>\n",
       "    <tr>\n",
       "      <th>4</th>\n",
       "      <td>AJ</td>\n",
       "      <td>or licensed clinical social\\nworker</td>\n",
       "      <td>{'doc_id': 'NFS_2019', 'page': 20, 'heading_pa...</td>\n",
       "      <td>abb-20-ebdc02e920</td>\n",
       "    </tr>\n",
       "  </tbody>\n",
       "</table>\n",
       "</div>"
      ],
      "text/plain": [
       "  abbr                                          expansion  \\\n",
       "0   PA  oard as to the fee\\namount using code 99075.\\n...   \n",
       "1   NP                           and\\nNurse Practitioners   \n",
       "2   PA  tioner, and Licensed Clinical Social Worker's\\...   \n",
       "3   NP                             or nurse\\npractitioner   \n",
       "4   AJ                or licensed clinical social\\nworker   \n",
       "\n",
       "                                          provenance                 id  \n",
       "0  {'doc_id': 'NFS_2019', 'page': 19, 'heading_pa...  abb-19-2bf5373ed0  \n",
       "1  {'doc_id': 'NFS_2019', 'page': 19, 'heading_pa...  abb-19-ea6c28d9b4  \n",
       "2  {'doc_id': 'NFS_2019', 'page': 20, 'heading_pa...  abb-20-fee178031c  \n",
       "3  {'doc_id': 'NFS_2019', 'page': 20, 'heading_pa...  abb-20-3894cba75b  \n",
       "4  {'doc_id': 'NFS_2019', 'page': 20, 'heading_pa...  abb-20-ebdc02e920  "
      ]
     },
     "metadata": {},
     "output_type": "display_data"
    },
    {
     "name": "stdout",
     "output_type": "stream",
     "text": [
      "tables 0\n"
     ]
    },
    {
     "data": {
      "text/html": [
       "<div>\n",
       "<style scoped>\n",
       "    .dataframe tbody tr th:only-of-type {\n",
       "        vertical-align: middle;\n",
       "    }\n",
       "\n",
       "    .dataframe tbody tr th {\n",
       "        vertical-align: top;\n",
       "    }\n",
       "\n",
       "    .dataframe thead th {\n",
       "        text-align: right;\n",
       "    }\n",
       "</style>\n",
       "<table border=\"1\" class=\"dataframe\">\n",
       "  <thead>\n",
       "    <tr style=\"text-align: right;\">\n",
       "      <th></th>\n",
       "    </tr>\n",
       "  </thead>\n",
       "  <tbody>\n",
       "  </tbody>\n",
       "</table>\n",
       "</div>"
      ],
      "text/plain": [
       "Empty DataFrame\n",
       "Columns: []\n",
       "Index: []"
      ]
     },
     "metadata": {},
     "output_type": "display_data"
    }
   ],
   "source": [
    "# 3) load into DataFrames for eyeballing\n",
    "import pandas as pd, json\n",
    "\n",
    "dfs = {}\n",
    "for name, p in paths.items():\n",
    "    if p.exists():\n",
    "        rows = [json.loads(x) for x in p.read_text(encoding=\"utf-8\").splitlines()]\n",
    "        dfs[name] = pd.DataFrame(rows)\n",
    "        print(name, len(rows))\n",
    "        display(dfs[name].head())\n"
   ]
  },
  {
   "cell_type": "code",
   "execution_count": 7,
   "id": "380448a7",
   "metadata": {},
   "outputs": [
    {
     "name": "stdout",
     "output_type": "stream",
     "text": [
      "Pages present: [] ... total: 1\n",
      "Counts sample: [(-1, 13848)]\n"
     ]
    }
   ],
   "source": [
    "from pathlib import Path\n",
    "import json, collections\n",
    "\n",
    "chunks_path = Path(\"data/artifacts/NFS_2019/chunks/NFS_2019.chunks.jsonl\")\n",
    "rows = [json.loads(x) for x in chunks_path.read_text(encoding=\"utf-8\").splitlines()]\n",
    "counter = collections.Counter(int((r.get(\"metadata\") or {}).get(\"page\", -1)) for r in rows)\n",
    "print(\"Pages present:\", sorted([p for p in counter if p >= 0])[:50], \"... total:\", len(counter))\n",
    "print(\"Counts sample:\", counter.most_common(10))\n"
   ]
  }
 ],
 "metadata": {
  "kernelspec": {
   "display_name": "pdf-agent-2",
   "language": "python",
   "name": "python3"
  },
  "language_info": {
   "codemirror_mode": {
    "name": "ipython",
    "version": 3
   },
   "file_extension": ".py",
   "mimetype": "text/x-python",
   "name": "python",
   "nbconvert_exporter": "python",
   "pygments_lexer": "ipython3",
   "version": "3.11.13"
  }
 },
 "nbformat": 4,
 "nbformat_minor": 5
}

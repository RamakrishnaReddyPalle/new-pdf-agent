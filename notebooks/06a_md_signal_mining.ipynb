{
 "cells": [
  {
   "cell_type": "code",
   "execution_count": 1,
   "id": "dbc09f23",
   "metadata": {},
   "outputs": [
    {
     "name": "stdout",
     "output_type": "stream",
     "text": [
      "Project root: d:\\IIT BBS\\Job Resources\\Business Optima\\new-pdf-agent\n"
     ]
    }
   ],
   "source": [
    "# 0) bootstrap\n",
    "import os, sys\n",
    "from pathlib import Path\n",
    "\n",
    "ROOT = Path.cwd()\n",
    "while not (ROOT / \"pyproject.toml\").exists() and ROOT != ROOT.parent:\n",
    "    ROOT = ROOT.parent\n",
    "os.chdir(ROOT)\n",
    "if str(ROOT) not in sys.path:\n",
    "    sys.path.insert(0, str(ROOT))\n",
    "print(\"Project root:\", ROOT)"
   ]
  },
  {
   "cell_type": "code",
   "execution_count": 2,
   "id": "97f9b5be",
   "metadata": {},
   "outputs": [
    {
     "name": "stdout",
     "output_type": "stream",
     "text": [
      "Sample rows: 20\n",
      "Top-level keys: Counter({'id': 20, 'text': 20, 'metadata': 20})\n",
      "Metadata keys: Counter({'doc_id': 20, 'block_type': 20, 'heading_path': 20, 'page_start': 20, 'page_end': 20})\n",
      "ID: NFS_2019-1\n",
      "metadata: {\n",
      "  \"doc_id\": \"NFS_2019\",\n",
      "  \"block_type\": \"para\",\n",
      "  \"heading_path\": [],\n",
      "  \"page_start\": 1,\n",
      "  \"page_end\": 1\n",
      "}\n",
      "---\n",
      "ID: NFS_2019-2\n",
      "metadata: {\n",
      "  \"doc_id\": \"NFS_2019\",\n",
      "  \"block_type\": \"para\",\n",
      "  \"heading_path\": [],\n",
      "  \"page_start\": 1,\n",
      "  \"page_end\": 1\n",
      "}\n",
      "---\n",
      "ID: NFS_2019-h-3\n",
      "metadata: {\n",
      "  \"doc_id\": \"NFS_2019\",\n",
      "  \"block_type\": \"heading\",\n",
      "  \"heading_path\": [\n",
      "    \"FEE SCHEDULE\"\n",
      "  ],\n",
      "  \"page_start\": 1,\n",
      "  \"page_end\": 1\n",
      "}\n",
      "---\n"
     ]
    }
   ],
   "source": [
    "from pathlib import Path\n",
    "import json, collections, itertools\n",
    "\n",
    "doc_id = \"NFS_2019\"\n",
    "chunks_path = Path(\"data/artifacts/NFS_2019/chunks\") / f\"{doc_id}.chunks.jsonl\"\n",
    "\n",
    "# peek a handful of rows to see the schema\n",
    "with chunks_path.open(\"r\", encoding=\"utf-8\") as f:\n",
    "    sample_lines = list(itertools.islice(f, 20))\n",
    "\n",
    "rows = [json.loads(x) for x in sample_lines]\n",
    "print(\"Sample rows:\", len(rows))\n",
    "\n",
    "# show top-level keys & metadata keys\n",
    "top_keys = collections.Counter()\n",
    "meta_keys = collections.Counter()\n",
    "for r in rows:\n",
    "    top_keys.update(r.keys())\n",
    "    md = r.get(\"metadata\") or r.get(\"meta\") or {}\n",
    "    if isinstance(md, dict):\n",
    "        meta_keys.update(md.keys())\n",
    "\n",
    "print(\"Top-level keys:\", top_keys)\n",
    "print(\"Metadata keys:\", meta_keys)\n",
    "\n",
    "# show a couple of metadata dicts to eyeball nesting\n",
    "for r in rows[:3]:\n",
    "    print(\"ID:\", r.get(\"id\"))\n",
    "    print(\"metadata:\", json.dumps((r.get(\"metadata\") or r.get(\"meta\") or {}), indent=2)[:800])\n",
    "    print(\"---\")"
   ]
  },
  {
   "cell_type": "code",
   "execution_count": null,
   "id": "2c00e803",
   "metadata": {},
   "outputs": [
    {
     "name": "stdout",
     "output_type": "stream",
     "text": [
      "[miner] doc=NFS_2019 total_rows=13848 pages_in_scope=[1, 2, 3, 4, 5, 7, 8, 9, 10, 11, 12, 13, 14, 15, 16, 17, 18, 19, 20, 21, 22, 23, 24, 25, 26, 27, 28, 29, 30, 31]... total_pages=499\n"
     ]
    }
   ],
   "source": [
    "from pathlib import Path\n",
    "from packages.calculators.miner import MinerConfig, MinerLLMConfig, MinerHeuristics, mine_from_chunks\n",
    "\n",
    "doc_id = \"NFS_2019\"\n",
    "cfg = MinerConfig(\n",
    "    use_llm=True,\n",
    "    llm=MinerLLMConfig(base_url=\"http://localhost:11434\", model=\"llama3.2:latest\", temperature=0.1, max_new_tokens=384, retries=1),\n",
    "    heur=MinerHeuristics(),\n",
    "    max_md_chars_per_page=6000,\n",
    "    output_root=\"data/mined\",\n",
    "    verbose=True\n",
    ")\n",
    "\n",
    "chunks_path = Path(\"data/artifacts/NFS_2019/chunks\") / f\"{doc_id}.chunks.jsonl\"\n",
    "paths = mine_from_chunks(doc_id, artifacts_root=Path(\"data/artifacts\"), chunks_path=chunks_path, pages=None, cfg=cfg)\n",
    "paths"
   ]
  },
  {
   "cell_type": "code",
   "execution_count": 4,
   "id": "c9807ba2",
   "metadata": {},
   "outputs": [],
   "source": [
    "# # 1) choose doc + pages to sample\n",
    "# doc_id = \"NFS_2019\"\n",
    "# sample_pages = [10, 11, 12, 13, 14, 15, 16, 17, 18, 19, 20]   # <- change to any pages you want to inspect\n",
    "\n",
    "# from packages.calculators.miner import MinerConfig, MinerLLMConfig, MinerHeuristics, mine_from_chunks\n",
    "\n",
    "# # you can toggle use_llm quickly here\n",
    "# cfg = MinerConfig(\n",
    "#     use_llm=True,                                   # set False to see pure-heuristic output\n",
    "#     llm=MinerLLMConfig(\n",
    "#         base_url=\"http://localhost:11434\",          # your eval_ollama or chat port\n",
    "#         model=\"llama3.2:latest\",\n",
    "#         temperature=0.1,\n",
    "#         max_new_tokens=384,\n",
    "#         retries=1,\n",
    "#     ),\n",
    "#     heur=MinerHeuristics(),\n",
    "#     max_md_chars_per_page=5000,\n",
    "#     output_root=\"data/mined\",\n",
    "# )\n",
    "\n",
    "# paths = mine_from_chunks(doc_id, Path(\"data/artifacts\"), pages=sample_pages, cfg=cfg)\n",
    "# paths"
   ]
  },
  {
   "cell_type": "code",
   "execution_count": 3,
   "id": "f71ff0c8",
   "metadata": {},
   "outputs": [
    {
     "name": "stdout",
     "output_type": "stream",
     "text": [
      "=== formulas data\\mined\\NFS_2019\\formulas.jsonl\n",
      "\n",
      "=== notations data\\mined\\NFS_2019\\notations.jsonl\n",
      "\n",
      "=== abbreviations data\\mined\\NFS_2019\\abbreviations.jsonl\n",
      "\n",
      "=== tables data\\mined\\NFS_2019\\tables.jsonl\n",
      "\n"
     ]
    }
   ],
   "source": [
    "# 2) quick peek at each file\n",
    "import json\n",
    "for name, p in paths.items():\n",
    "    print(\"===\", name, p)\n",
    "    if p.exists():\n",
    "        lines = p.read_text(encoding=\"utf-8\").splitlines()[:5]\n",
    "        for ln in lines:\n",
    "            print(\"  \", ln[:200])\n",
    "    print()"
   ]
  },
  {
   "cell_type": "code",
   "execution_count": 4,
   "id": "a16f84e4",
   "metadata": {},
   "outputs": [
    {
     "name": "stdout",
     "output_type": "stream",
     "text": [
      "formulas 0\n"
     ]
    },
    {
     "data": {
      "text/html": [
       "<div>\n",
       "<style scoped>\n",
       "    .dataframe tbody tr th:only-of-type {\n",
       "        vertical-align: middle;\n",
       "    }\n",
       "\n",
       "    .dataframe tbody tr th {\n",
       "        vertical-align: top;\n",
       "    }\n",
       "\n",
       "    .dataframe thead th {\n",
       "        text-align: right;\n",
       "    }\n",
       "</style>\n",
       "<table border=\"1\" class=\"dataframe\">\n",
       "  <thead>\n",
       "    <tr style=\"text-align: right;\">\n",
       "      <th></th>\n",
       "    </tr>\n",
       "  </thead>\n",
       "  <tbody>\n",
       "  </tbody>\n",
       "</table>\n",
       "</div>"
      ],
      "text/plain": [
       "Empty DataFrame\n",
       "Columns: []\n",
       "Index: []"
      ]
     },
     "metadata": {},
     "output_type": "display_data"
    },
    {
     "name": "stdout",
     "output_type": "stream",
     "text": [
      "notations 0\n"
     ]
    },
    {
     "data": {
      "text/html": [
       "<div>\n",
       "<style scoped>\n",
       "    .dataframe tbody tr th:only-of-type {\n",
       "        vertical-align: middle;\n",
       "    }\n",
       "\n",
       "    .dataframe tbody tr th {\n",
       "        vertical-align: top;\n",
       "    }\n",
       "\n",
       "    .dataframe thead th {\n",
       "        text-align: right;\n",
       "    }\n",
       "</style>\n",
       "<table border=\"1\" class=\"dataframe\">\n",
       "  <thead>\n",
       "    <tr style=\"text-align: right;\">\n",
       "      <th></th>\n",
       "    </tr>\n",
       "  </thead>\n",
       "  <tbody>\n",
       "  </tbody>\n",
       "</table>\n",
       "</div>"
      ],
      "text/plain": [
       "Empty DataFrame\n",
       "Columns: []\n",
       "Index: []"
      ]
     },
     "metadata": {},
     "output_type": "display_data"
    },
    {
     "name": "stdout",
     "output_type": "stream",
     "text": [
      "abbreviations 0\n"
     ]
    },
    {
     "data": {
      "text/html": [
       "<div>\n",
       "<style scoped>\n",
       "    .dataframe tbody tr th:only-of-type {\n",
       "        vertical-align: middle;\n",
       "    }\n",
       "\n",
       "    .dataframe tbody tr th {\n",
       "        vertical-align: top;\n",
       "    }\n",
       "\n",
       "    .dataframe thead th {\n",
       "        text-align: right;\n",
       "    }\n",
       "</style>\n",
       "<table border=\"1\" class=\"dataframe\">\n",
       "  <thead>\n",
       "    <tr style=\"text-align: right;\">\n",
       "      <th></th>\n",
       "    </tr>\n",
       "  </thead>\n",
       "  <tbody>\n",
       "  </tbody>\n",
       "</table>\n",
       "</div>"
      ],
      "text/plain": [
       "Empty DataFrame\n",
       "Columns: []\n",
       "Index: []"
      ]
     },
     "metadata": {},
     "output_type": "display_data"
    },
    {
     "name": "stdout",
     "output_type": "stream",
     "text": [
      "tables 0\n"
     ]
    },
    {
     "data": {
      "text/html": [
       "<div>\n",
       "<style scoped>\n",
       "    .dataframe tbody tr th:only-of-type {\n",
       "        vertical-align: middle;\n",
       "    }\n",
       "\n",
       "    .dataframe tbody tr th {\n",
       "        vertical-align: top;\n",
       "    }\n",
       "\n",
       "    .dataframe thead th {\n",
       "        text-align: right;\n",
       "    }\n",
       "</style>\n",
       "<table border=\"1\" class=\"dataframe\">\n",
       "  <thead>\n",
       "    <tr style=\"text-align: right;\">\n",
       "      <th></th>\n",
       "    </tr>\n",
       "  </thead>\n",
       "  <tbody>\n",
       "  </tbody>\n",
       "</table>\n",
       "</div>"
      ],
      "text/plain": [
       "Empty DataFrame\n",
       "Columns: []\n",
       "Index: []"
      ]
     },
     "metadata": {},
     "output_type": "display_data"
    }
   ],
   "source": [
    "# 3) load into DataFrames for eyeballing\n",
    "import pandas as pd, json\n",
    "\n",
    "dfs = {}\n",
    "for name, p in paths.items():\n",
    "    if p.exists():\n",
    "        rows = [json.loads(x) for x in p.read_text(encoding=\"utf-8\").splitlines()]\n",
    "        dfs[name] = pd.DataFrame(rows)\n",
    "        print(name, len(rows))\n",
    "        display(dfs[name].head())\n"
   ]
  },
  {
   "cell_type": "code",
   "execution_count": 6,
   "id": "380448a7",
   "metadata": {},
   "outputs": [
    {
     "name": "stdout",
     "output_type": "stream",
     "text": [
      "Pages present: [] ... total: 1\n",
      "Counts sample: [(-1, 13848)]\n"
     ]
    }
   ],
   "source": [
    "from pathlib import Path\n",
    "import json, collections\n",
    "\n",
    "chunks_path = Path(\"data/artifacts/NFS_2019/chunks/NFS_2019.chunks.jsonl\")\n",
    "rows = [json.loads(x) for x in chunks_path.read_text(encoding=\"utf-8\").splitlines()]\n",
    "counter = collections.Counter(int((r.get(\"metadata\") or {}).get(\"page\", -1)) for r in rows)\n",
    "print(\"Pages present:\", sorted([p for p in counter if p >= 0])[:50], \"... total:\", len(counter))\n",
    "print(\"Counts sample:\", counter.most_common(10))\n"
   ]
  },
  {
   "cell_type": "code",
   "execution_count": null,
   "id": "742e893d",
   "metadata": {},
   "outputs": [],
   "source": []
  }
 ],
 "metadata": {
  "kernelspec": {
   "display_name": "pdf-agent-2",
   "language": "python",
   "name": "python3"
  },
  "language_info": {
   "codemirror_mode": {
    "name": "ipython",
    "version": 3
   },
   "file_extension": ".py",
   "mimetype": "text/x-python",
   "name": "python",
   "nbconvert_exporter": "python",
   "pygments_lexer": "ipython3",
   "version": "3.11.13"
  }
 },
 "nbformat": 4,
 "nbformat_minor": 5
}

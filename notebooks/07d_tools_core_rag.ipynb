{
 "cells": [
  {
   "cell_type": "code",
   "execution_count": 1,
   "id": "c069a749",
   "metadata": {},
   "outputs": [
    {
     "name": "stdout",
     "output_type": "stream",
     "text": [
      "Project root: d:\\IIT BBS\\Job Resources\\Business Optima\\new-pdf-agent\n",
      "{'models': {'intro': {'provider': 'ollama', 'base_url': 'http://127.0.0.1:11434', 'model': 'llama3.2:latest', 'temperature': 0.2, 'max_new_tokens': 256}, 'splitter': {'provider': 'ollama', 'base_url': 'http://127.0.0.1:11434', 'model': 'llama3.2:latest', 'temperature': 0.2, 'max_new_tokens': 256}, 'core': {'provider': 'ollama', 'base_url': 'http://127.0.0.1:11434', 'model': 'llama3.2:latest', 'temperature': 0.2, 'max_new_tokens': 512}, 'output': {'provider': 'ollama', 'base_url': 'http://127.0.0.1:11434', 'model': 'llama3.2:latest', 'temperature': 0.3, 'max_new_tokens': 512}}, 'splitter': {'max_questions': 6, 'allow_notes': True, 'prompt_path': 'configs/prompts/chat/splitter.txt'}, 'guardrails': {'model_role': 'intro', 'prompt_path': 'configs/prompts/chat/intro_guard.txt', 'max_input_chars': 4000, 'pii_block': False, 'pii_regex': ['[A-Za-z0-9._%+-]+@[A-Za-z0-9.-]+\\\\.[A-Za-z]{2,}', '\\\\b(?:\\\\+?\\\\d{1,3}[-.\\\\s]?)?(?:\\\\(?\\\\d{3}\\\\)?[-.\\\\s]?)?\\\\d{3}[-.\\\\s]?\\\\d{4}\\\\b'], 'blocked_regex': ['(?i)hack|exploit|payload']}, 'structured_output': {'prefer_native': True, 'method': 'json_schema'}}\n"
     ]
    }
   ],
   "source": [
    "# --- 0) bootstrap ---\n",
    "import os, sys\n",
    "from pathlib import Path\n",
    "\n",
    "ROOT = Path.cwd()\n",
    "while not (ROOT / \"pyproject.toml\").exists() and ROOT != ROOT.parent:\n",
    "    ROOT = ROOT.parent\n",
    "os.chdir(ROOT)\n",
    "if str(ROOT) not in sys.path:\n",
    "    sys.path.insert(0, str(ROOT))\n",
    "\n",
    "print(\"Project root:\", ROOT)\n",
    "\n",
    "DOC_ID = \"NFS_2019\"      # pick any mounted/ingested doc id\n",
    "ARTIFACTS_ROOT = Path(\"data/artifacts\")\n",
    "MODELS_ROOT    = Path(\"data/models\")\n",
    "\n",
    "from packages.core_config.config import load_yaml\n",
    "cfg = load_yaml(\"configs/providers.yaml\")\n",
    "\n",
    "print({\n",
    "    \"models\": cfg.get(\"chat.models\"),\n",
    "    \"splitter\": cfg.get(\"chat.splitter\"),\n",
    "    \"guardrails\": cfg.get(\"chat.guardrails\"),\n",
    "    \"structured_output\": cfg.get(\"chat.structured_output\"),\n",
    "})"
   ]
  },
  {
   "cell_type": "code",
   "execution_count": 2,
   "id": "aa8f604e",
   "metadata": {},
   "outputs": [
    {
     "name": "stdout",
     "output_type": "stream",
     "text": [
      "Sessions dir: data\\sessions\n",
      "Adapter used: data\\models\\NFS_2019\\20bb948f\\adapter\n",
      "Collection:   NFS_2019\n",
      "Tools:        ['doc_retrieve', 'calc_run']\n",
      "Sections (first 200 chars): (outline not available)\n",
      "Abbreviations (first 200): (abbreviations not available)\n"
     ]
    },
    {
     "name": "stderr",
     "output_type": "stream",
     "text": [
      "d:\\IIT BBS\\Job Resources\\Business Optima\\new-pdf-agent\\packages\\chat\\models.py:164: LangChainDeprecationWarning: The class `ChatOllama` was deprecated in LangChain 0.3.1 and will be removed in 1.0.0. An updated version of the class exists in the :class:`~langchain-ollama package and should be used instead. To use it run `pip install -U :class:`~langchain-ollama` and import as `from :class:`~langchain_ollama import ChatOllama``.\n",
      "  return ChatOllama(\n"
     ]
    }
   ],
   "source": [
    "# --- 1) mount chat (retriever + models + tools) ---\n",
    "from packages.chat.router import mount_chat\n",
    "\n",
    "mount = mount_chat(DOC_ID)\n",
    "print(\"Sessions dir:\", mount.sessions_dir)\n",
    "print(\"Adapter used:\", mount.profile.adapter_path)\n",
    "print(\"Collection:  \", mount.profile.collection)\n",
    "print(\"Tools:       \", [t.name for t in mount.tools])\n",
    "\n",
    "# small helpers for optional profile info\n",
    "sections_text = getattr(mount.profile, \"sections_text\", None) or \"(outline not available)\"\n",
    "abbreviations_text = getattr(mount.profile, \"abbreviations_text\", None) or \"(abbreviations not available)\"\n",
    "print(\"Sections (first 200 chars):\", sections_text[:200] or \"(n/a)\")\n",
    "print(\"Abbreviations (first 200):\", abbreviations_text[:200] or \"(n/a)\")"
   ]
  },
  {
   "cell_type": "code",
   "execution_count": 3,
   "id": "79f8b017",
   "metadata": {},
   "outputs": [
    {
     "name": "stdout",
     "output_type": "stream",
     "text": [
      "intro     http://127.0.0.1:11434 -> 200\n",
      "splitter  http://127.0.0.1:11434 -> 200\n",
      "output    http://127.0.0.1:11434 -> 200\n"
     ]
    }
   ],
   "source": [
    "# --- 2) Ollama health check for the chat roles (intro/splitter/output) ---\n",
    "import requests, yaml\n",
    "\n",
    "def check_roles_health(yaml_path=\"configs/providers.yaml\", roles=(\"intro\",\"splitter\",\"output\")):\n",
    "    cfg = yaml.safe_load(open(yaml_path, \"r\", encoding=\"utf-8\"))\n",
    "    failed = []\n",
    "    for role in roles:\n",
    "        url = cfg[\"chat\"][\"models\"][role][\"base_url\"]\n",
    "        try:\n",
    "            r = requests.get(f\"{url}/api/tags\", timeout=10)\n",
    "            print(f\"{role:9s} {url} -> {r.status_code}\")\n",
    "            if r.status_code != 200:\n",
    "                failed.append((role, url, f\"HTTP {r.status_code}\"))\n",
    "        except Exception as e:\n",
    "            print(f\"{role:9s} {url} -> ERROR: {type(e).__name__}: {e}\")\n",
    "            failed.append((role, url, str(e)))\n",
    "    return failed\n",
    "\n",
    "fails = check_roles_health()\n",
    "if fails:\n",
    "    raise SystemExit(\n",
    "        \"Ollama health check failed for roles:\\n\" +\n",
    "        \"\\n\".join(f\" - {role} at {url}: {err}\" for role, url, err in fails) +\n",
    "        \"\\n\\nQuick fixes:\\n\"\n",
    "        \"  1) Ensure `ollama serve` is running on that port\\n\"\n",
    "        \"  2) Make YAML base_url match the running port (e.g., http://127.0.0.1:11434)\\n\"\n",
    "    )"
   ]
  },
  {
   "cell_type": "code",
   "execution_count": 4,
   "id": "e198a0f7",
   "metadata": {},
   "outputs": [
    {
     "name": "stdout",
     "output_type": "stream",
     "text": [
      "\n",
      "Q: What are the Section 3 fees?\n",
      "→ prefilter: {'ok': True, 'reason': 'ok'}\n",
      "→ decision : {'in_scope': True, 'intent': 'glossary', 'reason': '', 'rewritten': 'What are the Section 3 fees?'}\n",
      "\n",
      "Q: Compute the reimbursement using the table in section N 25 8 28 3 for code 12345.\n",
      "→ prefilter: {'ok': True, 'reason': 'ok'}\n",
      "→ decision : {'in_scope': True, 'intent': 'table', 'reason': 'The reimbursement can be computed using the table in section 25 8 28 3 for code 12345.', 'rewritten': 'Compute the reimbursement using the table in section 25 8 28 3 for code 12345.'}\n",
      "\n",
      "Q: Who won the Premier League in 2021?\n",
      "→ prefilter: {'ok': True, 'reason': 'ok'}\n",
      "→ decision : {'in_scope': False, 'intent': 'other', 'reason': 'Premier League winner not covered in this document', 'rewritten': ''}\n",
      "\n",
      "Q: Define 'conversion factor' used in this document.\n",
      "→ prefilter: {'ok': True, 'reason': 'ok'}\n",
      "→ decision : {'in_scope': True, 'intent': 'glossary', 'reason': '', 'rewritten': \"Define 'conversion factor' used in this document.\"}\n",
      "\n",
      "Q: What's the PDF version and publication year?\n",
      "→ prefilter: {'ok': True, 'reason': 'ok'}\n",
      "→ decision : {'in_scope': True, 'intent': 'meta', 'reason': 'None', 'rewritten': 'What is the PDF version and publication year?'}\n"
     ]
    }
   ],
   "source": [
    "# --- 3) guardrails smoke ---\n",
    "from packages.chat.guardrails import route_scope\n",
    "\n",
    "tests = [\n",
    "    \"What are the Section 3 fees?\",\n",
    "    \"Compute the reimbursement using the table in section N 25 8 28 3 for code 12345.\",\n",
    "    \"Who won the Premier League in 2021?\",\n",
    "    \"Define 'conversion factor' used in this document.\",\n",
    "    \"What's the PDF version and publication year?\",\n",
    "]\n",
    "\n",
    "for q in tests:\n",
    "    r = route_scope(\n",
    "        mount.llm_intro,\n",
    "        doc_id=mount.profile.doc_id,\n",
    "        sections_text=sections_text,\n",
    "        abbreviations_text=abbreviations_text,\n",
    "        user_query=q,\n",
    "    )\n",
    "    decision = r[\"decision\"]\n",
    "    print(f\"\\nQ: {q}\\n→ prefilter: {r['prefilter']}\\n→ decision : {decision}\")"
   ]
  },
  {
   "cell_type": "code",
   "execution_count": 5,
   "id": "eeab2264",
   "metadata": {},
   "outputs": [
    {
     "name": "stdout",
     "output_type": "stream",
     "text": [
      "\n",
      "Q: What are Section 3 fees and also define conversion factor.\n",
      "→ ['q1: What are Section 3 fees?', 'q2: Define conversion factor.'] | notes: \n",
      "\n",
      "Q: Compute reimbursement from section N 25 8 28 3 for code 12345; also, what’s the PDF version?\n",
      "→ ['q1: What is the reimbursement for code 12345?', 'q2: What is the PDF version?'] | notes: \n",
      "\n",
      "Q: Only this: conversion factor definition.\n",
      "→ ['q1: What is the conversion factor definition?'] | notes: \n",
      "\n",
      "Q: Three things: A) Section 3, B) formula for X, C) any glossary of N 25 8 28 3?\n",
      "→ ['q1: What is the section number?', 'q2: What is the formula for X?', 'q3: Can you provide a glossary of N 25 8 28 3?'] | notes: \n",
      "\n",
      "Q: What are the fees; and the conversion factor; and publication year 2019?\n",
      "→ ['q1: What are the fees?', 'q2: What is the conversion factor?', 'q3: What was the publication year in 2019?'] | notes: \n"
     ]
    }
   ],
   "source": [
    "# --- 4) splitter smoke ---\n",
    "from packages.chat.splitter import split_and_clean\n",
    "\n",
    "multi = [\n",
    "    \"What are Section 3 fees and also define conversion factor.\",\n",
    "    \"Compute reimbursement from section N 25 8 28 3 for code 12345; also, what’s the PDF version?\",\n",
    "    \"Only this: conversion factor definition.\",\n",
    "    \"Three things: A) Section 3, B) formula for X, C) any glossary of N 25 8 28 3?\",\n",
    "    \"What are the fees; and the conversion factor; and publication year 2019?\"\n",
    "]\n",
    "\n",
    "for q in multi:\n",
    "    plan = split_and_clean(mount.llm_splitter, q)\n",
    "    print(\"\\nQ:\", q)\n",
    "    print(\"→\", [f\"{x.id}: {x.text}\" for x in plan.questions], \"| notes:\", plan.notes)"
   ]
  },
  {
   "cell_type": "code",
   "execution_count": 6,
   "id": "53c787f9",
   "metadata": {},
   "outputs": [
    {
     "name": "stdout",
     "output_type": "stream",
     "text": [
      "Top 10 hits\n",
      " 1. id=NFS_2019-11267 score=0.650 page=None, heading=FEE SCHEDULE > N 25 8 28 3\n",
      " 2. id=NFS_2019-h-207 score=0.642 page=None, heading=FEE SCHEDULE > 3.76 BR XXX XXX\n",
      " 3. id=NFS_2019-11118 score=0.642 page=None, heading=FEE SCHEDULE > CONVERSION FACTORS\n",
      " 4. id=NFS_2019-11334 score=0.640 page=None, heading=FEE SCHEDULE > N 25 8 28 3\n",
      " 5. id=NFS_2019-11404 score=0.640 page=None, heading=FEE SCHEDULE > N 25 8 28 3\n",
      " 6. id=NFS_2019-488 score=0.640 page=None, heading=FEE SCHEDULE > GENERAL GROUND RULES\n",
      " 7. id=NFS_2019-h-3 score=0.640 page=None, heading=FEE SCHEDULE\n",
      " 8. id=NFS_2019-10230 score=0.639 page=None, heading=FEE SCHEDULE > MEDICINE GROUND RULES\n",
      " 9. id=NFS_2019-11376 score=0.639 page=None, heading=FEE SCHEDULE > N 25 8 28 3\n",
      "10. id=NFS_2019-11403 score=0.637 page=None, heading=FEE SCHEDULE > N 25 8 28 3\n",
      "\n",
      "Tool JSON sample: [{\"id\": \"NFS_2019-11219\", \"text\": \"Description Value\", \"metadata\": {\"block_type\": \"para\", \"page_end\": 36, \"page_start\": 36, \"heading_path\": \"FEE SCHEDULE > CONVERSION FACTORS\", \"doc_id\": \"NFS_2019\"}, \"score\": 0.6853965395049194}, {\"id\": \"NF ...\n"
     ]
    }
   ],
   "source": [
    "# --- 5) retriever + minimal tool demo ---\n",
    "import json\n",
    "\n",
    "hits = mount.retriever.search(\"What are the Section 3 fees?\")\n",
    "print(\"Top\", len(hits), \"hits\")\n",
    "for i, h in enumerate(hits, 1):\n",
    "    m = h.get(\"metadata\", {})\n",
    "    print(f\"{i:>2}. id={h['id']} score={h['score']:.3f} page={m.get('page')}, heading={m.get('heading_path')}\")\n",
    "\n",
    "# A tiny tool-like function (no new files): returns JSON list for the question\n",
    "def retrieve_context_json(question: str, top_k: int = 6) -> str:\n",
    "    snips = mount.retriever.search(question)[:top_k]\n",
    "    return json.dumps(snips, ensure_ascii=False)\n",
    "\n",
    "print(\"\\nTool JSON sample:\", retrieve_context_json(\"Define conversion factor.\")[:240], \"...\")"
   ]
  },
  {
   "cell_type": "code",
   "execution_count": 7,
   "id": "0d7fecfa",
   "metadata": {},
   "outputs": [
    {
     "name": "stdout",
     "output_type": "stream",
     "text": [
      "Answer: {\"answer\": \"Section 3 fees are not explicitly defined in the provided context.\", \"citations\": [{\"id\": \"NFS_2019-11267\", \"text\": \"Category III Codes\", \"metadata\": {\"page_start\": 5, \"heading_path\": \"FEE SCHEDULE > N 25 8 28 3\", \"page_end\": 5, \"doc_id\": \"NFS_2019\", \"block_type\": \"para\"}, \"score\": 0.6500933298345947}, {\"id\": \"NFS_2019-h-207\", \"text\": \"3.76 BR XXX XXX\", \"metadata\": {\"block_type\": \"head ...\n",
      "Citations: ['NFS_2019-11267', 'NFS_2019-h-207']\n"
     ]
    }
   ],
   "source": [
    "# --- 6) Core RAG: non-stream answer_one ---\n",
    "from packages.chat.core_rag import CoreRAG  # ensure this import sees the new file\n",
    "core = CoreRAG(mount.retriever, mount.llm_core)\n",
    "\n",
    "q = \"What are the Section 3 fees?\"\n",
    "ans = await core.answer_one(q)\n",
    "print(\"Answer:\", ans.answer[:400], \"...\")\n",
    "print(\"Citations:\", [c.id for c in ans.citations])"
   ]
  },
  {
   "cell_type": "code",
   "execution_count": 8,
   "id": "a71f0cc5",
   "metadata": {},
   "outputs": [
    {
     "name": "stdout",
     "output_type": "stream",
     "text": [
      "Retrieved 8 snippets\n",
      "\n",
      "[1] id=NFS_2019-11267 score=0.650\n",
      "heading: FEE SCHEDULE > N 25 8 28 3\n",
      "page: None\n",
      "--------------------------------------------------------------------------------\n",
      "Category III Codes\n",
      "\n",
      "[2] id=NFS_2019-h-207 score=0.642\n",
      "heading: FEE SCHEDULE > 3.76 BR XXX XXX\n",
      "page: None\n",
      "--------------------------------------------------------------------------------\n",
      "3.76 BR XXX XXX\n",
      "\n",
      "[3] id=NFS_2019-11118 score=0.642\n",
      "heading: FEE SCHEDULE > CONVERSION FACTORS\n",
      "page: None\n",
      "--------------------------------------------------------------------------------\n",
      "Category III Codes\n",
      "\n",
      "[4] id=NFS_2019-11334 score=0.640\n",
      "heading: FEE SCHEDULE > N 25 8 28 3\n",
      "page: None\n",
      "--------------------------------------------------------------------------------\n",
      "Description\n",
      "\n",
      "[5] id=NFS_2019-11404 score=0.640\n",
      "heading: FEE SCHEDULE > N 25 8 28 3\n",
      "page: None\n",
      "--------------------------------------------------------------------------------\n",
      "Description\n",
      "\n",
      "[6] id=NFS_2019-488 score=0.640\n",
      "heading: FEE SCHEDULE > GENERAL GROUND RULES\n",
      "page: None\n",
      "--------------------------------------------------------------------------------\n",
      "97\n",
      "\n",
      "[7] id=NFS_2019-h-3 score=0.640\n",
      "heading: FEE SCHEDULE\n",
      "page: None\n",
      "--------------------------------------------------------------------------------\n",
      "FEE SCHEDULE\n",
      "\n",
      "[8] id=NFS_2019-10230 score=0.639\n",
      "heading: FEE SCHEDULE > MEDICINE GROUND RULES\n",
      "page: None\n",
      "--------------------------------------------------------------------------------\n",
      "3\n"
     ]
    }
   ],
   "source": [
    "# DEBUG: show full retrieved snippets for a question\n",
    "from pprint import pprint\n",
    "q = \"What are the Section 3 fees?\"\n",
    "\n",
    "snips, cits = await core._get_ctx(q, limit=8)   # internal helper; fine for notebooks\n",
    "print(\"Retrieved\", len(snips), \"snippets\")\n",
    "for i, s in enumerate(snips, 1):\n",
    "    m = s.get(\"metadata\", {})\n",
    "    print(f\"\\n[{i}] id={s['id']} score={s['score']:.3f}\")\n",
    "    print(\"heading:\", m.get(\"heading_path\"))\n",
    "    print(\"page:\", m.get(\"page\"))\n",
    "    print(\"-\"*80)\n",
    "    print(s[\"text\"])   # FULL TEXT (may be long)"
   ]
  },
  {
   "cell_type": "code",
   "execution_count": 9,
   "id": "86c8db41",
   "metadata": {},
   "outputs": [
    {
     "name": "stdout",
     "output_type": "stream",
     "text": [
      "You are a careful, grounded assistant. Use ONLY the provided CONTEXT to answer.\n",
      "Cite snippet ids you used.\n",
      "\n",
      "Return strictly in this JSON schema:\n",
      "The output should be formatted as a JSON instance that conforms to the JSON schema below.\n",
      "\n",
      "As an example, for the schema {\"properties\": {\"foo\": {\"title\": \"Foo\", \"description\": \"a list of strings\", \"type\": \"array\", \"items\": {\"type\": \"string\"}}}, \"required\": [\"foo\"]}\n",
      "the object {\"foo\": [\"bar\", \"baz\"]} is a well-formatted instance of the schema. The object {\"properties\": {\"foo\": [\"bar\", \"baz\"]}} is not well-formatted.\n",
      "\n",
      "Here is the output schema:\n",
      "```\n",
      "{\"$defs\": {\"Citation\": {\"properties\": {\"id\": {\"description\": \"Snippet id from retriever.\", \"title\": \"Id\", \"type\": \"string\"}, \"page\": {\"anyOf\": [{\"type\": \"integer\"}, {\"type\": \"null\"}], \"default\": null, \"description\": \"Page number if available.\", \"title\": \"Page\"}, \"heading_path\": {\"anyOf\": [{\"type\": \"string\"}, {\"type\": \"null\"}], \"default\": null, \"description\": \"Full heading path if available.\", \"title\": \"Heading Path\"}, \"table_id\": {\"anyOf\": [{\"type\": \"string\"}, {\"type\": \"null\"}], \"default\": null, \"description\": \"Source table id if applicable.\", \"title\": \"Table Id\"}, \"score\": {\"anyOf\": [{\"type\": \"number\"}, {\"type\": \"null\"}], \"default\": null, \"description\": \"Retriever score if available.\", \"title\": \"Score\"}}, \"required\": [\"id\"], \"title\": \"Citation\", \"type\": \"object\"}}, \"properties\": {\"answer\": {\"description\": \"Grounded answer text derived strictly from context.\", \"title\": \"Answer\", \"type\": \"string\"}, \"citations\": {\"description\": \"Minimal citation payload.\", \"items\": {\"$ref\": \"#/$defs/Citation\"}, \"title\": \"Citations\", \"type\": \"array\"}, \"notes\": {\"anyOf\": [{\"type\": \"string\"}, {\"type\": \"null\"}], \"default\": \"\", \"description\": \"Optional caveats or confidence notes.\", \"title\": \"Notes\"}}, \"required\": [\"answer\"]}\n",
      "```\n",
      "\n",
      "QUESTION:\n",
      "What are the Section 3 fees?\n",
      "\n",
      "CONTEXT (JSON list of top snippets):\n",
      "[{\"id\": \"NFS_2019-11267\", \"text\": \"Category III Codes\", \"metadata\": {\"heading_path\": \"FEE SCHEDULE > N 25 8 28 3\", \"doc_id\": \"NFS_2019\", \"page_start\": 5, \"block_type\": \"para\", \"page_end\": 5}, \"score\": 0.6500933298345947}, {\"id\": \"NFS_2019-h-207\", \"text\": \"3.76 BR XXX XXX\", \"metadata\": {\"block_type\": \"heading\", \"page_end\": 14, \"heading_path\": \"FEE SCHEDULE > 3.76 BR XXX XXX\", \"doc_id\": \"NFS_2019\", \"page_start\": 14}, \"score\": 0.64241311720471}, {\"id\": \"NFS_2019-11118\", \"text\": \"Category III Codes\", \"metadata\": {\"heading_path\": \"FEE SCHEDULE > CONVERSION FACTORS\", \"doc_id\": \"NFS_2019\", \"block_type\": \"para\", \"page_end\": 5, \"page_start\": 5}, \"score\": 0.6415055843189101}, {\"id\": \"NFS_2019-11334\", \"text\": \"Description\", \"metadata\": {\"page_start\": 8, \"block_type\": \"para\", \"doc_id\": \"NFS_2019\", \"heading_path\": \"FEE SCHEDULE > N 25 8 28 3\", \"page_end\": 8}, \"score\": 0.6399046284720062}, {\"id\": \"NFS_2019-11404\", \"text\": \"Description\", \"metadata\": {\"page_start\": 8, \"heading_path\": \"FEE SCHEDULE > N 25 8 28 3\", \"block_type\": \"para\", \"doc_id\": \"NFS_2019\", \"page_end\": 8}, \"score\": 0.6399046284720062\n"
     ]
    }
   ],
   "source": [
    "# DEBUG: show the exact prompt the model got (truncated for display)\n",
    "from langchain.output_parsers import PydanticOutputParser\n",
    "from packages.schemas.chat import CoreAnswer\n",
    "import json\n",
    "\n",
    "snips, cits = await core._get_ctx(q, limit=8)\n",
    "ctx_json = json.dumps(snips, ensure_ascii=False)\n",
    "parser = PydanticOutputParser(pydantic_object=CoreAnswer)\n",
    "prompt = core._prompt_tmpl.format(\n",
    "    question=q,\n",
    "    context_json=ctx_json,\n",
    "    format_instructions=parser.get_format_instructions()\n",
    ")\n",
    "\n",
    "print(prompt[:3000])  # truncate to avoid flooding the notebook"
   ]
  },
  {
   "cell_type": "code",
   "execution_count": 10,
   "id": "7b37526c",
   "metadata": {},
   "outputs": [
    {
     "name": "stdout",
     "output_type": "stream",
     "text": [
      "{\"citations\": [{\"id\": \"NFS_2019-11267\", \"text\": \"Category III Codes\", \"metadata\": {\"heading_path\": \"FEE SCHEDULE > N 25 8 28 3\", \"doc_id\": \"NFS_2019\", \"page_start\": 5, \"block_type\": \"para\", \"page_end\": 5}, \"score\": 0.6500933298345947}, {\"id\": \"NFS_2019-11334\", \"text\": \"Description\", \"metadata\": {\"page_start\": 8, \"block_type\": \"para\", \"doc_id\": \"NFS_2019\", \"heading_path\": \"FEE SCHEDULE > N 25 8 28 3\", \"page_end\": 8}, \"score\": 0.6399046284720062}, {\"id\": \"NFS_2019-11404\", \"text\": \"Description\", \"metadata\": {\"page_start\": 8, \"heading_path\": \"FEE SCHEDULE > N 25 8 28 3\", \"block_type\": \"para\", \"doc_id\": \"NFS_2019\", \"page_end\": 8}, \"score\": 0.6399046284720062}, {\"id\": \"NFS_2019-488\", \"text\": \"97\", \"metadata\": {\"page_end\": 7, \"block_type\": \"para\", \"heading_path\": \"FEE SCHEDULE > GENERAL GROUND RULES\", \"page_start\": 7, \"doc_id\": \"NFS_2019\"}, \"score\": 0.6397812271530076}, {\"id\": \"NFS_2019-10230\", \"text\": \"3\", \"metadata\": {\"heading_path\": \"FEE SCHEDULE > MEDICINE GROUND RULES\", \"doc_id\": \"NFS_2019\", \"page_start\": 2, \"page_end\": 2, \"block_type\": \"para\"}, \"score\": 0.6387779239485981}]}\n",
      "\n",
      "Snippet ids used:\n",
      "- NFS_2019-11267\n",
      "- NFS_2019-11334\n",
      "- NFS_2019-11404\n",
      "- NFS_2019-488\n",
      "- NFS_2019-10230\n"
     ]
    }
   ],
   "source": [
    "# DEBUG: raw model output (non-stream) before parsing\n",
    "msg = await mount.llm_core.ainvoke(prompt)\n",
    "raw = getattr(msg, \"content\", str(msg))\n",
    "print(raw)"
   ]
  },
  {
   "cell_type": "code",
   "execution_count": 11,
   "id": "7c4332bb",
   "metadata": {},
   "outputs": [
    {
     "name": "stdout",
     "output_type": "stream",
     "text": [
      "answer='{\"answer\": \"Section 3 fees are not explicitly stated in the provided context.\", \"citations\": [{\"id\": \"NFS_2019-11267\", \"text\": \"Category III Codes\", \"metadata\": {\"page_end\": 5, \"doc_id\": \"NFS_2019\", \"page_start\": 5, \"heading_path\": \"FEE SCHEDULE > N 25 8 28 3\", \"block_type\": \"para\"}, \"score\": 0.6500933298345947}, {\"id\": \"NFS_2019-h-207\", \"text\": \"3.76 BR XXX XXX\", \"metadata\": {\"doc_id\": \"NFS_2019\", \"page_end\": 14, \"heading_path\": \"FEE SCHEDULE > 3.76 BR XXX XXX\", \"page_start\": 14, \"block_type\": \"heading\"}, {\"id\": \"NFS_2019-11118\", \"text\": \"Category III Codes\", \"metadata\": {\"block_type\": \"para\", \"page_start\": 5, \"page_end\": 5, \"heading_path\": \"FEE SCHEDULE > CONVERSION FACTORS\", \"doc_id\": \"NFS_2019\"}, \"score\": 0.6415055843189101}, {\"id\": \"NFS_2019-11334\", \"text\": \"Description\", \"metadata\": {\"page_start\": 8, \"page_end\": 8, \"heading_path\": \"FEE SCHEDULE > N 25 8 28 3\", \"block_type\": \"para\", \"doc_id\": \"NFS_2019\"}, \"score\": 0.6399046284720062}, {\"id\": \"NFS_2019-11404\", \"text\": \"Description\", \"metadata\": {\"heading_path\": \"FEE SCHEDULE > N 25 8 28 3\", \"doc_id\": \"NFS_2019\", \"page_end\": 8, \"block_type\": \"para\", \"page_start\": 8}, \"score\": 0.6399046284720062}, {\"id\": \"NFS_2019-488\", \"text\": \"97\", \"metadata\": {\"page_end\": 7, \"block_type\": \"para\", \"doc_id\": \"NFS_2019\", \"heading_path\": \"FEE SCHEDULE > GENERAL GROUND RULES\", \"page_start\":' citations=[Citation(id='NFS_2019-11267', page=None, heading_path='FEE SCHEDULE > N 25 8 28 3', table_id=None, score=0.6500933298345947), Citation(id='NFS_2019-h-207', page=None, heading_path='FEE SCHEDULE > 3.76 BR XXX XXX', table_id=None, score=0.64241311720471)] notes=''\n"
     ]
    }
   ],
   "source": [
    "# DEBUG: see exactly what CoreRAG parsed into CoreAnswer\n",
    "parsed = await core.answer_one(q)\n",
    "print(parsed)"
   ]
  },
  {
   "cell_type": "code",
   "execution_count": 12,
   "id": "75f7f06b",
   "metadata": {},
   "outputs": [
    {
     "name": "stdout",
     "output_type": "stream",
     "text": [
      "{\"id\": \"CONV_FACTOR\", \"page\": null, \"heading_path\": \"FEE SCHEDULE > CONVERSION FACTORS\", \"table_id\": null, \"score\": null, \"answer\": \"The conversion factor is calculated as the ratio of the amount of\n",
      "\n",
      "— final —\n",
      "Answer: The conversion factor is calculated as the ratio of the amount of goods or services received to the value of those goods or services. ...\n",
      "Citations: ['NFS_2019-11219', 'NFS_2019-11040']\n"
     ]
    }
   ],
   "source": [
    "# --- 7) Core RAG: streaming answer_one ---\n",
    "from packages.chat.core_rag import CoreRAG  # (re-import after file change)\n",
    "core = CoreRAG(mount.retriever, mount.llm_core)\n",
    "\n",
    "q = \"Define 'conversion factor' used in this document.\"\n",
    "buf = \"\"\n",
    "async for ev in core.astream_one(q):\n",
    "    if ev.get(\"type\") == \"core_token\":\n",
    "        tok = ev.get(\"data\", \"\")\n",
    "        buf += tok\n",
    "        if len(buf) < 200 and tok.strip():\n",
    "            print(tok, end=\"\", flush=True)\n",
    "    elif ev.get(\"type\") == \"core_final\":\n",
    "        fin = ev[\"data\"]\n",
    "        print(\"\\n\\n— final —\")\n",
    "        print(\"Answer:\", fin.answer[:400], \"...\")\n",
    "        print(\"Citations:\", [c.id for c in fin.citations])"
   ]
  },
  {
   "cell_type": "code",
   "execution_count": 13,
   "id": "8f138d74",
   "metadata": {},
   "outputs": [
    {
     "name": "stdout",
     "output_type": "stream",
     "text": [
      "\n",
      "Q: What's the PDF version and publication year?\n",
      "A: {\"answer\": \"This publication is made available with the understanding that\\nthe publisher is not engaged in rendering legal and other\\nservices that require a professional license.\", \"citations\": [{\"id\": \"NFS_2019-12256\", \"text\": \"All rights reserved. Printed in the United States of America. No part ...\n",
      "Citations: ['NFS_2019-12256', 'NFS_2019-12']\n",
      "\n",
      "Q: Compute reimbursement for code 12345 from N 25 8 28 3.\n",
      "A: Reimbursement for code 12345 from N 25 8 28 3 is not explicitly stated in the provided context. ...\n",
      "Citations: ['NFS_2019-11403']\n"
     ]
    }
   ],
   "source": [
    "# --- 8) Core RAG: batch parallel answers ---\n",
    "qs = [\n",
    "    \"What's the PDF version and publication year?\",\n",
    "    \"Compute reimbursement for code 12345 from N 25 8 28 3.\"\n",
    "]\n",
    "\n",
    "batch = await core.answer_batch(qs)\n",
    "for q, a in zip(qs, batch):\n",
    "    print(\"\\nQ:\", q)\n",
    "    print(\"A:\", a.answer[:300], \"...\")\n",
    "    print(\"Citations:\", [c.id for c in a.citations])"
   ]
  },
  {
   "cell_type": "code",
   "execution_count": 14,
   "id": "5af4d4cd",
   "metadata": {},
   "outputs": [
    {
     "name": "stdout",
     "output_type": "stream",
     "text": [
      "Sanity assertions passed\n"
     ]
    }
   ],
   "source": [
    "# --- 9) sanity asserts (won't crash the run if they fail; tweak as needed) ---\n",
    "try:\n",
    "    # a) guard should mark a clearly unrelated question out-of-scope\n",
    "    g = route_scope(mount.llm_intro,\n",
    "                    doc_id=mount.profile.doc_id,\n",
    "                    sections_text=sections_text,\n",
    "                    abbreviations_text=abbreviations_text,\n",
    "                    user_query=\"Who won the Premier League in 2021?\")\n",
    "    assert g[\"decision\"][\"in_scope\"] is False\n",
    "\n",
    "    # b) splitter should produce 2+ items for multi-intent\n",
    "    sp = split_and_clean(mount.llm_splitter, \"Fees and conversion factor?\")\n",
    "    assert len(sp.questions) >= 1\n",
    "\n",
    "    # c) core answer should return citations list (even if fallback added)\n",
    "    a1 = await core.answer_one(\"What are the Section 3 fees?\")\n",
    "    assert getattr(a1, \"citations\", None) is not None and len(a1.citations) >= 1\n",
    "\n",
    "    print(\"Sanity assertions passed\")\n",
    "except AssertionError as e:\n",
    "    print(\"Sanity assert failed:\", e)"
   ]
  },
  {
   "cell_type": "code",
   "execution_count": 15,
   "id": "cf90abe4",
   "metadata": {},
   "outputs": [
    {
     "name": "stdout",
     "output_type": "stream",
     "text": [
      "intro   : Ready.\n",
      "splitter: I don't have enough information to determine whether you're referring to the movie \"Split\" or a mathematical concept. Could you please provi\n",
      "core    : def return_citations():\n",
      "    return {\"answer\": \"ok\", \"citations\": []}\n",
      "\n",
      "print(return_citations())\n",
      "output  : It seems like you're indicating that something is complete or confirmed. \"Ready\" implies preparation or anticipation, while \"ok\" indicates a\n"
     ]
    }
   ],
   "source": [
    "# --- 10) optional: tiny pings (safe) ---\n",
    "def safe_ping(llm, prompt):\n",
    "    try:\n",
    "        return llm.invoke(prompt).content[:140]\n",
    "    except Exception as e:\n",
    "        return f\"[unavailable: {type(e).__name__}]\"\n",
    "\n",
    "print(\"intro   :\", safe_ping(mount.llm_intro, \"Say 'ready'.\"))\n",
    "print(\"splitter:\", safe_ping(mount.llm_splitter, \"Split: A and B?\"))\n",
    "print(\"core    :\", safe_ping(mount.llm_core, \"Return exactly: {\\\"answer\\\":\\\"ok\\\",\\\"citations\\\":[]}\"))\n",
    "print(\"output  :\", safe_ping(mount.llm_output, \"Summarize: ready -> ok\"))"
   ]
  }
 ],
 "metadata": {
  "kernelspec": {
   "display_name": "pdf-agent-2",
   "language": "python",
   "name": "python3"
  },
  "language_info": {
   "codemirror_mode": {
    "name": "ipython",
    "version": 3
   },
   "file_extension": ".py",
   "mimetype": "text/x-python",
   "name": "python",
   "nbconvert_exporter": "python",
   "pygments_lexer": "ipython3",
   "version": "3.11.13"
  }
 },
 "nbformat": 4,
 "nbformat_minor": 5
}
